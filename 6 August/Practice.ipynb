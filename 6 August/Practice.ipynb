{
 "cells": [
  {
   "cell_type": "code",
   "execution_count": 0,
   "metadata": {
    "application/vnd.databricks.v1+cell": {
     "cellMetadata": {
      "byteLimit": 2048000,
      "rowLimit": 10000
     },
     "inputWidgets": {},
     "nuid": "087fdf37-5932-475f-a24a-0b8ef9c72be6",
     "showTitle": false,
     "tableResultSettingsMap": {},
     "title": ""
    }
   },
   "outputs": [
    {
     "output_type": "stream",
     "name": "stdout",
     "output_type": "stream",
     "text": [
      "+---------+-----------+--------+-----+\n|ProductID|ProductName|Quantity|Price|\n+---------+-----------+--------+-----+\n|     P001|   Notebook|       3|45000|\n|     P002|   Keyboard|       2| 7000|\n|     P003|      Mouse|       5| 4000|\n|     P004|    Monitor|       1|15000|\n|     P005|      Chair|       4| 8000|\n+---------+-----------+--------+-----+\n\n"
     ]
    }
   ],
   "source": [
    "data = [\n",
    "    (\"P001\", \"Notebook\", 3, 45000),\n",
    "    (\"P002\", \"Keyboard\", 2, 7000),\n",
    "    (\"P003\", \"Mouse\", 5, 4000),\n",
    "    (\"P004\", \"Monitor\", 1, 15000),\n",
    "    (\"P005\", \"Chair\", 4, 8000)\n",
    "]\n",
    "\n",
    "columns = [\"ProductID\", \"ProductName\", \"Quantity\", \"Price\"]\n",
    "\n",
    "df = spark.createDataFrame(data, columns)\n",
    "df.show()"
   ]
  },
  {
   "cell_type": "code",
   "execution_count": 0,
   "metadata": {
    "application/vnd.databricks.v1+cell": {
     "cellMetadata": {
      "byteLimit": 2048000,
      "rowLimit": 10000
     },
     "inputWidgets": {},
     "nuid": "2c88501d-baad-4a6d-bb59-ff1b8ec1f4dc",
     "showTitle": false,
     "tableResultSettingsMap": {},
     "title": ""
    }
   },
   "outputs": [
    {
     "output_type": "execute_result",
     "data": {
      "text/plain": [
       "5"
      ]
     },
     "execution_count": 4,
     "metadata": {},
     "output_type": "execute_result"
    }
   ],
   "source": [
    "df.count()"
   ]
  },
  {
   "cell_type": "code",
   "execution_count": 0,
   "metadata": {
    "application/vnd.databricks.v1+cell": {
     "cellMetadata": {
      "byteLimit": 2048000,
      "rowLimit": 10000
     },
     "inputWidgets": {},
     "nuid": "c885c763-d532-4975-b5a9-d5a4851a1a0c",
     "showTitle": false,
     "tableResultSettingsMap": {},
     "title": ""
    }
   },
   "outputs": [
    {
     "output_type": "stream",
     "name": "stdout",
     "output_type": "stream",
     "text": [
      "+---------+-----------+--------+-----+-------+\n|ProductID|ProductName|Quantity|Price|Revenue|\n+---------+-----------+--------+-----+-------+\n|     P001|   Notebook|       3|45000| 135000|\n|     P002|   Keyboard|       2| 7000|  14000|\n|     P003|      Mouse|       5| 4000|  20000|\n|     P004|    Monitor|       1|15000|  15000|\n|     P005|      Chair|       4| 8000|  32000|\n+---------+-----------+--------+-----+-------+\n\n"
     ]
    }
   ],
   "source": [
    "from pyspark.sql.functions import col\n",
    "\n",
    "df_with_revenue = df.withColumn(\"Revenue\", col(\"Quantity\") * col(\"Price\"))\n",
    "df_with_revenue.show()"
   ]
  },
  {
   "cell_type": "code",
   "execution_count": 0,
   "metadata": {
    "application/vnd.databricks.v1+cell": {
     "cellMetadata": {
      "byteLimit": 2048000,
      "rowLimit": 10000
     },
     "inputWidgets": {},
     "nuid": "ebeaf950-5845-45f0-82c1-d84b978f1fe7",
     "showTitle": false,
     "tableResultSettingsMap": {},
     "title": ""
    }
   },
   "outputs": [
    {
     "output_type": "stream",
     "name": "stdout",
     "output_type": "stream",
     "text": [
      "+---------+-----------+--------+-----+\n|ProductID|ProductName|Quantity|Price|\n+---------+-----------+--------+-----+\n|     P001|   Notebook|       3|45000|\n|     P004|    Monitor|       1|15000|\n+---------+-----------+--------+-----+\n\n"
     ]
    }
   ],
   "source": [
    "df.filter(col(\"Price\") > 10000).show()"
   ]
  }
 ],
 "metadata": {
  "application/vnd.databricks.v1+notebook": {
   "computePreferences": null,
   "dashboards": [],
   "environmentMetadata": {
    "base_environment": "",
    "environment_version": "2"
   },
   "inputWidgetPreferences": null,
   "language": "python",
   "notebookMetadata": {
    "pythonIndentUnit": 4
   },
   "notebookName": "Practice",
   "widgets": {}
  },
  "language_info": {
   "name": "python"
  }
 },
 "nbformat": 4,
 "nbformat_minor": 0
}