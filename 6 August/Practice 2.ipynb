{
 "cells": [
  {
   "cell_type": "code",
   "execution_count": 0,
   "metadata": {
    "application/vnd.databricks.v1+cell": {
     "cellMetadata": {
      "byteLimit": 2048000,
      "rowLimit": 10000
     },
     "inputWidgets": {},
     "nuid": "9d82a45a-d7b8-4ed4-a000-b1753c75a86a",
     "showTitle": false,
     "tableResultSettingsMap": {},
     "title": ""
    }
   },
   "outputs": [],
   "source": [
    "from pyspark.sql import SparkSession\n",
    "from pyspark.sql.functions import col, expr\n",
    "\n",
    "\n",
    "spark = SparkSession.builder.appName(\"EmployeeSalesAnalysis\").getOrCreate()\n",
    "\n",
    "\n",
    "data = [\n",
    "    (\"E101\", \"Amit\", \"Sales\", 10, 1200),\n",
    "    (\"E102\", \"Sneha\", \"Marketing\", 8, 1500),\n",
    "    (\"E103\", \"Ravi\", \"Sales\", 12, 1300),\n",
    "    (\"E104\", \"Anjali\", \"HR\", 7, 1100),\n",
    "    (\"E105\", \"Raj\", \"Sales\", 5, 1000)\n",
    "]\n",
    "\n",
    "columns = [\"EmpID\", \"Name\", \"Department\", \"UnitsSold\", \"UnitPrice\"]\n",
    "\n",
    "df = spark.createDataFrame(data, columns)"
   ]
  },
  {
   "cell_type": "code",
   "execution_count": 0,
   "metadata": {
    "application/vnd.databricks.v1+cell": {
     "cellMetadata": {
      "byteLimit": 2048000,
      "rowLimit": 10000
     },
     "inputWidgets": {},
     "nuid": "027c3a88-cfca-4252-85ca-7a723637dc1a",
     "showTitle": false,
     "tableResultSettingsMap": {},
     "title": ""
    }
   },
   "outputs": [
    {
     "output_type": "execute_result",
     "data": {
      "text/plain": [
       "5"
      ]
     },
     "execution_count": 2,
     "metadata": {},
     "output_type": "execute_result"
    }
   ],
   "source": [
    "df.count()"
   ]
  },
  {
   "cell_type": "code",
   "execution_count": 0,
   "metadata": {
    "application/vnd.databricks.v1+cell": {
     "cellMetadata": {
      "byteLimit": 2048000,
      "rowLimit": 10000
     },
     "inputWidgets": {},
     "nuid": "553aec53-2f58-41e7-a4d2-e63846ca5270",
     "showTitle": false,
     "tableResultSettingsMap": {},
     "title": ""
    }
   },
   "outputs": [],
   "source": [
    "df=df.withColumn(\"TotalSales\", col(\"UnitsSold\") * col(\"UnitPrice\"))"
   ]
  },
  {
   "cell_type": "code",
   "execution_count": 0,
   "metadata": {
    "application/vnd.databricks.v1+cell": {
     "cellMetadata": {
      "byteLimit": 2048000,
      "rowLimit": 10000
     },
     "inputWidgets": {},
     "nuid": "e93c8ac9-fdbf-4f79-aa65-a796453b2d71",
     "showTitle": false,
     "tableResultSettingsMap": {},
     "title": ""
    }
   },
   "outputs": [
    {
     "output_type": "stream",
     "name": "stdout",
     "output_type": "stream",
     "text": [
      "+-----+------+----------+---------+---------+----------+\n|EmpID|  Name|Department|UnitsSold|UnitPrice|TotalSales|\n+-----+------+----------+---------+---------+----------+\n| E101|  Amit|     Sales|       10|     1200|     12000|\n| E102| Sneha| Marketing|        8|     1500|     12000|\n| E103|  Ravi|     Sales|       12|     1300|     15600|\n| E104|Anjali|        HR|        7|     1100|      7700|\n| E105|   Raj|     Sales|        5|     1000|      5000|\n+-----+------+----------+---------+---------+----------+\n\n"
     ]
    }
   ],
   "source": [
    "df.show()"
   ]
  },
  {
   "cell_type": "code",
   "execution_count": 0,
   "metadata": {
    "application/vnd.databricks.v1+cell": {
     "cellMetadata": {
      "byteLimit": 2048000,
      "rowLimit": 10000
     },
     "inputWidgets": {},
     "nuid": "0d9188ed-11f8-4882-9324-f88b07eec5bb",
     "showTitle": false,
     "tableResultSettingsMap": {},
     "title": ""
    }
   },
   "outputs": [
    {
     "output_type": "stream",
     "name": "stdout",
     "output_type": "stream",
     "text": [
      "+-----+----+----------+---------+---------+----------+\n|EmpID|Name|Department|UnitsSold|UnitPrice|TotalSales|\n+-----+----+----------+---------+---------+----------+\n| E103|Ravi|     Sales|       12|     1300|     15600|\n+-----+----+----------+---------+---------+----------+\n\n"
     ]
    }
   ],
   "source": [
    "df.filter((col(\"Department\") == \"Sales\") & (col(\"TotalSales\") > 12000)).show()"
   ]
  },
  {
   "cell_type": "code",
   "execution_count": 0,
   "metadata": {
    "application/vnd.databricks.v1+cell": {
     "cellMetadata": {
      "byteLimit": 2048000,
      "rowLimit": 10000
     },
     "inputWidgets": {},
     "nuid": "22029f75-b1c4-40ee-9311-a73b671c4f5f",
     "showTitle": false,
     "tableResultSettingsMap": {},
     "title": ""
    }
   },
   "outputs": [
    {
     "output_type": "stream",
     "name": "stdout",
     "output_type": "stream",
     "text": [
      "+-----+----+----------+---------+---------+----------+\n|EmpID|Name|Department|UnitsSold|UnitPrice|TotalSales|\n+-----+----+----------+---------+---------+----------+\n| E103|Ravi|     Sales|       12|     1300|     15600|\n+-----+----+----------+---------+---------+----------+\n\n"
     ]
    }
   ],
   "source": [
    "df.orderBy(col(\"TotalSales\").desc()).limit(1).show()"
   ]
  },
  {
   "cell_type": "code",
   "execution_count": 0,
   "metadata": {
    "application/vnd.databricks.v1+cell": {
     "cellMetadata": {
      "byteLimit": 2048000,
      "rowLimit": 10000
     },
     "inputWidgets": {},
     "nuid": "52a0c861-48e7-4fb4-b91f-86694976f5c7",
     "showTitle": false,
     "tableResultSettingsMap": {},
     "title": ""
    }
   },
   "outputs": [
    {
     "output_type": "stream",
     "name": "stdout",
     "output_type": "stream",
     "text": [
      "+-----+------+----------+---------+---------+----------+\n|EmpID|  Name|Department|UnitsSold|UnitPrice|TotalSales|\n+-----+------+----------+---------+---------+----------+\n| E103|  Ravi|     Sales|       12|     1300|     15600|\n| E101|  Amit|     Sales|       10|     1200|     12000|\n| E102| Sneha| Marketing|        8|     1500|     12000|\n| E104|Anjali|        HR|        7|     1100|      7700|\n| E105|   Raj|     Sales|        5|     1000|      5000|\n+-----+------+----------+---------+---------+----------+\n\n"
     ]
    }
   ],
   "source": [
    "df.orderBy(col(\"TotalSales\").desc()).show()"
   ]
  }
 ],
 "metadata": {
  "application/vnd.databricks.v1+notebook": {
   "computePreferences": null,
   "dashboards": [],
   "environmentMetadata": {
    "base_environment": "",
    "environment_version": "2"
   },
   "inputWidgetPreferences": null,
   "language": "python",
   "notebookMetadata": {
    "pythonIndentUnit": 4
   },
   "notebookName": "Practice 2",
   "widgets": {}
  },
  "language_info": {
   "name": "python"
  }
 },
 "nbformat": 4,
 "nbformat_minor": 0
}