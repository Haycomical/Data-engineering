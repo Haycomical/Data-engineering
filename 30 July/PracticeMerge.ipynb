{
  "nbformat": 4,
  "nbformat_minor": 0,
  "metadata": {
    "colab": {
      "provenance": []
    },
    "kernelspec": {
      "name": "python3",
      "display_name": "Python 3"
    },
    "language_info": {
      "name": "python"
    }
  },
  "cells": [
    {
      "cell_type": "code",
      "execution_count": 1,
      "metadata": {
        "colab": {
          "base_uri": "https://localhost:8080/"
        },
        "id": "1UDuoHVJYOLE",
        "outputId": "8293c8f1-6635-43d6-d212-816657a21333"
      },
      "outputs": [
        {
          "output_type": "stream",
          "name": "stdout",
          "text": [
            "   EmpID   Name   Department\n",
            "0    101   Amit        Sales\n",
            "1    102  Anita  Engineering\n",
            "2    103  Kabir           HR\n",
            "3    104  Sneha    Marketing\n",
            "4    105   Ravi  Engineering\n",
            "    Department   Location\n",
            "0        Sales     Mumbai\n",
            "1  Engineering  Bangalore\n",
            "2           HR      Delhi\n",
            "3    Marketing    Chennai\n"
          ]
        }
      ],
      "source": [
        "import pandas as pd\n",
        "\n",
        "# Create employees CSV\n",
        "emp_data = \"\"\"EmpID,Name,Department\n",
        "101,Amit,Sales\n",
        "102,Anita,Engineering\n",
        "103,Kabir,HR\n",
        "104,Sneha,Marketing\n",
        "105,Ravi,Engineering\n",
        "\"\"\"\n",
        "with open('employees.csv', 'w') as f:\n",
        "    f.write(emp_data)\n",
        "\n",
        "# Create departments CSV\n",
        "dept_data = \"\"\"Department,Location\n",
        "Sales,Mumbai\n",
        "Engineering,Bangalore\n",
        "HR,Delhi\n",
        "Marketing,Chennai\n",
        "\"\"\"\n",
        "with open('departments.csv', 'w') as f:\n",
        "    f.write(dept_data)\n",
        "\n",
        "# Read both\n",
        "df_emp = pd.read_csv('employees.csv')\n",
        "df_dept = pd.read_csv('departments.csv')\n",
        "\n",
        "print(df_emp)\n",
        "print(df_dept)"
      ]
    },
    {
      "cell_type": "code",
      "source": [
        "merged_df = pd.merge(df_emp, df_dept, on='Department', how='inner')\n",
        "print(merged_df)"
      ],
      "metadata": {
        "colab": {
          "base_uri": "https://localhost:8080/"
        },
        "id": "B2rNGlrzYUSP",
        "outputId": "1250996c-7b51-4581-bc06-ab0cdd03a462"
      },
      "execution_count": 2,
      "outputs": [
        {
          "output_type": "stream",
          "name": "stdout",
          "text": [
            "   EmpID   Name   Department   Location\n",
            "0    101   Amit        Sales     Mumbai\n",
            "1    102  Anita  Engineering  Bangalore\n",
            "2    103  Kabir           HR      Delhi\n",
            "3    104  Sneha    Marketing    Chennai\n",
            "4    105   Ravi  Engineering  Bangalore\n"
          ]
        }
      ]
    }
  ]
}