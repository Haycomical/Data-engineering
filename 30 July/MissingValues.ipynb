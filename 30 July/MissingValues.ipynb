{
  "cells": [
    {
      "cell_type": "code",
      "source": [
        "import pandas as pd\n",
        "\n",
        "\n",
        "csv_data = \"\"\"Name,Age,Department,Salary\n",
        "Aarav,28,Sales,50000\n",
        "Sneha,,Engineering,80000\n",
        "Kabir,25,HR,\n",
        "Anaya,29,,60000\n",
        "Rohan,35,Engineering,85000\n",
        "\"\"\"\n",
        "\n",
        "with open('employees.csv', 'w') as f:\n",
        "    f.write(csv_data)\n",
        "df = pd.read_csv('employees.csv')"
      ],
      "metadata": {
        "id": "E0TsyLTLWaMc"
      },
      "id": "E0TsyLTLWaMc",
      "execution_count": 1,
      "outputs": []
    },
    {
      "cell_type": "code",
      "source": [
        "print(df.isnull())\n",
        "print(df.isnull().sum())"
      ],
      "metadata": {
        "colab": {
          "base_uri": "https://localhost:8080/"
        },
        "id": "MILmO-OdWhi4",
        "outputId": "8ecfacca-4b55-4539-8996-25e946b07701"
      },
      "id": "MILmO-OdWhi4",
      "execution_count": 2,
      "outputs": [
        {
          "output_type": "stream",
          "name": "stdout",
          "text": [
            "    Name    Age  Department  Salary\n",
            "0  False  False       False   False\n",
            "1  False   True       False   False\n",
            "2  False  False       False    True\n",
            "3  False  False        True   False\n",
            "4  False  False       False   False\n",
            "Name          0\n",
            "Age           1\n",
            "Department    1\n",
            "Salary        1\n",
            "dtype: int64\n"
          ]
        }
      ]
    },
    {
      "cell_type": "code",
      "source": [
        "df_cleaned = df.dropna()\n",
        "print(df_cleaned)"
      ],
      "metadata": {
        "colab": {
          "base_uri": "https://localhost:8080/"
        },
        "id": "aTA0qpOgWsSe",
        "outputId": "b0ac9f75-6cc5-47a3-823e-5ff10aaf6387"
      },
      "id": "aTA0qpOgWsSe",
      "execution_count": 4,
      "outputs": [
        {
          "output_type": "stream",
          "name": "stdout",
          "text": [
            "    Name   Age   Department   Salary\n",
            "0  Aarav  28.0        Sales  50000.0\n",
            "4  Rohan  35.0  Engineering  85000.0\n"
          ]
        }
      ]
    },
    {
      "cell_type": "code",
      "source": [
        "df['Age'] = df['Age'].fillna(df['Age'].mean())\n",
        "df['Department'] = df['Department'].fillna(\"Unknown\")\n"
      ],
      "metadata": {
        "id": "UphwjdvwWwWU"
      },
      "id": "UphwjdvwWwWU",
      "execution_count": 15,
      "outputs": []
    },
    {
      "cell_type": "code",
      "source": [
        "df['Salary'] = df['Salary'].fillna(df['Salary'].mean())"
      ],
      "metadata": {
        "id": "meAy3RE6XhMf"
      },
      "id": "meAy3RE6XhMf",
      "execution_count": 19,
      "outputs": []
    },
    {
      "cell_type": "code",
      "source": [
        "print(df)"
      ],
      "metadata": {
        "colab": {
          "base_uri": "https://localhost:8080/"
        },
        "id": "XQnj0B1tW71U",
        "outputId": "cd057585-1511-4007-8e24-e1ad076436a4"
      },
      "id": "XQnj0B1tW71U",
      "execution_count": 20,
      "outputs": [
        {
          "output_type": "stream",
          "name": "stdout",
          "text": [
            "    Name    Age   Department   Salary\n",
            "0  Aarav  28.00        Sales  50000.0\n",
            "1  Sneha  29.25  Engineering  80000.0\n",
            "2  Kabir  25.00           HR      0.0\n",
            "3  Anaya  29.00      Unknown  60000.0\n",
            "4  Rohan  35.00  Engineering  85000.0\n"
          ]
        }
      ]
    }
  ],
  "metadata": {
    "colab": {
      "provenance": []
    },
    "language_info": {
      "name": "python"
    },
    "kernelspec": {
      "name": "python3",
      "display_name": "Python 3"
    }
  },
  "nbformat": 4,
  "nbformat_minor": 5
}