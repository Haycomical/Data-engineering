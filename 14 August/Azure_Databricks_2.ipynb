{
  "cells": [
    {
      "cell_type": "code",
      "execution_count": 12,
      "id": "d03800ca",
      "metadata": {
        "colab": {
          "base_uri": "https://localhost:8080/"
        },
        "id": "d03800ca",
        "outputId": "aa472d19-5bcb-4c07-9433-c4f5763810ea"
      },
      "outputs": [
        {
          "output_type": "stream",
          "name": "stdout",
          "text": [
            "Using existing SparkSession.\n",
            "Spark version: 3.5.0\n"
          ]
        }
      ],
      "source": [
        "try:\n",
        "    spark\n",
        "    print(\"Using existing SparkSession.\")\n",
        "except NameError:\n",
        "    print(\"No SparkSession found. Installing pyspark + delta-spark and configuring...\")\n",
        "    import sys, subprocess\n",
        "    subprocess.check_call([sys.executable, \"-m\", \"pip\", \"install\", \"pyspark==3.5.0\", \"delta-spark==3.1.0\"])\n",
        "    from pyspark.sql import SparkSession\n",
        "    from delta import configure_spark_with_delta_pip\n",
        "    builder = (\n",
        "        SparkSession.builder.appName(\"DeltaRideHailing\")\n",
        "        .config(\"spark.sql.extensions\",\"io.delta.sql.DeltaSparkSessionExtension\")\n",
        "        .config(\"spark.sql.catalog.spark_catalog\",\"org.apache.spark.sql.delta.catalog.DeltaCatalog\")\n",
        "    )\n",
        "    spark = configure_spark_with_delta_pip(builder).getOrCreate()\n",
        "\n",
        "from pyspark.sql import functions as F, types as T\n",
        "spark.sql(\"set spark.sql.shuffle.partitions=8\")\n",
        "print(\"Spark version:\", spark.version)\n"
      ]
    },
    {
      "cell_type": "code",
      "execution_count": 33,
      "id": "1845e763",
      "metadata": {
        "id": "1845e763"
      },
      "outputs": [],
      "source": [
        "import datetime\n",
        "\n",
        "trip_schema = T.StructType([\n",
        "    T.StructField(\"trip_id\",      T.IntegerType()),\n",
        "    T.StructField(\"rider_id\",     T.StringType()),\n",
        "    T.StructField(\"driver_id\",    T.StringType()),\n",
        "    T.StructField(\"city\",         T.StringType()),\n",
        "    T.StructField(\"distance_km\",  T.DoubleType()),\n",
        "    T.StructField(\"fare\",         T.DoubleType()),\n",
        "    T.StructField(\"tip\",          T.DoubleType()),\n",
        "    T.StructField(\"ts\",           T.TimestampType()),\n",
        "])\n",
        "driver_schema = T.StructType([\n",
        "    T.StructField(\"driver_id\",   T.StringType()),\n",
        "    T.StructField(\"driver_name\", T.StringType()),\n",
        "    T.StructField(\"rating\",      T.DoubleType()),\n",
        "    T.StructField(\"vehicle\",     T.StringType()),\n",
        "])\n",
        "\n",
        "trips_rows = [\n",
        "    (1001,\"R001\",\"D010\",\"Bengaluru\", 12.4, 320.0, 20.0, datetime.datetime(2025, 8, 8, 8, 5, 0)),\n",
        "    (1002,\"R002\",\"D011\",\"Hyderabad\",  6.2, 150.0, 10.0, datetime.datetime(2025, 8, 8, 8, 15, 0)),\n",
        "    (1003,\"R003\",\"D012\",\"Pune\",       3.5,  90.0,  0.0, datetime.datetime(2025, 8, 8, 8, 20, 0)),\n",
        "    (1004,\"R001\",\"D010\",\"Bengaluru\", 18.9, 480.0, 25.0, datetime.datetime(2025, 8, 8, 8, 45, 0)),\n",
        "    (1005,\"R004\",\"D013\",\"Chennai\",   10.0, 260.0, 15.0, datetime.datetime(2025, 8, 8, 9, 5, 0)),\n",
        "    (1006,\"R005\",\"D012\",\"Pune\",       2.2,  70.0,  0.0, datetime.datetime(2025, 8, 8, 9, 10, 0)),\n",
        "]\n",
        "drivers_rows = [\n",
        "    (\"D010\",\"Anil\",   4.8,\"WagonR\"),\n",
        "    (\"D011\",\"Sana\",   4.6,\"i20\"),\n",
        "    (\"D012\",\"Rakesh\", 4.4,\"Swift\"),\n",
        "    (\"D013\",\"Meera\",  4.9,\"Ciaz\"),\n",
        "]"
      ]
    },
    {
      "cell_type": "code",
      "source": [
        "trips_df   = spark.createDataFrame(trips_rows, schema=trip_schema)\n",
        "drivers_df = spark.createDataFrame(drivers_rows, schema=driver_schema)\n",
        "\n",
        "BASE = \"/tmp/delta/ride_hailing\"\n",
        "TRIPS_PATH   = f\"{BASE}/trips\"\n",
        "DRIVERS_PATH = f\"{BASE}/drivers\"\n",
        "\n",
        "trips_df.write.format(\"delta\").mode(\"overwrite\").save(TRIPS_PATH)\n",
        "drivers_df.write.format(\"delta\").mode(\"overwrite\").save(DRIVERS_PATH)\n",
        "\n",
        "print(\"Seeded:\")\n",
        "print(\"  Trips  ->\", TRIPS_PATH)\n",
        "print(\"  Drivers->\", DRIVERS_PATH)"
      ],
      "metadata": {
        "colab": {
          "base_uri": "https://localhost:8080/"
        },
        "id": "uHKy0XS3X_A6",
        "outputId": "d51808cd-688b-4a76-8713-0519372a84bb"
      },
      "id": "uHKy0XS3X_A6",
      "execution_count": 34,
      "outputs": [
        {
          "output_type": "stream",
          "name": "stdout",
          "text": [
            "Seeded:\n",
            "  Trips  -> /tmp/delta/ride_hailing/trips\n",
            "  Drivers-> /tmp/delta/ride_hailing/drivers\n"
          ]
        }
      ]
    },
    {
      "cell_type": "code",
      "execution_count": 35,
      "id": "7a6367c6",
      "metadata": {
        "colab": {
          "base_uri": "https://localhost:8080/"
        },
        "id": "7a6367c6",
        "outputId": "5369ed36-5112-4625-ce5f-ae5916278a66"
      },
      "outputs": [
        {
          "output_type": "execute_result",
          "data": {
            "text/plain": [
              "DataFrame[]"
            ]
          },
          "metadata": {},
          "execution_count": 35
        }
      ],
      "source": [
        "spark.sql(\"drop table if exists trips_managed\")\n",
        "spark.sql(\"drop table if exists drivers_ext\")"
      ]
    },
    {
      "cell_type": "code",
      "source": [
        "spark.sql(f'''\n",
        "  create table trips_managed\n",
        "  using delta\n",
        "  as select * from delta.`{TRIPS_PATH}`\n",
        "''')"
      ],
      "metadata": {
        "colab": {
          "base_uri": "https://localhost:8080/"
        },
        "id": "_9dNyLBWYquu",
        "outputId": "4355755e-87cc-44d8-dc6f-3fdb5be62efb"
      },
      "id": "_9dNyLBWYquu",
      "execution_count": 36,
      "outputs": [
        {
          "output_type": "execute_result",
          "data": {
            "text/plain": [
              "DataFrame[]"
            ]
          },
          "metadata": {},
          "execution_count": 36
        }
      ]
    },
    {
      "cell_type": "code",
      "source": [
        "spark.sql(f'''\n",
        "  create table drivers_ext\n",
        "  using delta\n",
        "  location '{DRIVERS_PATH}'\n",
        "''')"
      ],
      "metadata": {
        "colab": {
          "base_uri": "https://localhost:8080/"
        },
        "id": "l5qYeIflYp0a",
        "outputId": "33a00cac-a80e-4fe9-e9eb-bfaec1ff893a"
      },
      "id": "l5qYeIflYp0a",
      "execution_count": 37,
      "outputs": [
        {
          "output_type": "execute_result",
          "data": {
            "text/plain": [
              "DataFrame[]"
            ]
          },
          "metadata": {},
          "execution_count": 37
        }
      ]
    },
    {
      "cell_type": "code",
      "source": [
        "print(\"DESCRIBE DETAIL trips_managed\")\n",
        "spark.sql(\"describe detail trips_managed\").show(truncate=False)\n",
        "\n",
        "print(\"DESCRIBE DETAIL drivers_ext\")\n",
        "spark.sql(\"describe detail drivers_ext\").show(truncate=False)\n",
        "\n",
        "print('''\n",
        "Difference:\n",
        "- Managed: data stored under metastore location; dropping the table deletes data.\n",
        "- External: just a pointer to path; drop does NOT delete files at that path.\n",
        "''')\n"
      ],
      "metadata": {
        "colab": {
          "base_uri": "https://localhost:8080/"
        },
        "id": "mPc9z2rcYpv5",
        "outputId": "983f9a29-a3f2-4a3b-cce2-7b51049c59b6"
      },
      "id": "mPc9z2rcYpv5",
      "execution_count": 41,
      "outputs": [
        {
          "output_type": "stream",
          "name": "stdout",
          "text": [
            "DESCRIBE DETAIL trips_managed\n",
            "+------+------------------------------------+-----------------------------------+-----------+-------------------------------------------+-----------------------+-----------------------+----------------+--------+-----------+----------+----------------+----------------+------------------------+\n",
            "|format|id                                  |name                               |description|location                                   |createdAt              |lastModified           |partitionColumns|numFiles|sizeInBytes|properties|minReaderVersion|minWriterVersion|tableFeatures           |\n",
            "+------+------------------------------------+-----------------------------------+-----------+-------------------------------------------+-----------------------+-----------------------+----------------+--------+-----------+----------+----------------+----------------+------------------------+\n",
            "|delta |b47c64dd-9440-4001-ab11-def0ccf99f08|spark_catalog.default.trips_managed|NULL       |file:/content/spark-warehouse/trips_managed|2025-08-14 11:41:28.982|2025-08-14 11:41:33.282|[]              |2       |4536       |{}        |1               |2               |[appendOnly, invariants]|\n",
            "+------+------------------------------------+-----------------------------------+-----------+-------------------------------------------+-----------------------+-----------------------+----------------+--------+-----------+----------+----------------+----------------+------------------------+\n",
            "\n",
            "DESCRIBE DETAIL drivers_ext\n",
            "+------+------------------------------------+---------------------------------+-----------+------------------------------------+-----------------------+-----------------------+----------------+--------+-----------+----------+----------------+----------------+------------------------+\n",
            "|format|id                                  |name                             |description|location                            |createdAt              |lastModified           |partitionColumns|numFiles|sizeInBytes|properties|minReaderVersion|minWriterVersion|tableFeatures           |\n",
            "+------+------------------------------------+---------------------------------+-----------+------------------------------------+-----------------------+-----------------------+----------------+--------+-----------+----------+----------------+----------------+------------------------+\n",
            "|delta |9459b3a3-1bdc-42f7-8577-d0f7319a5cce|spark_catalog.default.drivers_ext|NULL       |file:/tmp/delta/ride_hailing/drivers|2025-08-14 11:40:53.444|2025-08-14 11:40:55.576|[]              |2       |2481       |{}        |1               |2               |[appendOnly, invariants]|\n",
            "+------+------------------------------------+---------------------------------+-----------+------------------------------------+-----------------------+-----------------------+----------------+--------+-----------+----------+----------------+----------------+------------------------+\n",
            "\n",
            "\n",
            "Difference:\n",
            "- Managed: data stored under metastore location; dropping the table deletes data.\n",
            "- External: just a pointer to path; drop does NOT delete files at that path.\n",
            "\n"
          ]
        }
      ]
    },
    {
      "cell_type": "code",
      "execution_count": 49,
      "id": "1cdbcbdb",
      "metadata": {
        "colab": {
          "base_uri": "https://localhost:8080/"
        },
        "id": "1cdbcbdb",
        "outputId": "468b4d64-7873-4248-83cc-fd3b86f6e845"
      },
      "outputs": [
        {
          "output_type": "stream",
          "name": "stdout",
          "text": [
            "root\n",
            " |-- trip_id: integer (nullable = true)\n",
            " |-- rider_id: string (nullable = true)\n",
            " |-- driver_id: string (nullable = true)\n",
            " |-- city: string (nullable = true)\n",
            " |-- distance_km: double (nullable = true)\n",
            " |-- fare: double (nullable = true)\n",
            " |-- tip: double (nullable = true)\n",
            " |-- ts: timestamp (nullable = true)\n",
            "\n",
            "root\n",
            " |-- driver_id: string (nullable = true)\n",
            " |-- driver_name: string (nullable = true)\n",
            " |-- rating: double (nullable = true)\n",
            " |-- vehicle: string (nullable = true)\n",
            "\n"
          ]
        }
      ],
      "source": [
        "df_trips   = spark.table(\"trips_managed\")\n",
        "df_drivers = spark.table(\"drivers_ext\")\n",
        "\n",
        "df_trips.printSchema()\n",
        "df_drivers.printSchema()"
      ]
    },
    {
      "cell_type": "code",
      "source": [
        "print(\"Trips (10 rows):\")\n",
        "df_trips.show(10, truncate=False)\n",
        "\n",
        "print(\"Derived column total_amount = fare + tip; top 5 by total_amount\")\n",
        "df_trips = df_trips.withColumn(\"total_amount\", F.col(\"fare\") + F.col(\"tip\"))\n",
        "df_trips.orderBy(F.col(\"total_amount\").desc()).show(5, truncate=False)"
      ],
      "metadata": {
        "colab": {
          "base_uri": "https://localhost:8080/"
        },
        "id": "aINjaC_XY8vK",
        "outputId": "6bb7ea43-fcee-4589-c1c4-72e136bbacd9"
      },
      "id": "aINjaC_XY8vK",
      "execution_count": 50,
      "outputs": [
        {
          "output_type": "stream",
          "name": "stdout",
          "text": [
            "Trips (10 rows):\n",
            "+-------+--------+---------+---------+-----------+-----+----+-------------------+\n",
            "|trip_id|rider_id|driver_id|city     |distance_km|fare |tip |ts                 |\n",
            "+-------+--------+---------+---------+-----------+-----+----+-------------------+\n",
            "|1001   |R001    |D010     |Bengaluru|12.4       |320.0|20.0|2025-08-08 08:05:00|\n",
            "|1002   |R002    |D011     |Hyderabad|6.2        |150.0|10.0|2025-08-08 08:15:00|\n",
            "|1003   |R003    |D012     |Pune     |3.5        |90.0 |0.0 |2025-08-08 08:20:00|\n",
            "|1004   |R001    |D010     |Bengaluru|18.9       |480.0|25.0|2025-08-08 08:45:00|\n",
            "|1005   |R004    |D013     |Chennai  |10.0       |260.0|15.0|2025-08-08 09:05:00|\n",
            "|1006   |R005    |D012     |Pune     |2.2        |70.0 |0.0 |2025-08-08 09:10:00|\n",
            "+-------+--------+---------+---------+-----------+-----+----+-------------------+\n",
            "\n",
            "Derived column total_amount = fare + tip; top 5 by total_amount\n",
            "+-------+--------+---------+---------+-----------+-----+----+-------------------+------------+\n",
            "|trip_id|rider_id|driver_id|city     |distance_km|fare |tip |ts                 |total_amount|\n",
            "+-------+--------+---------+---------+-----------+-----+----+-------------------+------------+\n",
            "|1004   |R001    |D010     |Bengaluru|18.9       |480.0|25.0|2025-08-08 08:45:00|505.0       |\n",
            "|1001   |R001    |D010     |Bengaluru|12.4       |320.0|20.0|2025-08-08 08:05:00|340.0       |\n",
            "|1005   |R004    |D013     |Chennai  |10.0       |260.0|15.0|2025-08-08 09:05:00|275.0       |\n",
            "|1002   |R002    |D011     |Hyderabad|6.2        |150.0|10.0|2025-08-08 08:15:00|160.0       |\n",
            "|1003   |R003    |D012     |Pune     |3.5        |90.0 |0.0 |2025-08-08 08:20:00|90.0        |\n",
            "+-------+--------+---------+---------+-----------+-----+----+-------------------+------------+\n",
            "only showing top 5 rows\n",
            "\n"
          ]
        }
      ]
    },
    {
      "cell_type": "code",
      "execution_count": 51,
      "id": "95638c6d",
      "metadata": {
        "colab": {
          "base_uri": "https://localhost:8080/"
        },
        "id": "95638c6d",
        "outputId": "272ca65b-408f-43b3-9b02-9ebccf7382bf"
      },
      "outputs": [
        {
          "output_type": "stream",
          "name": "stdout",
          "text": [
            "Before (affected rows):\n",
            "+-------+---------+-----------+-----+----+\n",
            "|trip_id|city     |distance_km|fare |tip |\n",
            "+-------+---------+-----------+-----+----+\n",
            "|1004   |Bengaluru|18.9       |480.0|25.0|\n",
            "+-------+---------+-----------+-----+----+\n",
            "\n"
          ]
        }
      ],
      "source": [
        "from delta.tables import DeltaTable\n",
        "dt = DeltaTable.forName(spark, \"trips_managed\")\n",
        "\n",
        "print(\"Before (affected rows):\")\n",
        "spark.sql('''\n",
        "  select trip_id, city, distance_km, fare, tip\n",
        "  from trips_managed\n",
        "  where city='Bengaluru' and distance_km > 15\n",
        "''').show(truncate=False)"
      ]
    },
    {
      "cell_type": "code",
      "source": [
        "dt.update(\n",
        "    condition=\"city = 'Bengaluru' AND distance_km > 15\",\n",
        "    set={\"tip\": F.col(\"tip\") + F.lit(5.0)}\n",
        ")\n",
        "\n",
        "print(\"After (affected rows):\")\n",
        "spark.sql('''\n",
        "  select trip_id, city, distance_km, fare, tip\n",
        "  from trips_managed\n",
        "  where city='Bengaluru' and distance_km > 15\n",
        "''').show(truncate=False)"
      ],
      "metadata": {
        "colab": {
          "base_uri": "https://localhost:8080/"
        },
        "id": "GOaIR27IZEXh",
        "outputId": "338c3050-a6fa-482f-fd34-cbc433dde5b2"
      },
      "id": "GOaIR27IZEXh",
      "execution_count": 52,
      "outputs": [
        {
          "output_type": "stream",
          "name": "stdout",
          "text": [
            "After (affected rows):\n",
            "+-------+---------+-----------+-----+----+\n",
            "|trip_id|city     |distance_km|fare |tip |\n",
            "+-------+---------+-----------+-----+----+\n",
            "|1004   |Bengaluru|18.9       |480.0|30.0|\n",
            "+-------+---------+-----------+-----+----+\n",
            "\n"
          ]
        }
      ]
    },
    {
      "cell_type": "code",
      "execution_count": 53,
      "id": "74437299",
      "metadata": {
        "colab": {
          "base_uri": "https://localhost:8080/"
        },
        "id": "74437299",
        "outputId": "766ac030-81ac-4122-d252-aeb908f65db4"
      },
      "outputs": [
        {
          "output_type": "stream",
          "name": "stdout",
          "text": [
            "Rows before: 6, after delete: 6\n"
          ]
        }
      ],
      "source": [
        "from delta.tables import DeltaTable\n",
        "dt = DeltaTable.forName(spark, \"trips_managed\")\n",
        "before = spark.table(\"trips_managed\").count()\n",
        "dt.delete(\"fare <= 0 OR distance_km <= 0\")\n",
        "after = spark.table(\"trips_managed\").count()\n",
        "print(f\"Rows before: {before}, after delete: {after}\")"
      ]
    },
    {
      "cell_type": "code",
      "execution_count": 59,
      "id": "c99bec65",
      "metadata": {
        "id": "c99bec65"
      },
      "outputs": [],
      "source": [
        "import datetime\n",
        "from pyspark.sql import functions as F\n",
        "\n",
        "new_rows = [\n",
        "    (1004,\"R001\",\"D010\",\"Bengaluru\", 18.9, 480.0, 35.0, datetime.datetime(2025, 8, 8, 8, 45, 0)),  # corrected tip\n",
        "    (1007,\"R006\",\"D013\",\"Chennai\",   12.0, 300.0, 20.0, datetime.datetime(2025, 8, 8, 9, 30, 0)),  # new\n",
        "]\n",
        "batch_df = spark.createDataFrame(new_rows, schema=trip_schema)"
      ]
    },
    {
      "cell_type": "code",
      "source": [
        "dt = DeltaTable.forName(spark, \"trips_managed\")\n",
        "(\n",
        "    dt.alias(\"t\")\n",
        "    .merge(batch_df.alias(\"s\"), \"t.trip_id = s.trip_id\")\n",
        "    .whenMatchedUpdateAll()\n",
        "    .whenNotMatchedInsertAll()\n",
        "    .execute()\n",
        ")"
      ],
      "metadata": {
        "id": "rEIVXvELaXKT"
      },
      "id": "rEIVXvELaXKT",
      "execution_count": 66,
      "outputs": []
    },
    {
      "cell_type": "code",
      "source": [
        "\n",
        "spark.sql(\"select * from trips_managed where trip_id in (1004,1007) order by trip_id\").show(truncate=False)"
      ],
      "metadata": {
        "colab": {
          "base_uri": "https://localhost:8080/"
        },
        "id": "cYUA_vqsajhT",
        "outputId": "5f57a5a6-95f1-4be4-9ea8-b4152dd31a1a"
      },
      "id": "cYUA_vqsajhT",
      "execution_count": 74,
      "outputs": [
        {
          "output_type": "stream",
          "name": "stdout",
          "text": [
            "+-------+--------+---------+---------+-----------+-----+----+-------------------+\n",
            "|trip_id|rider_id|driver_id|city     |distance_km|fare |tip |ts                 |\n",
            "+-------+--------+---------+---------+-----------+-----+----+-------------------+\n",
            "|1004   |R001    |D010     |Bengaluru|18.9       |480.0|35.0|2025-08-08 08:45:00|\n",
            "|1007   |R006    |D013     |Chennai  |12.0       |300.0|20.0|2025-08-08 09:30:00|\n",
            "+-------+--------+---------+---------+-----------+-----+----+-------------------+\n",
            "\n"
          ]
        }
      ]
    },
    {
      "cell_type": "code",
      "execution_count": 76,
      "id": "52154ccc",
      "metadata": {
        "colab": {
          "base_uri": "https://localhost:8080/"
        },
        "id": "52154ccc",
        "outputId": "4a4d0484-d2bd-4302-ac88-d044bd788d87"
      },
      "outputs": [
        {
          "output_type": "execute_result",
          "data": {
            "text/plain": [
              "DataFrame[]"
            ]
          },
          "metadata": {},
          "execution_count": 76
        }
      ],
      "source": [
        "spark.sql(\"drop view if exists gold_trips\")\n",
        "\n",
        "\n"
      ]
    },
    {
      "cell_type": "code",
      "source": [
        "spark.sql('''\n",
        "create view gold_trips as\n",
        "select\n",
        "  t.trip_id,\n",
        "  t.city,\n",
        "  d.driver_name,\n",
        "  d.rating,\n",
        "  t.distance_km,\n",
        "  (t.fare + t.tip) as total_amount,\n",
        "  t.ts\n",
        "from trips_managed t\n",
        "join drivers_ext d\n",
        "  on t.driver_id = d.driver_id\n",
        "''')"
      ],
      "metadata": {
        "colab": {
          "base_uri": "https://localhost:8080/"
        },
        "id": "n6SoRoSwboTK",
        "outputId": "4e914315-756d-45a6-b7f3-2c6727351ceb"
      },
      "id": "n6SoRoSwboTK",
      "execution_count": 77,
      "outputs": [
        {
          "output_type": "execute_result",
          "data": {
            "text/plain": [
              "DataFrame[]"
            ]
          },
          "metadata": {},
          "execution_count": 77
        }
      ]
    },
    {
      "cell_type": "code",
      "source": [
        "print(\"City-wise total revenue and avg driver rating:\")\n",
        "spark.sql('''\n",
        "  select city,\n",
        "         round(sum(total_amount),2) as total_revenue,\n",
        "         round(avg(rating),2) as avg_driver_rating\n",
        "  from gold_trips\n",
        "  group by city\n",
        "  order by total_revenue desc\n",
        "''').show(truncate=False)\n"
      ],
      "metadata": {
        "colab": {
          "base_uri": "https://localhost:8080/"
        },
        "id": "F-eabJ00boMr",
        "outputId": "567a6c8d-0aed-4fe4-e51e-a567d4c04985"
      },
      "id": "F-eabJ00boMr",
      "execution_count": 83,
      "outputs": [
        {
          "output_type": "stream",
          "name": "stdout",
          "text": [
            "City-wise total revenue and avg driver rating:\n",
            "+---------+-------------+-----------------+\n",
            "|city     |total_revenue|avg_driver_rating|\n",
            "+---------+-------------+-----------------+\n",
            "|Bengaluru|855.0        |4.8              |\n",
            "|Chennai  |595.0        |4.9              |\n",
            "|Pune     |160.0        |4.4              |\n",
            "|Hyderabad|160.0        |4.6              |\n",
            "+---------+-------------+-----------------+\n",
            "\n"
          ]
        }
      ]
    },
    {
      "cell_type": "code",
      "source": [
        "print(\"Driver-wise total trips and top 3 drivers by revenue:\")\n",
        "spark.sql('''\n",
        "  with driver_revenue as (\n",
        "    select driver_name, count(*) as total_trips, round(sum(total_amount),2) as revenue\n",
        "    from gold_trips\n",
        "    group by driver_name\n",
        "  )\n",
        "  select * from driver_revenue\n",
        "  order by revenue desc\n",
        "  limit 3\n",
        "''').show(truncate=False)"
      ],
      "metadata": {
        "colab": {
          "base_uri": "https://localhost:8080/"
        },
        "id": "Uc5eZnF1br4V",
        "outputId": "33bda134-0dcb-44cf-de32-16e019fabab9"
      },
      "id": "Uc5eZnF1br4V",
      "execution_count": 89,
      "outputs": [
        {
          "output_type": "stream",
          "name": "stdout",
          "text": [
            "Driver-wise total trips and top 3 drivers by revenue:\n",
            "+-----------+-----------+-------+\n",
            "|driver_name|total_trips|revenue|\n",
            "+-----------+-----------+-------+\n",
            "|Anil       |2          |855.0  |\n",
            "|Meera      |2          |595.0  |\n",
            "|Rakesh     |2          |160.0  |\n",
            "+-----------+-----------+-------+\n",
            "\n"
          ]
        }
      ]
    },
    {
      "cell_type": "code",
      "execution_count": 93,
      "id": "998534f0",
      "metadata": {
        "colab": {
          "base_uri": "https://localhost:8080/"
        },
        "id": "998534f0",
        "outputId": "985e3a99-8894-424f-9aa5-f6ca2c081d42"
      },
      "outputs": [
        {
          "output_type": "stream",
          "name": "stdout",
          "text": [
            "DESCRIBE HISTORY trips_managed\n",
            "+-------+-----------------------+------+--------+----------------------+----------------------------------------------------------------------------------------------------------------------------------------------------------------------------------------+----+--------+---------+-----------+--------------+-------------+--------------------------------------------------------------------------------------------------------------------------------------------------------------------------------------------------------------------------------------------------------------------------------------------------------------------------------------------------------------------------------------------------------------------------------------------------------------------------------------------------------------------------------------------------------------------------------------------------------------------------------------------------------+------------+-----------------------------------+\n",
            "|version|timestamp              |userId|userName|operation             |operationParameters                                                                                                                                                                     |job |notebook|clusterId|readVersion|isolationLevel|isBlindAppend|operationMetrics                                                                                                                                                                                                                                                                                                                                                                                                                                                                                                                                                                                                                                        |userMetadata|engineInfo                         |\n",
            "+-------+-----------------------+------+--------+----------------------+----------------------------------------------------------------------------------------------------------------------------------------------------------------------------------------+----+--------+---------+-----------+--------------+-------------+--------------------------------------------------------------------------------------------------------------------------------------------------------------------------------------------------------------------------------------------------------------------------------------------------------------------------------------------------------------------------------------------------------------------------------------------------------------------------------------------------------------------------------------------------------------------------------------------------------------------------------------------------------+------------+-----------------------------------+\n",
            "|8      |2025-08-14 11:52:10.025|NULL  |NULL    |MERGE                 |{predicate -> [\"(trip_id#15199 = trip_id#6776)\"], matchedPredicates -> [{\"actionType\":\"update\"}], notMatchedPredicates -> [{\"actionType\":\"insert\"}], notMatchedBySourcePredicates -> []}|NULL|NULL    |NULL     |7          |Serializable  |false        |{numTargetRowsCopied -> 2, numTargetRowsDeleted -> 0, numTargetFilesAdded -> 1, numTargetBytesAdded -> 2375, numTargetBytesRemoved -> 2375, numTargetDeletionVectorsAdded -> 0, numTargetRowsMatchedUpdated -> 2, executionTimeMs -> 3399, numTargetRowsInserted -> 0, numTargetRowsMatchedDeleted -> 0, numTargetDeletionVectorsUpdated -> 0, scanTimeMs -> 2370, numTargetRowsUpdated -> 2, numOutputRows -> 4, numTargetDeletionVectorsRemoved -> 0, numTargetRowsNotMatchedBySourceUpdated -> 0, numTargetChangeFilesAdded -> 0, numSourceRows -> 2, numTargetFilesRemoved -> 1, numTargetRowsNotMatchedBySourceDeleted -> 0, rewriteTimeMs -> 703} |NULL        |Apache-Spark/3.5.0 Delta-Lake/3.1.0|\n",
            "|7      |2025-08-14 11:51:55.269|NULL  |NULL    |MERGE                 |{predicate -> [\"(trip_id#13806 = trip_id#6776)\"], matchedPredicates -> [{\"actionType\":\"update\"}], notMatchedPredicates -> [{\"actionType\":\"insert\"}], notMatchedBySourcePredicates -> []}|NULL|NULL    |NULL     |6          |Serializable  |false        |{numTargetRowsCopied -> 2, numTargetRowsDeleted -> 0, numTargetFilesAdded -> 1, numTargetBytesAdded -> 2375, numTargetBytesRemoved -> 2375, numTargetDeletionVectorsAdded -> 0, numTargetRowsMatchedUpdated -> 2, executionTimeMs -> 3927, numTargetRowsInserted -> 0, numTargetRowsMatchedDeleted -> 0, numTargetDeletionVectorsUpdated -> 0, scanTimeMs -> 2591, numTargetRowsUpdated -> 2, numOutputRows -> 4, numTargetDeletionVectorsRemoved -> 0, numTargetRowsNotMatchedBySourceUpdated -> 0, numTargetChangeFilesAdded -> 0, numSourceRows -> 2, numTargetFilesRemoved -> 1, numTargetRowsNotMatchedBySourceDeleted -> 0, rewriteTimeMs -> 961} |NULL        |Apache-Spark/3.5.0 Delta-Lake/3.1.0|\n",
            "|6      |2025-08-14 11:50:34.993|NULL  |NULL    |MERGE                 |{predicate -> [\"(trip_id#12413 = trip_id#6776)\"], matchedPredicates -> [{\"actionType\":\"update\"}], notMatchedPredicates -> [{\"actionType\":\"insert\"}], notMatchedBySourcePredicates -> []}|NULL|NULL    |NULL     |5          |Serializable  |false        |{numTargetRowsCopied -> 2, numTargetRowsDeleted -> 0, numTargetFilesAdded -> 1, numTargetBytesAdded -> 2375, numTargetBytesRemoved -> 2375, numTargetDeletionVectorsAdded -> 0, numTargetRowsMatchedUpdated -> 2, executionTimeMs -> 4812, numTargetRowsInserted -> 0, numTargetRowsMatchedDeleted -> 0, numTargetDeletionVectorsUpdated -> 0, scanTimeMs -> 2960, numTargetRowsUpdated -> 2, numOutputRows -> 4, numTargetDeletionVectorsRemoved -> 0, numTargetRowsNotMatchedBySourceUpdated -> 0, numTargetChangeFilesAdded -> 0, numSourceRows -> 2, numTargetFilesRemoved -> 1, numTargetRowsNotMatchedBySourceDeleted -> 0, rewriteTimeMs -> 1562}|NULL        |Apache-Spark/3.5.0 Delta-Lake/3.1.0|\n",
            "|5      |2025-08-14 11:50:23.89 |NULL  |NULL    |MERGE                 |{predicate -> [\"(trip_id#11020 = trip_id#6776)\"], matchedPredicates -> [{\"actionType\":\"update\"}], notMatchedPredicates -> [{\"actionType\":\"insert\"}], notMatchedBySourcePredicates -> []}|NULL|NULL    |NULL     |4          |Serializable  |false        |{numTargetRowsCopied -> 2, numTargetRowsDeleted -> 0, numTargetFilesAdded -> 1, numTargetBytesAdded -> 2375, numTargetBytesRemoved -> 2375, numTargetDeletionVectorsAdded -> 0, numTargetRowsMatchedUpdated -> 2, executionTimeMs -> 5360, numTargetRowsInserted -> 0, numTargetRowsMatchedDeleted -> 0, numTargetDeletionVectorsUpdated -> 0, scanTimeMs -> 4257, numTargetRowsUpdated -> 2, numOutputRows -> 4, numTargetDeletionVectorsRemoved -> 0, numTargetRowsNotMatchedBySourceUpdated -> 0, numTargetChangeFilesAdded -> 0, numSourceRows -> 2, numTargetFilesRemoved -> 1, numTargetRowsNotMatchedBySourceDeleted -> 0, rewriteTimeMs -> 786} |NULL        |Apache-Spark/3.5.0 Delta-Lake/3.1.0|\n",
            "|4      |2025-08-14 11:50:09.595|NULL  |NULL    |MERGE                 |{predicate -> [\"(trip_id#9627 = trip_id#6776)\"], matchedPredicates -> [{\"actionType\":\"update\"}], notMatchedPredicates -> [{\"actionType\":\"insert\"}], notMatchedBySourcePredicates -> []} |NULL|NULL    |NULL     |3          |Serializable  |false        |{numTargetRowsCopied -> 2, numTargetRowsDeleted -> 0, numTargetFilesAdded -> 1, numTargetBytesAdded -> 2375, numTargetBytesRemoved -> 2375, numTargetDeletionVectorsAdded -> 0, numTargetRowsMatchedUpdated -> 2, executionTimeMs -> 5392, numTargetRowsInserted -> 0, numTargetRowsMatchedDeleted -> 0, numTargetDeletionVectorsUpdated -> 0, scanTimeMs -> 4085, numTargetRowsUpdated -> 2, numOutputRows -> 4, numTargetDeletionVectorsRemoved -> 0, numTargetRowsNotMatchedBySourceUpdated -> 0, numTargetChangeFilesAdded -> 0, numSourceRows -> 2, numTargetFilesRemoved -> 1, numTargetRowsNotMatchedBySourceDeleted -> 0, rewriteTimeMs -> 1043}|NULL        |Apache-Spark/3.5.0 Delta-Lake/3.1.0|\n",
            "|3      |2025-08-14 11:49:15.023|NULL  |NULL    |MERGE                 |{predicate -> [\"(trip_id#8317 = trip_id#6776)\"], matchedPredicates -> [{\"actionType\":\"update\"}], notMatchedPredicates -> [{\"actionType\":\"insert\"}], notMatchedBySourcePredicates -> []} |NULL|NULL    |NULL     |2          |Serializable  |false        |{numTargetRowsCopied -> 2, numTargetRowsDeleted -> 0, numTargetFilesAdded -> 1, numTargetBytesAdded -> 2375, numTargetBytesRemoved -> 2375, numTargetDeletionVectorsAdded -> 0, numTargetRowsMatchedUpdated -> 2, executionTimeMs -> 3872, numTargetRowsInserted -> 0, numTargetRowsMatchedDeleted -> 0, numTargetDeletionVectorsUpdated -> 0, scanTimeMs -> 2477, numTargetRowsUpdated -> 2, numOutputRows -> 4, numTargetDeletionVectorsRemoved -> 0, numTargetRowsNotMatchedBySourceUpdated -> 0, numTargetChangeFilesAdded -> 0, numSourceRows -> 2, numTargetFilesRemoved -> 1, numTargetRowsNotMatchedBySourceDeleted -> 0, rewriteTimeMs -> 962} |NULL        |Apache-Spark/3.5.0 Delta-Lake/3.1.0|\n",
            "|2      |2025-08-14 11:48:50.871|NULL  |NULL    |MERGE                 |{predicate -> [\"(trip_id#6792 = trip_id#6776)\"], matchedPredicates -> [{\"actionType\":\"update\"}], notMatchedPredicates -> [{\"actionType\":\"insert\"}], notMatchedBySourcePredicates -> []} |NULL|NULL    |NULL     |1          |Serializable  |false        |{numTargetRowsCopied -> 2, numTargetRowsDeleted -> 0, numTargetFilesAdded -> 1, numTargetBytesAdded -> 2375, numTargetBytesRemoved -> 2268, numTargetDeletionVectorsAdded -> 0, numTargetRowsMatchedUpdated -> 1, executionTimeMs -> 4811, numTargetRowsInserted -> 1, numTargetRowsMatchedDeleted -> 0, numTargetDeletionVectorsUpdated -> 0, scanTimeMs -> 2598, numTargetRowsUpdated -> 1, numOutputRows -> 4, numTargetDeletionVectorsRemoved -> 0, numTargetRowsNotMatchedBySourceUpdated -> 0, numTargetChangeFilesAdded -> 0, numSourceRows -> 2, numTargetFilesRemoved -> 1, numTargetRowsNotMatchedBySourceDeleted -> 0, rewriteTimeMs -> 1668}|NULL        |Apache-Spark/3.5.0 Delta-Lake/3.1.0|\n",
            "|1      |2025-08-14 11:47:42.971|NULL  |NULL    |UPDATE                |{predicate -> [\"((city#5015 = Bengaluru) AND (distance_km#5016 > 15.0))\"]}                                                                                                              |NULL|NULL    |NULL     |0          |Serializable  |false        |{numRemovedFiles -> 1, numRemovedBytes -> 2268, numCopiedRows -> 2, numDeletionVectorsAdded -> 0, numDeletionVectorsRemoved -> 0, numAddedChangeFiles -> 0, executionTimeMs -> 3397, numDeletionVectorsUpdated -> 0, scanTimeMs -> 2680, numAddedFiles -> 1, numUpdatedRows -> 1, numAddedBytes -> 2268, rewriteTimeMs -> 712}                                                                                                                                                                                                                                                                                                                          |NULL        |Apache-Spark/3.5.0 Delta-Lake/3.1.0|\n",
            "|0      |2025-08-14 11:41:33.282|NULL  |NULL    |CREATE TABLE AS SELECT|{isManaged -> true, description -> NULL, partitionBy -> [], properties -> {}}                                                                                                           |NULL|NULL    |NULL     |NULL       |Serializable  |true         |{numFiles -> 2, numOutputRows -> 6, numOutputBytes -> 4536}                                                                                                                                                                                                                                                                                                                                                                                                                                                                                                                                                                                             |NULL        |Apache-Spark/3.5.0 Delta-Lake/3.1.0|\n",
            "+-------+-----------------------+------+--------+----------------------+----------------------------------------------------------------------------------------------------------------------------------------------------------------------------------------+----+--------+---------+-----------+--------------+-------------+--------------------------------------------------------------------------------------------------------------------------------------------------------------------------------------------------------------------------------------------------------------------------------------------------------------------------------------------------------------------------------------------------------------------------------------------------------------------------------------------------------------------------------------------------------------------------------------------------------------------------------------------------------+------------+-----------------------------------+\n",
            "\n"
          ]
        }
      ],
      "source": [
        "print(\"DESCRIBE HISTORY trips_managed\")\n",
        "spark.sql(\"describe history trips_managed\").show(truncate=False)"
      ]
    },
    {
      "cell_type": "code",
      "source": [
        "latest_count = spark.table(\"trips_managed\").count()\n",
        "asof0 = spark.read.format(\"delta\").option(\"versionAsOf\", 0).table(\"trips_managed\")\n",
        "asof0_count = asof0.count()\n",
        "print(\"Counts → latest:\", latest_count, \" | version 0:\", asof0_count)"
      ],
      "metadata": {
        "colab": {
          "base_uri": "https://localhost:8080/"
        },
        "id": "FbCO2DXPb_OQ",
        "outputId": "f88ba057-7b7f-41e8-93bf-942603009c7b"
      },
      "id": "FbCO2DXPb_OQ",
      "execution_count": 96,
      "outputs": [
        {
          "output_type": "stream",
          "name": "stdout",
          "text": [
            "Counts → latest: 7  | version 0: 6\n"
          ]
        }
      ]
    },
    {
      "cell_type": "code",
      "source": [
        "print(\"Sample rows from version 0:\")\n",
        "asof0.show(5, truncate=False)"
      ],
      "metadata": {
        "colab": {
          "base_uri": "https://localhost:8080/"
        },
        "id": "YhpoN7itb_En",
        "outputId": "9afc45b1-3579-40ec-9cb9-06a969bcc30d"
      },
      "id": "YhpoN7itb_En",
      "execution_count": 101,
      "outputs": [
        {
          "output_type": "stream",
          "name": "stdout",
          "text": [
            "Sample rows from version 0:\n",
            "+-------+--------+---------+---------+-----------+-----+----+-------------------+\n",
            "|trip_id|rider_id|driver_id|city     |distance_km|fare |tip |ts                 |\n",
            "+-------+--------+---------+---------+-----------+-----+----+-------------------+\n",
            "|1001   |R001    |D010     |Bengaluru|12.4       |320.0|20.0|2025-08-08 08:05:00|\n",
            "|1002   |R002    |D011     |Hyderabad|6.2        |150.0|10.0|2025-08-08 08:15:00|\n",
            "|1003   |R003    |D012     |Pune     |3.5        |90.0 |0.0 |2025-08-08 08:20:00|\n",
            "|1004   |R001    |D010     |Bengaluru|18.9       |480.0|25.0|2025-08-08 08:45:00|\n",
            "|1005   |R004    |D013     |Chennai  |10.0       |260.0|15.0|2025-08-08 09:05:00|\n",
            "+-------+--------+---------+---------+-----------+-----+----+-------------------+\n",
            "only showing top 5 rows\n",
            "\n"
          ]
        }
      ]
    },
    {
      "cell_type": "code",
      "execution_count": 102,
      "id": "16a3c542",
      "metadata": {
        "id": "16a3c542"
      },
      "outputs": [],
      "source": [
        "PARTITIONED_PATH = \"/tmp/delta/ride_hailing/trips_partitioned_by_city\"\n",
        "spark.sql(\"drop table if exists trips_by_city_part\")\n",
        "\n",
        "spark.read.table(\"trips_managed\")\\\n",
        "    .write.format(\"delta\").mode(\"overwrite\").partitionBy(\"city\").save(PARTITIONED_PATH)"
      ]
    },
    {
      "cell_type": "code",
      "source": [
        "spark.sql(\"drop table if exists trips_by_city_part\")\n"
      ],
      "metadata": {
        "colab": {
          "base_uri": "https://localhost:8080/"
        },
        "id": "QM1p8DbRcbYr",
        "outputId": "08ff35e3-4772-4f8f-dca4-0334863e1adf"
      },
      "id": "QM1p8DbRcbYr",
      "execution_count": 105,
      "outputs": [
        {
          "output_type": "execute_result",
          "data": {
            "text/plain": [
              "DataFrame[]"
            ]
          },
          "metadata": {},
          "execution_count": 105
        }
      ]
    },
    {
      "cell_type": "code",
      "source": [
        "spark.sql(f'''\n",
        "  create table trips_by_city_part\n",
        "  using delta\n",
        "  location '{PARTITIONED_PATH}'\n",
        "''')"
      ],
      "metadata": {
        "colab": {
          "base_uri": "https://localhost:8080/"
        },
        "id": "tJGcxEKFcTOj",
        "outputId": "f72128ad-5b92-476d-eb0a-0c7874d966c1"
      },
      "id": "tJGcxEKFcTOj",
      "execution_count": 106,
      "outputs": [
        {
          "output_type": "execute_result",
          "data": {
            "text/plain": [
              "DataFrame[]"
            ]
          },
          "metadata": {},
          "execution_count": 106
        }
      ]
    },
    {
      "cell_type": "code",
      "source": [
        "print(\"Filter on Bengaluru (partition pruning expected):\")\n",
        "spark.sql(\"select * from trips_by_city_part where city='Bengaluru'\").show(truncate=False)"
      ],
      "metadata": {
        "colab": {
          "base_uri": "https://localhost:8080/"
        },
        "id": "RuBY8bg2cTJd",
        "outputId": "cb2a0754-5f64-4132-974d-f02552845639"
      },
      "id": "RuBY8bg2cTJd",
      "execution_count": 110,
      "outputs": [
        {
          "output_type": "stream",
          "name": "stdout",
          "text": [
            "Filter on Bengaluru (partition pruning expected):\n",
            "+-------+--------+---------+---------+-----------+-----+----+-------------------+\n",
            "|trip_id|rider_id|driver_id|city     |distance_km|fare |tip |ts                 |\n",
            "+-------+--------+---------+---------+-----------+-----+----+-------------------+\n",
            "|1004   |R001    |D010     |Bengaluru|18.9       |480.0|35.0|2025-08-08 08:45:00|\n",
            "|1001   |R001    |D010     |Bengaluru|12.4       |320.0|20.0|2025-08-08 08:05:00|\n",
            "+-------+--------+---------+---------+-----------+-----+----+-------------------+\n",
            "\n"
          ]
        }
      ]
    },
    {
      "cell_type": "code",
      "execution_count": 112,
      "id": "c5ca655e",
      "metadata": {
        "id": "c5ca655e"
      },
      "outputs": [],
      "source": [
        "import datetime\n",
        "from pyspark.sql import functions as F\n",
        "\n",
        "incr_rows = [\n",
        "    (1008,\"R007\",\"D010\",\"Mumbai\",  7.5, 180.0, 10.0, datetime.datetime(2025, 8, 8, 10, 10, 0)),\n",
        "    (1009,\"R008\",\"D011\",\"Mumbai\", 15.0, 380.0, 25.0, datetime.datetime(2025, 8, 8, 10, 20, 0)),\n",
        "]\n",
        "incr_df = spark.createDataFrame(incr_rows, schema=trip_schema)\n",
        "incr_df.write.format(\"delta\").mode(\"append\").saveAsTable(\"trips_managed\")"
      ]
    },
    {
      "cell_type": "code",
      "source": [
        "print(\"City-wise revenue after incremental load:\")\n",
        "spark.sql('''\n",
        "  select city, round(sum(fare+tip),2) as total_revenue\n",
        "  from trips_managed\n",
        "  group by city\n",
        "  order by total_revenue desc\n",
        "''').show(truncate=False)"
      ],
      "metadata": {
        "colab": {
          "base_uri": "https://localhost:8080/"
        },
        "id": "OK4l_kgWeGqD",
        "outputId": "f95f2df8-af43-4059-d0c8-354a38c26fb2"
      },
      "id": "OK4l_kgWeGqD",
      "execution_count": 120,
      "outputs": [
        {
          "output_type": "stream",
          "name": "stdout",
          "text": [
            "City-wise revenue after incremental load:\n",
            "+---------+-------------+\n",
            "|city     |total_revenue|\n",
            "+---------+-------------+\n",
            "|Bengaluru|855.0        |\n",
            "|Chennai  |595.0        |\n",
            "|Mumbai   |595.0        |\n",
            "|Pune     |160.0        |\n",
            "|Hyderabad|160.0        |\n",
            "+---------+-------------+\n",
            "\n"
          ]
        }
      ]
    },
    {
      "cell_type": "code",
      "execution_count": 129,
      "id": "191075db",
      "metadata": {
        "id": "191075db"
      },
      "outputs": [],
      "source": [
        "stream_source = spark.readStream.format(\"delta\").load(\"/tmp/delta/ride_hailing/trips\")\n",
        "\n",
        "query = (\n",
        "    stream_source.writeStream\n",
        "    .format(\"console\")\n",
        "    .outputMode(\"append\")\n",
        "    .option(\"truncate\", False)\n",
        "    .trigger(processingTime='5 seconds')\n",
        "    .start()\n",
        ")"
      ]
    },
    {
      "cell_type": "code",
      "source": [
        "import time\n",
        "import datetime\n",
        "from pyspark.sql import functions as F\n",
        "\n",
        "time.sleep(10)\n",
        "\n",
        "more_rows = [\n",
        "    (1010,\"R009\",\"D012\",\"Mumbai\", 4.1, 110.0, 5.0, datetime.datetime(2025, 8, 8, 10, 35, 0)),\n",
        "]\n",
        "more_df = spark.createDataFrame(more_rows, schema=trip_schema)\n",
        "more_df.write.format(\"delta\").mode(\"append\").save(\"/tmp/delta/ride_hailing/trips\")\n",
        "\n",
        "print(\"Appended a new row. Wait a few seconds to see it in the console sink...\")\n",
        "time.sleep(10)\n",
        "\n",
        "query.stop()\n",
        "print(\"Streaming stopped.\")"
      ],
      "metadata": {
        "colab": {
          "base_uri": "https://localhost:8080/"
        },
        "id": "OebAX7NieVOL",
        "outputId": "e106c5ac-d2a7-43e7-a0c8-a2c21bf44c89"
      },
      "id": "OebAX7NieVOL",
      "execution_count": 130,
      "outputs": [
        {
          "output_type": "stream",
          "name": "stdout",
          "text": [
            "Appended a new row. Wait a few seconds to see it in the console sink...\n",
            "Streaming stopped.\n"
          ]
        }
      ]
    },
    {
      "cell_type": "code",
      "execution_count": 136,
      "id": "eaf7d64b",
      "metadata": {
        "colab": {
          "base_uri": "https://localhost:8080/",
          "height": 472
        },
        "id": "eaf7d64b",
        "outputId": "45daeb84-5be2-4554-c2fe-4a832c4eed84"
      },
      "outputs": [
        {
          "output_type": "display_data",
          "data": {
            "text/plain": [
              "<Figure size 640x480 with 1 Axes>"
            ],
            "image/png": "[encoded data removed]"
          },
          "metadata": {}
        }
      ],
      "source": [
        "import pandas as pd\n",
        "import matplotlib.pyplot as plt\n",
        "\n",
        "city_pdf = spark.sql('''\n",
        "  select city, sum(total_amount) as total_revenue\n",
        "  from gold_trips\n",
        "  group by city\n",
        "  order by total_revenue desc\n",
        "''').toPandas()\n",
        "\n",
        "plt.figure()\n",
        "plt.bar(city_pdf[\"city\"], city_pdf[\"total_revenue\"])\n",
        "plt.title(\"City vs Total Revenue\")\n",
        "plt.xlabel(\"City\")\n",
        "plt.ylabel(\"Total Revenue\")\n",
        "plt.show()\n"
      ]
    },
    {
      "cell_type": "code",
      "source": [
        "hourly_pdf = spark.sql('''\n",
        "  select date_trunc('hour', ts) as hour, sum(total_amount) as hourly_revenue\n",
        "  from gold_trips\n",
        "  group by date_trunc('hour', ts)\n",
        "  order by hour\n",
        "''').toPandas()\n",
        "\n",
        "plt.figure()\n",
        "plt.plot(hourly_pdf[\"hour\"], hourly_pdf[\"hourly_revenue\"])\n",
        "plt.title(\"Hourly Revenue\")\n",
        "plt.xlabel(\"Hour\")\n",
        "plt.ylabel(\"Revenue\")\n",
        "plt.xticks(rotation=45, ha=\"right\")\n",
        "plt.tight_layout()\n",
        "plt.show()"
      ],
      "metadata": {
        "colab": {
          "base_uri": "https://localhost:8080/",
          "height": 487
        },
        "id": "SsysmClEe4I0",
        "outputId": "e8b46e70-b61b-4b0e-c138-a42fae3673ef"
      },
      "id": "SsysmClEe4I0",
      "execution_count": 139,
      "outputs": [
        {
          "output_type": "display_data",
          "data": {
            "text/plain": [
              "<Figure size 640x480 with 1 Axes>"
            ],
            "image/png": "[encoded data removed]"
          },
          "metadata": {}
        }
      ]
    },
    {
      "cell_type": "code",
      "execution_count": 140,
      "id": "0b11dc2c",
      "metadata": {
        "colab": {
          "base_uri": "https://localhost:8080/"
        },
        "id": "0b11dc2c",
        "outputId": "6a1d66a4-e708-4073-fa15-548ea5f970fe"
      },
      "outputs": [
        {
          "output_type": "stream",
          "name": "stdout",
          "text": [
            "Dropped trips_managed (managed) and drivers_ext (external).\n",
            "Recreating tables for subsequent tasks that rely on them...\n"
          ]
        }
      ],
      "source": [
        "\n",
        "spark.sql(\"drop table if exists trips_managed\")\n",
        "spark.sql(\"drop table if exists drivers_ext\")\n",
        "print(\"Dropped trips_managed (managed) and drivers_ext (external).\")\n",
        "\n",
        "print(\"Recreating tables for subsequent tasks that rely on them...\")"
      ]
    },
    {
      "cell_type": "code",
      "source": [
        "spark.sql(f'''\n",
        "  create table trips_managed\n",
        "  using delta\n",
        "  as select * from delta.`/tmp/delta/ride_hailing/trips`\n",
        "''')"
      ],
      "metadata": {
        "colab": {
          "base_uri": "https://localhost:8080/"
        },
        "id": "JJWbvuI_fQdf",
        "outputId": "e88ea2a8-ea33-47b4-f1c0-0bbca1f78a67"
      },
      "id": "JJWbvuI_fQdf",
      "execution_count": 141,
      "outputs": [
        {
          "output_type": "execute_result",
          "data": {
            "text/plain": [
              "DataFrame[]"
            ]
          },
          "metadata": {},
          "execution_count": 141
        }
      ]
    },
    {
      "cell_type": "code",
      "source": [
        "spark.sql(f'''\n",
        "  create table drivers_ext\n",
        "  using delta\n",
        "  location '/tmp/delta/ride_hailing/drivers'\n",
        "''')\n"
      ],
      "metadata": {
        "colab": {
          "base_uri": "https://localhost:8080/"
        },
        "id": "tyoo-VSwfPKG",
        "outputId": "8d61f4f1-74cb-4f06-d479-0c58ba084c18"
      },
      "id": "tyoo-VSwfPKG",
      "execution_count": 142,
      "outputs": [
        {
          "output_type": "execute_result",
          "data": {
            "text/plain": [
              "DataFrame[]"
            ]
          },
          "metadata": {},
          "execution_count": 142
        }
      ]
    },
    {
      "cell_type": "code",
      "execution_count": 144,
      "id": "901904ec",
      "metadata": {
        "id": "901904ec"
      },
      "outputs": [],
      "source": [
        "import datetime\n",
        "from pyspark.sql import functions as F\n",
        "\n",
        "bad_rows = [\n",
        "    (2001,\"R010\",\"D010\",\"Chennai\", 5.0, 120.0, -5.0, datetime.datetime(2025, 8, 8, 11, 0, 0)),\n",
        "]\n",
        "bad_df = spark.createDataFrame(bad_rows, schema=trip_schema)"
      ]
    },
    {
      "cell_type": "code",
      "source": [
        "print(\"Attempt to write bad data with tip < 0 — we'll block via filter:\")\n",
        "clean_df = bad_df.filter(\"tip >= 0\")\n",
        "if clean_df.count() == 0:\n",
        "    print(\"All rows rejected (tip >= 0 rule). Nothing written.\")\n",
        "else:\n",
        "    clean_df.write.format(\"delta\").mode(\"append\").saveAsTable(\"trips_managed\")\n",
        "    print(\"Clean rows written.\")\n"
      ],
      "metadata": {
        "colab": {
          "base_uri": "https://localhost:8080/"
        },
        "id": "xeA4vqQEfYh9",
        "outputId": "62975e00-2cf0-421a-baa5-117440a53861"
      },
      "id": "xeA4vqQEfYh9",
      "execution_count": 145,
      "outputs": [
        {
          "output_type": "stream",
          "name": "stdout",
          "text": [
            "Attempt to write bad data with tip < 0 — we'll block via filter:\n",
            "All rows rejected (tip >= 0 rule). Nothing written.\n"
          ]
        }
      ]
    },
    {
      "cell_type": "code",
      "execution_count": 146,
      "id": "23ad751e",
      "metadata": {
        "colab": {
          "base_uri": "https://localhost:8080/"
        },
        "id": "23ad751e",
        "outputId": "d4bc0993-624f-4bf6-fe0b-166c6843bb77"
      },
      "outputs": [
        {
          "output_type": "execute_result",
          "data": {
            "text/plain": [
              "DataFrame[]"
            ]
          },
          "metadata": {},
          "execution_count": 146
        }
      ],
      "source": [
        "PARQUET_PATH = \"/tmp/delta/ride_hailing/trips_parquet_subset\"\n",
        "\n",
        "subset_df = spark.table(\"trips_managed\").limit(3)\n",
        "subset_df.write.mode(\"overwrite\").parquet(PARQUET_PATH)\n",
        "\n",
        "spark.sql(\"drop table if exists trips_from_parquet\")\n",
        "spark.sql(f\"convert to delta parquet.`{PARQUET_PATH}`\")\n",
        "\n",
        "spark.sql(f'''\n",
        "  create table trips_from_parquet\n",
        "  using delta\n",
        "  location '{PARQUET_PATH}'\n",
        "''')\n"
      ]
    },
    {
      "cell_type": "code",
      "source": [
        "from delta.tables import DeltaTable\n",
        "dtp = DeltaTable.forPath(spark, PARQUET_PATH)\n",
        "\n",
        "up_df = subset_df.limit(1).withColumn(\"tip\", F.col(\"tip\") + F.lit(2.0))\n",
        "\n",
        "(\n",
        "    dtp.alias(\"t\")\n",
        "    .merge(up_df.alias(\"s\"), \"t.trip_id = s.trip_id\")\n",
        "    .whenMatchedUpdateAll()\n",
        "    .whenNotMatchedInsertAll()\n",
        "    .execute()\n",
        ")\n"
      ],
      "metadata": {
        "id": "_Wi4LP0vfwNE"
      },
      "id": "_Wi4LP0vfwNE",
      "execution_count": 159,
      "outputs": []
    },
    {
      "cell_type": "code",
      "source": [
        "print(\"History of trips_from_parquet after merge:\")\n",
        "spark.sql(\"describe history trips_from_parquet\").show(truncate=False)"
      ],
      "metadata": {
        "colab": {
          "base_uri": "https://localhost:8080/"
        },
        "id": "072BMrEGfuQQ",
        "outputId": "89ce71a7-76ed-43df-d686-da551126a4cd"
      },
      "id": "072BMrEGfuQQ",
      "execution_count": 171,
      "outputs": [
        {
          "output_type": "stream",
          "name": "stdout",
          "text": [
            "History of trips_from_parquet after merge:\n",
            "+-------+-----------------------+------+--------+---------+-----------------------------------------------------------------------------------------------------------------------------------------------------------------------------------------+----+--------+---------+-----------+--------------+-------------+-------------------------------------------------------------------------------------------------------------------------------------------------------------------------------------------------------------------------------------------------------------------------------------------------------------------------------------------------------------------------------------------------------------------------------------------------------------------------------------------------------------------------------------------------------------------------------------------------------------------------------------------------------+------------+-----------------------------------+\n",
            "|version|timestamp              |userId|userName|operation|operationParameters                                                                                                                                                                      |job |notebook|clusterId|readVersion|isolationLevel|isBlindAppend|operationMetrics                                                                                                                                                                                                                                                                                                                                                                                                                                                                                                                                                                                                                                       |userMetadata|engineInfo                         |\n",
            "+-------+-----------------------+------+--------+---------+-----------------------------------------------------------------------------------------------------------------------------------------------------------------------------------------+----+--------+---------+-----------+--------------+-------------+-------------------------------------------------------------------------------------------------------------------------------------------------------------------------------------------------------------------------------------------------------------------------------------------------------------------------------------------------------------------------------------------------------------------------------------------------------------------------------------------------------------------------------------------------------------------------------------------------------------------------------------------------------+------------+-----------------------------------+\n",
            "|2      |2025-08-14 12:14:07.88 |NULL  |NULL    |MERGE    |{predicate -> [\"(trip_id#39083 = trip_id#35388)\"], matchedPredicates -> [{\"actionType\":\"update\"}], notMatchedPredicates -> [{\"actionType\":\"insert\"}], notMatchedBySourcePredicates -> []}|NULL|NULL    |NULL     |1          |Serializable  |false        |{numTargetRowsCopied -> 0, numTargetRowsDeleted -> 0, numTargetFilesAdded -> 1, numTargetBytesAdded -> 2244, numTargetBytesRemoved -> 2244, numTargetDeletionVectorsAdded -> 0, numTargetRowsMatchedUpdated -> 1, executionTimeMs -> 3688, numTargetRowsInserted -> 0, numTargetRowsMatchedDeleted -> 0, numTargetDeletionVectorsUpdated -> 0, scanTimeMs -> 2032, numTargetRowsUpdated -> 1, numOutputRows -> 1, numTargetDeletionVectorsRemoved -> 0, numTargetRowsNotMatchedBySourceUpdated -> 0, numTargetChangeFilesAdded -> 0, numSourceRows -> 1, numTargetFilesRemoved -> 1, numTargetRowsNotMatchedBySourceDeleted -> 0, rewriteTimeMs -> 645}|NULL        |Apache-Spark/3.5.0 Delta-Lake/3.1.0|\n",
            "|1      |2025-08-14 12:13:42.469|NULL  |NULL    |MERGE    |{predicate -> [\"(trip_id#36998 = trip_id#35388)\"], matchedPredicates -> [{\"actionType\":\"update\"}], notMatchedPredicates -> [{\"actionType\":\"insert\"}], notMatchedBySourcePredicates -> []}|NULL|NULL    |NULL     |0          |Serializable  |false        |{numTargetRowsCopied -> 0, numTargetRowsDeleted -> 0, numTargetFilesAdded -> 1, numTargetBytesAdded -> 2244, numTargetBytesRemoved -> 0, numTargetDeletionVectorsAdded -> 0, numTargetRowsMatchedUpdated -> 0, executionTimeMs -> 9067, numTargetRowsInserted -> 1, numTargetRowsMatchedDeleted -> 0, numTargetDeletionVectorsUpdated -> 0, scanTimeMs -> 7640, numTargetRowsUpdated -> 0, numOutputRows -> 1, numTargetDeletionVectorsRemoved -> 0, numTargetRowsNotMatchedBySourceUpdated -> 0, numTargetChangeFilesAdded -> 0, numSourceRows -> 1, numTargetFilesRemoved -> 0, numTargetRowsNotMatchedBySourceDeleted -> 0, rewriteTimeMs -> 197}   |NULL        |Apache-Spark/3.5.0 Delta-Lake/3.1.0|\n",
            "|0      |2025-08-14 12:12:04.358|NULL  |NULL    |CONVERT  |{numFiles -> 1, partitionedBy -> [], collectStats -> true, sourceFormat -> parquet}                                                                                                      |NULL|NULL    |NULL     |-1         |Serializable  |false        |{numConvertedFiles -> 1}                                                                                                                                                                                                                                                                                                                                                                                                                                                                                                                                                                                                                               |NULL        |Apache-Spark/3.5.0 Delta-Lake/3.1.0|\n",
            "+-------+-----------------------+------+--------+---------+-----------------------------------------------------------------------------------------------------------------------------------------------------------------------------------------+----+--------+---------+-----------+--------------+-------------+-------------------------------------------------------------------------------------------------------------------------------------------------------------------------------------------------------------------------------------------------------------------------------------------------------------------------------------------------------------------------------------------------------------------------------------------------------------------------------------------------------------------------------------------------------------------------------------------------------------------------------------------------------+------------+-----------------------------------+\n",
            "\n"
          ]
        }
      ]
    },
    {
      "cell_type": "code",
      "execution_count": 189,
      "id": "e00679c9",
      "metadata": {
        "colab": {
          "base_uri": "https://localhost:8080/"
        },
        "id": "e00679c9",
        "outputId": "513a1758-6c78-4dc7-c5a4-40ed3ad7b888"
      },
      "outputs": [
        {
          "output_type": "stream",
          "name": "stdout",
          "text": [
            "Total Revenue: 1670.0\n"
          ]
        }
      ],
      "source": [
        "import pandas as pd\n",
        "import matplotlib.pyplot as plt\n",
        "\n",
        "total_rev = spark.sql(\"select round(sum(fare+tip),2) as total_revenue from trips_managed\").first()[\"total_revenue\"]\n",
        "print(\"Total Revenue:\", total_rev)"
      ]
    },
    {
      "cell_type": "code",
      "source": [
        "city_pdf = spark.sql('''\n",
        "  select city, count(*) as trips, round(sum(fare+tip),2) as revenue\n",
        "  from trips_managed\n",
        "  group by city\n",
        "  order by trips desc\n",
        "''').toPandas()\n",
        "\n",
        "plt.figure()\n",
        "plt.bar(city_pdf[\"city\"], city_pdf[\"trips\"])\n",
        "plt.title(\"Trips per City\")\n",
        "plt.xlabel(\"City\")\n",
        "plt.ylabel(\"Trips\")\n",
        "plt.show()"
      ],
      "metadata": {
        "colab": {
          "base_uri": "https://localhost:8080/",
          "height": 472
        },
        "id": "PybB2Y4xgezh",
        "outputId": "090ad853-fd71-4abe-dbf9-b56ec7b18242"
      },
      "id": "PybB2Y4xgezh",
      "execution_count": 208,
      "outputs": [
        {
          "output_type": "display_data",
          "data": {
            "text/plain": [
              "<Figure size 640x480 with 1 Axes>"
            ],
            "image/png": "[encoded data removed]"
          },
          "metadata": {}
        }
      ]
    },
    {
      "cell_type": "code",
      "source": [
        "drivers_pdf = spark.sql('''\n",
        "  select d.driver_name, round(sum(t.fare+t.tip),2) as revenue\n",
        "  from trips_managed t\n",
        "  join drivers_ext d on t.driver_id=d.driver_id\n",
        "  group by d.driver_name\n",
        "  order by revenue desc\n",
        "''').toPandas()\n",
        "\n",
        "plt.figure()\n",
        "plt.bar(drivers_pdf[\"driver_name\"], drivers_pdf[\"revenue\"])\n",
        "plt.title(\"Top Drivers by Revenue\")\n",
        "plt.xlabel(\"Driver\")\n",
        "plt.ylabel(\"Revenue\")\n",
        "plt.show()"
      ],
      "metadata": {
        "colab": {
          "base_uri": "https://localhost:8080/",
          "height": 472
        },
        "id": "zhzb4QYRgg4p",
        "outputId": "730b401c-95c3-4c9e-e699-65ed6394de68"
      },
      "id": "zhzb4QYRgg4p",
      "execution_count": 226,
      "outputs": [
        {
          "output_type": "display_data",
          "data": {
            "text/plain": [
              "<Figure size 640x480 with 1 Axes>"
            ],
            "image/png": "[encoded data removed]"
          },
          "metadata": {}
        }
      ]
    },
    {
      "cell_type": "code",
      "source": [
        "hourly_pdf = spark.sql('''\n",
        "  select date_trunc('hour', ts) as hour, sum(fare+tip) as revenue\n",
        "  from trips_managed\n",
        "  group by date_trunc('hour', ts)\n",
        "  order by hour\n",
        "''').toPandas()\n",
        "\n",
        "plt.figure()\n",
        "plt.plot(hourly_pdf[\"hour\"], hourly_pdf[\"revenue\"])\n",
        "plt.title(\"Revenue by Hour\")\n",
        "plt.xlabel(\"Hour\")\n",
        "plt.ylabel(\"Revenue\")\n",
        "plt.xticks(rotation=45, ha=\"right\")\n",
        "plt.tight_layout()\n",
        "plt.show()\n"
      ],
      "metadata": {
        "colab": {
          "base_uri": "https://localhost:8080/",
          "height": 487
        },
        "id": "rJYRyxKvgkKM",
        "outputId": "818193d0-e525-485e-c721-b64da7968af3"
      },
      "id": "rJYRyxKvgkKM",
      "execution_count": 244,
      "outputs": [
        {
          "output_type": "display_data",
          "data": {
            "text/plain": [
              "<Figure size 640x480 with 1 Axes>"
            ],
            "image/png": "[encoded data removed]"
          },
          "metadata": {}
        }
      ]
    }
  ],
  "metadata": {
    "colab": {
      "provenance": []
    },
    "language_info": {
      "name": "python"
    },
    "kernelspec": {
      "name": "python3",
      "display_name": "Python 3"
    }
  },
  "nbformat": 4,
  "nbformat_minor": 5
}