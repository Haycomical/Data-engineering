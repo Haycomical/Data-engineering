{
  "cells": [
    {
      "cell_type": "code",
      "execution_count": 2,
      "id": "e40533c5",
      "metadata": {
        "colab": {
          "base_uri": "https://localhost:8080/"
        },
        "id": "e40533c5",
        "outputId": "00dc019e-f757-4671-cb21-0d12ab424e44"
      },
      "outputs": [
        {
          "output_type": "stream",
          "name": "stdout",
          "text": [
            "Requirement already satisfied: pyspark==3.5.0 in /usr/local/lib/python3.11/dist-packages (3.5.0)\n",
            "Requirement already satisfied: delta-spark==3.1.0 in /usr/local/lib/python3.11/dist-packages (3.1.0)\n",
            "Requirement already satisfied: py4j==0.10.9.7 in /usr/local/lib/python3.11/dist-packages (from pyspark==3.5.0) (0.10.9.7)\n",
            "Requirement already satisfied: importlib-metadata>=1.0.0 in /usr/local/lib/python3.11/dist-packages (from delta-spark==3.1.0) (8.7.0)\n",
            "Requirement already satisfied: zipp>=3.20 in /usr/local/lib/python3.11/dist-packages (from importlib-metadata>=1.0.0->delta-spark==3.1.0) (3.23.0)\n"
          ]
        }
      ],
      "source": [
        "!pip install pyspark==3.5.0 delta-spark==3.1.0\n",
        "\n",
        "from pyspark.sql import SparkSession\n",
        "from delta import configure_spark_with_delta_pip\n",
        "\n",
        "builder = (\n",
        "    SparkSession.builder.appName(\"DeltaDemo\")\n",
        "    .config(\"spark.sql.extensions\", \"io.delta.sql.DeltaSparkSessionExtension\")\n",
        "    .config(\"spark.sql.catalog.spark_catalog\", \"org.apache.spark.sql.delta.catalog.DeltaCatalog\")\n",
        ")\n",
        "\n",
        "spark = configure_spark_with_delta_pip(builder).getOrCreate()\n"
      ]
    },
    {
      "cell_type": "code",
      "source": [
        "data = [\n",
        "    (1, \"John\", \"Electronics\", 2, 300),\n",
        "    (2, \"Sara\", \"Clothing\", 1, 50),\n",
        "    (3, \"Mike\", \"Electronics\", 4, 600),\n",
        "    (4, \"Nina\", \"Clothing\", 3, 150),\n",
        "]\n",
        "columns = [\"order_id\", \"customer_name\", \"category\", \"quantity\", \"amount\"]\n",
        "\n",
        "df = spark.createDataFrame(data, columns)\n",
        "\n",
        "\n",
        "df.write.format(\"delta\").mode(\"overwrite\").save(\"/tmp/orders_delta\")"
      ],
      "metadata": {
        "id": "jtQMVuzhSkoO"
      },
      "id": "jtQMVuzhSkoO",
      "execution_count": 4,
      "outputs": []
    },
    {
      "cell_type": "code",
      "execution_count": 5,
      "id": "f6b38ef1",
      "metadata": {
        "colab": {
          "base_uri": "https://localhost:8080/"
        },
        "id": "f6b38ef1",
        "outputId": "84eef796-86bf-496d-9b23-5f9674e5bc7f"
      },
      "outputs": [
        {
          "output_type": "execute_result",
          "data": {
            "text/plain": [
              "DataFrame[]"
            ]
          },
          "metadata": {},
          "execution_count": 5
        }
      ],
      "source": [
        "spark.sql(\"CREATE TABLE orders_managed USING DELTA LOCATION '/tmp/orders_delta'\")\n",
        "\n",
        "spark.sql(\"CREATE TABLE orders_unmanaged USING DELTA LOCATION '/tmp/orders_delta'\")"
      ]
    },
    {
      "cell_type": "code",
      "source": [
        "\n",
        "spark.sql(\"UPDATE orders_managed SET amount = amount + 20 WHERE category = 'Clothing'\")"
      ],
      "metadata": {
        "colab": {
          "base_uri": "https://localhost:8080/"
        },
        "id": "zaeU-2EwTyCN",
        "outputId": "244cda21-8083-4be1-f097-1cdd0c61eb28"
      },
      "id": "zaeU-2EwTyCN",
      "execution_count": 6,
      "outputs": [
        {
          "output_type": "execute_result",
          "data": {
            "text/plain": [
              "DataFrame[num_affected_rows: bigint]"
            ]
          },
          "metadata": {},
          "execution_count": 6
        }
      ]
    },
    {
      "cell_type": "code",
      "source": [
        "\n",
        "spark.sql(\"DELETE FROM orders_managed WHERE quantity < 2\")"
      ],
      "metadata": {
        "colab": {
          "base_uri": "https://localhost:8080/"
        },
        "id": "bcmLM5LjTx8z",
        "outputId": "96210f3c-48c1-4601-dd0d-2ecac12d4300"
      },
      "id": "bcmLM5LjTx8z",
      "execution_count": 7,
      "outputs": [
        {
          "output_type": "execute_result",
          "data": {
            "text/plain": [
              "DataFrame[num_affected_rows: bigint]"
            ]
          },
          "metadata": {},
          "execution_count": 7
        }
      ]
    },
    {
      "cell_type": "code",
      "execution_count": 12,
      "id": "097415ee",
      "metadata": {
        "id": "097415ee"
      },
      "outputs": [],
      "source": [
        "new_data = [\n",
        "    (3, \"Mike\", \"Electronics\", 5, 750),\n",
        "    (5, \"Liam\", \"Furniture\", 1, 200),\n",
        "    (6, \"Emma\", \"Clothing\", 2, 80),\n",
        "]\n",
        "new_df = spark.createDataFrame(new_data, columns)\n",
        "\n"
      ]
    },
    {
      "cell_type": "code",
      "source": [
        "from delta.tables import DeltaTable\n",
        "delta_table = DeltaTable.forName(spark, \"orders_managed\")\n",
        "\n",
        "(delta_table.alias(\"t\")\n",
        " .merge(new_df.alias(\"s\"), \"t.order_id = s.order_id\")\n",
        " .whenMatchedUpdateAll()\n",
        " .whenNotMatchedInsertAll()\n",
        " .execute())"
      ],
      "metadata": {
        "id": "ys8Vski7T879"
      },
      "id": "ys8Vski7T879",
      "execution_count": 22,
      "outputs": []
    },
    {
      "cell_type": "code",
      "execution_count": 23,
      "id": "e0f96d63",
      "metadata": {
        "colab": {
          "base_uri": "https://localhost:8080/"
        },
        "id": "e0f96d63",
        "outputId": "24cd39b0-8e56-4282-e09e-d263e2952a92"
      },
      "outputs": [
        {
          "output_type": "stream",
          "name": "stdout",
          "text": [
            "+-------+-----------------------+------+--------+---------+--------------------------------------------------------------------------------------------------------------------------------------------------------------------------------------------+----+--------+---------+-----------+--------------+-------------+--------------------------------------------------------------------------------------------------------------------------------------------------------------------------------------------------------------------------------------------------------------------------------------------------------------------------------------------------------------------------------------------------------------------------------------------------------------------------------------------------------------------------------------------------------------------------------------------------------------------------------------------------------+------------+-----------------------------------+\n",
            "|version|timestamp              |userId|userName|operation|operationParameters                                                                                                                                                                         |job |notebook|clusterId|readVersion|isolationLevel|isBlindAppend|operationMetrics                                                                                                                                                                                                                                                                                                                                                                                                                                                                                                                                                                                                                                        |userMetadata|engineInfo                         |\n",
            "+-------+-----------------------+------+--------+---------+--------------------------------------------------------------------------------------------------------------------------------------------------------------------------------------------+----+--------+---------+-----------+--------------+-------------+--------------------------------------------------------------------------------------------------------------------------------------------------------------------------------------------------------------------------------------------------------------------------------------------------------------------------------------------------------------------------------------------------------------------------------------------------------------------------------------------------------------------------------------------------------------------------------------------------------------------------------------------------------+------------+-----------------------------------+\n",
            "|13     |2025-08-14 11:31:19.602|NULL  |NULL    |MERGE    |{predicate -> [\"(order_id#17026L = order_id#4457L)\"], matchedPredicates -> [{\"actionType\":\"update\"}], notMatchedPredicates -> [{\"actionType\":\"insert\"}], notMatchedBySourcePredicates -> []}|NULL|NULL    |NULL     |12         |Serializable  |false        |{numTargetRowsCopied -> 1, numTargetRowsDeleted -> 0, numTargetFilesAdded -> 1, numTargetBytesAdded -> 1661, numTargetBytesRemoved -> 1661, numTargetDeletionVectorsAdded -> 0, numTargetRowsMatchedUpdated -> 3, executionTimeMs -> 3185, numTargetRowsInserted -> 0, numTargetRowsMatchedDeleted -> 0, numTargetDeletionVectorsUpdated -> 0, scanTimeMs -> 2232, numTargetRowsUpdated -> 3, numOutputRows -> 4, numTargetDeletionVectorsRemoved -> 0, numTargetRowsNotMatchedBySourceUpdated -> 0, numTargetChangeFilesAdded -> 0, numSourceRows -> 3, numTargetFilesRemoved -> 1, numTargetRowsNotMatchedBySourceDeleted -> 0, rewriteTimeMs -> 555} |NULL        |Apache-Spark/3.5.0 Delta-Lake/3.1.0|\n",
            "|12     |2025-08-14 11:28:40.386|NULL  |NULL    |MERGE    |{predicate -> [\"(order_id#15682L = order_id#4457L)\"], matchedPredicates -> [{\"actionType\":\"update\"}], notMatchedPredicates -> [{\"actionType\":\"insert\"}], notMatchedBySourcePredicates -> []}|NULL|NULL    |NULL     |11         |Serializable  |false        |{numTargetRowsCopied -> 1, numTargetRowsDeleted -> 0, numTargetFilesAdded -> 1, numTargetBytesAdded -> 1661, numTargetBytesRemoved -> 1661, numTargetDeletionVectorsAdded -> 0, numTargetRowsMatchedUpdated -> 3, executionTimeMs -> 2984, numTargetRowsInserted -> 0, numTargetRowsMatchedDeleted -> 0, numTargetDeletionVectorsUpdated -> 0, scanTimeMs -> 2158, numTargetRowsUpdated -> 3, numOutputRows -> 4, numTargetDeletionVectorsRemoved -> 0, numTargetRowsNotMatchedBySourceUpdated -> 0, numTargetChangeFilesAdded -> 0, numSourceRows -> 3, numTargetFilesRemoved -> 1, numTargetRowsNotMatchedBySourceDeleted -> 0, rewriteTimeMs -> 498} |NULL        |Apache-Spark/3.5.0 Delta-Lake/3.1.0|\n",
            "|11     |2025-08-14 11:28:25.938|NULL  |NULL    |MERGE    |{predicate -> [\"(order_id#13620L = order_id#4457L)\"], matchedPredicates -> [{\"actionType\":\"update\"}], notMatchedPredicates -> [{\"actionType\":\"insert\"}], notMatchedBySourcePredicates -> []}|NULL|NULL    |NULL     |10         |Serializable  |false        |{numTargetRowsCopied -> 1, numTargetRowsDeleted -> 0, numTargetFilesAdded -> 1, numTargetBytesAdded -> 1661, numTargetBytesRemoved -> 1661, numTargetDeletionVectorsAdded -> 0, numTargetRowsMatchedUpdated -> 3, executionTimeMs -> 9923, numTargetRowsInserted -> 0, numTargetRowsMatchedDeleted -> 0, numTargetDeletionVectorsUpdated -> 0, scanTimeMs -> 8315, numTargetRowsUpdated -> 3, numOutputRows -> 4, numTargetDeletionVectorsRemoved -> 0, numTargetRowsNotMatchedBySourceUpdated -> 0, numTargetChangeFilesAdded -> 0, numSourceRows -> 3, numTargetFilesRemoved -> 1, numTargetRowsNotMatchedBySourceDeleted -> 0, rewriteTimeMs -> 1221}|NULL        |Apache-Spark/3.5.0 Delta-Lake/3.1.0|\n",
            "|10     |2025-08-14 11:27:37.605|NULL  |NULL    |MERGE    |{predicate -> [\"(order_id#12188L = order_id#4457L)\"], matchedPredicates -> [{\"actionType\":\"update\"}], notMatchedPredicates -> [{\"actionType\":\"insert\"}], notMatchedBySourcePredicates -> []}|NULL|NULL    |NULL     |9          |Serializable  |false        |{numTargetRowsCopied -> 1, numTargetRowsDeleted -> 0, numTargetFilesAdded -> 1, numTargetBytesAdded -> 1661, numTargetBytesRemoved -> 1661, numTargetDeletionVectorsAdded -> 0, numTargetRowsMatchedUpdated -> 3, executionTimeMs -> 3935, numTargetRowsInserted -> 0, numTargetRowsMatchedDeleted -> 0, numTargetDeletionVectorsUpdated -> 0, scanTimeMs -> 2975, numTargetRowsUpdated -> 3, numOutputRows -> 4, numTargetDeletionVectorsRemoved -> 0, numTargetRowsNotMatchedBySourceUpdated -> 0, numTargetChangeFilesAdded -> 0, numSourceRows -> 3, numTargetFilesRemoved -> 1, numTargetRowsNotMatchedBySourceDeleted -> 0, rewriteTimeMs -> 491} |NULL        |Apache-Spark/3.5.0 Delta-Lake/3.1.0|\n",
            "|9      |2025-08-14 11:27:16.576|NULL  |NULL    |MERGE    |{predicate -> [\"(order_id#10902L = order_id#4457L)\"], matchedPredicates -> [{\"actionType\":\"update\"}], notMatchedPredicates -> [{\"actionType\":\"insert\"}], notMatchedBySourcePredicates -> []}|NULL|NULL    |NULL     |8          |Serializable  |false        |{numTargetRowsCopied -> 1, numTargetRowsDeleted -> 0, numTargetFilesAdded -> 1, numTargetBytesAdded -> 1661, numTargetBytesRemoved -> 1661, numTargetDeletionVectorsAdded -> 0, numTargetRowsMatchedUpdated -> 3, executionTimeMs -> 3175, numTargetRowsInserted -> 0, numTargetRowsMatchedDeleted -> 0, numTargetDeletionVectorsUpdated -> 0, scanTimeMs -> 2223, numTargetRowsUpdated -> 3, numOutputRows -> 4, numTargetDeletionVectorsRemoved -> 0, numTargetRowsNotMatchedBySourceUpdated -> 0, numTargetChangeFilesAdded -> 0, numSourceRows -> 3, numTargetFilesRemoved -> 1, numTargetRowsNotMatchedBySourceDeleted -> 0, rewriteTimeMs -> 534} |NULL        |Apache-Spark/3.5.0 Delta-Lake/3.1.0|\n",
            "|8      |2025-08-14 11:25:13.41 |NULL  |NULL    |MERGE    |{predicate -> [\"(order_id#9616L = order_id#4457L)\"], matchedPredicates -> [{\"actionType\":\"update\"}], notMatchedPredicates -> [{\"actionType\":\"insert\"}], notMatchedBySourcePredicates -> []} |NULL|NULL    |NULL     |7          |Serializable  |false        |{numTargetRowsCopied -> 1, numTargetRowsDeleted -> 0, numTargetFilesAdded -> 1, numTargetBytesAdded -> 1661, numTargetBytesRemoved -> 1661, numTargetDeletionVectorsAdded -> 0, numTargetRowsMatchedUpdated -> 3, executionTimeMs -> 5834, numTargetRowsInserted -> 0, numTargetRowsMatchedDeleted -> 0, numTargetDeletionVectorsUpdated -> 0, scanTimeMs -> 4733, numTargetRowsUpdated -> 3, numOutputRows -> 4, numTargetDeletionVectorsRemoved -> 0, numTargetRowsNotMatchedBySourceUpdated -> 0, numTargetChangeFilesAdded -> 0, numSourceRows -> 3, numTargetFilesRemoved -> 1, numTargetRowsNotMatchedBySourceDeleted -> 0, rewriteTimeMs -> 555} |NULL        |Apache-Spark/3.5.0 Delta-Lake/3.1.0|\n",
            "|7      |2025-08-14 11:21:25.133|NULL  |NULL    |MERGE    |{predicate -> [\"(order_id#8330L = order_id#4457L)\"], matchedPredicates -> [{\"actionType\":\"update\"}], notMatchedPredicates -> [{\"actionType\":\"insert\"}], notMatchedBySourcePredicates -> []} |NULL|NULL    |NULL     |6          |Serializable  |false        |{numTargetRowsCopied -> 1, numTargetRowsDeleted -> 0, numTargetFilesAdded -> 1, numTargetBytesAdded -> 1661, numTargetBytesRemoved -> 1661, numTargetDeletionVectorsAdded -> 0, numTargetRowsMatchedUpdated -> 3, executionTimeMs -> 5139, numTargetRowsInserted -> 0, numTargetRowsMatchedDeleted -> 0, numTargetDeletionVectorsUpdated -> 0, scanTimeMs -> 3613, numTargetRowsUpdated -> 3, numOutputRows -> 4, numTargetDeletionVectorsRemoved -> 0, numTargetRowsNotMatchedBySourceUpdated -> 0, numTargetChangeFilesAdded -> 0, numSourceRows -> 3, numTargetFilesRemoved -> 1, numTargetRowsNotMatchedBySourceDeleted -> 0, rewriteTimeMs -> 1068}|NULL        |Apache-Spark/3.5.0 Delta-Lake/3.1.0|\n",
            "|6      |2025-08-14 11:21:10.217|NULL  |NULL    |MERGE    |{predicate -> [\"(order_id#7044L = order_id#4457L)\"], matchedPredicates -> [{\"actionType\":\"update\"}], notMatchedPredicates -> [{\"actionType\":\"insert\"}], notMatchedBySourcePredicates -> []} |NULL|NULL    |NULL     |5          |Serializable  |false        |{numTargetRowsCopied -> 1, numTargetRowsDeleted -> 0, numTargetFilesAdded -> 1, numTargetBytesAdded -> 1661, numTargetBytesRemoved -> 1661, numTargetDeletionVectorsAdded -> 0, numTargetRowsMatchedUpdated -> 3, executionTimeMs -> 4411, numTargetRowsInserted -> 0, numTargetRowsMatchedDeleted -> 0, numTargetDeletionVectorsUpdated -> 0, scanTimeMs -> 2892, numTargetRowsUpdated -> 3, numOutputRows -> 4, numTargetDeletionVectorsRemoved -> 0, numTargetRowsNotMatchedBySourceUpdated -> 0, numTargetChangeFilesAdded -> 0, numSourceRows -> 3, numTargetFilesRemoved -> 1, numTargetRowsNotMatchedBySourceDeleted -> 0, rewriteTimeMs -> 1191}|NULL        |Apache-Spark/3.5.0 Delta-Lake/3.1.0|\n",
            "|5      |2025-08-14 11:20:49.945|NULL  |NULL    |MERGE    |{predicate -> [\"(order_id#5758L = order_id#4457L)\"], matchedPredicates -> [{\"actionType\":\"update\"}], notMatchedPredicates -> [{\"actionType\":\"insert\"}], notMatchedBySourcePredicates -> []} |NULL|NULL    |NULL     |4          |Serializable  |false        |{numTargetRowsCopied -> 1, numTargetRowsDeleted -> 0, numTargetFilesAdded -> 1, numTargetBytesAdded -> 1661, numTargetBytesRemoved -> 1661, numTargetDeletionVectorsAdded -> 0, numTargetRowsMatchedUpdated -> 3, executionTimeMs -> 4861, numTargetRowsInserted -> 0, numTargetRowsMatchedDeleted -> 0, numTargetDeletionVectorsUpdated -> 0, scanTimeMs -> 3557, numTargetRowsUpdated -> 3, numOutputRows -> 4, numTargetDeletionVectorsRemoved -> 0, numTargetRowsNotMatchedBySourceUpdated -> 0, numTargetChangeFilesAdded -> 0, numSourceRows -> 3, numTargetFilesRemoved -> 1, numTargetRowsNotMatchedBySourceDeleted -> 0, rewriteTimeMs -> 937} |NULL        |Apache-Spark/3.5.0 Delta-Lake/3.1.0|\n",
            "|4      |2025-08-14 11:20:33.627|NULL  |NULL    |MERGE    |{predicate -> [\"(order_id#4467L = order_id#4457L)\"], matchedPredicates -> [{\"actionType\":\"update\"}], notMatchedPredicates -> [{\"actionType\":\"insert\"}], notMatchedBySourcePredicates -> []} |NULL|NULL    |NULL     |3          |Serializable  |false        |{numTargetRowsCopied -> 1, numTargetRowsDeleted -> 0, numTargetFilesAdded -> 1, numTargetBytesAdded -> 1661, numTargetBytesRemoved -> 1566, numTargetDeletionVectorsAdded -> 0, numTargetRowsMatchedUpdated -> 1, executionTimeMs -> 7723, numTargetRowsInserted -> 2, numTargetRowsMatchedDeleted -> 0, numTargetDeletionVectorsUpdated -> 0, scanTimeMs -> 5044, numTargetRowsUpdated -> 1, numOutputRows -> 4, numTargetDeletionVectorsRemoved -> 0, numTargetRowsNotMatchedBySourceUpdated -> 0, numTargetChangeFilesAdded -> 0, numSourceRows -> 3, numTargetFilesRemoved -> 1, numTargetRowsNotMatchedBySourceDeleted -> 0, rewriteTimeMs -> 1842}|NULL        |Apache-Spark/3.5.0 Delta-Lake/3.1.0|\n",
            "|3      |2025-08-14 11:20:07.135|NULL  |NULL    |DELETE   |{predicate -> [\"(quantity#3260L < 2)\"]}                                                                                                                                                     |NULL|NULL    |NULL     |2          |Serializable  |false        |{numRemovedFiles -> 1, numRemovedBytes -> 1565, numCopiedRows -> 1, numDeletionVectorsAdded -> 0, numDeletionVectorsRemoved -> 0, numAddedChangeFiles -> 0, executionTimeMs -> 5209, numDeletionVectorsUpdated -> 0, numDeletedRows -> 1, scanTimeMs -> 3826, numAddedFiles -> 1, numAddedBytes -> 1567, rewriteTimeMs -> 1380}                                                                                                                                                                                                                                                                                                                         |NULL        |Apache-Spark/3.5.0 Delta-Lake/3.1.0|\n",
            "|2      |2025-08-14 11:19:49.44 |NULL  |NULL    |UPDATE   |{predicate -> [\"(category#2060 = Clothing)\"]}                                                                                                                                               |NULL|NULL    |NULL     |1          |Serializable  |false        |{numRemovedFiles -> 2, numRemovedBytes -> 3130, numCopiedRows -> 2, numDeletionVectorsAdded -> 0, numDeletionVectorsRemoved -> 0, numAddedChangeFiles -> 0, executionTimeMs -> 5041, numDeletionVectorsUpdated -> 0, scanTimeMs -> 4257, numAddedFiles -> 2, numUpdatedRows -> 2, numAddedBytes -> 3131, rewriteTimeMs -> 779}                                                                                                                                                                                                                                                                                                                          |NULL        |Apache-Spark/3.5.0 Delta-Lake/3.1.0|\n",
            "|1      |2025-08-14 11:18:59.081|NULL  |NULL    |WRITE    |{mode -> Overwrite, partitionBy -> []}                                                                                                                                                      |NULL|NULL    |NULL     |0          |Serializable  |false        |{numFiles -> 2, numOutputRows -> 4, numOutputBytes -> 3130}                                                                                                                                                                                                                                                                                                                                                                                                                                                                                                                                                                                             |NULL        |Apache-Spark/3.5.0 Delta-Lake/3.1.0|\n",
            "|0      |2025-08-14 11:18:18.622|NULL  |NULL    |WRITE    |{mode -> Overwrite, partitionBy -> []}                                                                                                                                                      |NULL|NULL    |NULL     |NULL       |Serializable  |false        |{numFiles -> 2, numOutputRows -> 4, numOutputBytes -> 3130}                                                                                                                                                                                                                                                                                                                                                                                                                                                                                                                                                                                             |NULL        |Apache-Spark/3.5.0 Delta-Lake/3.1.0|\n",
            "+-------+-----------------------+------+--------+---------+--------------------------------------------------------------------------------------------------------------------------------------------------------------------------------------------+----+--------+---------+-----------+--------------+-------------+--------------------------------------------------------------------------------------------------------------------------------------------------------------------------------------------------------------------------------------------------------------------------------------------------------------------------------------------------------------------------------------------------------------------------------------------------------------------------------------------------------------------------------------------------------------------------------------------------------------------------------------------------------+------------+-----------------------------------+\n",
            "\n"
          ]
        }
      ],
      "source": [
        "spark.sql(\"DESCRIBE HISTORY orders_managed\").show(truncate=False)"
      ]
    },
    {
      "cell_type": "code",
      "source": [
        "df_v0 = spark.read.format(\"delta\").option(\"versionAsOf\", 0).load(\"/tmp/orders_delta\")\n",
        "df_v0.show()"
      ],
      "metadata": {
        "colab": {
          "base_uri": "https://localhost:8080/"
        },
        "id": "bP7v_p9LUCxb",
        "outputId": "4870c889-3385-4f91-967f-f73407aefa6a"
      },
      "id": "bP7v_p9LUCxb",
      "execution_count": 24,
      "outputs": [
        {
          "output_type": "stream",
          "name": "stdout",
          "text": [
            "+--------+-------------+-----------+--------+------+\n",
            "|order_id|customer_name|   category|quantity|amount|\n",
            "+--------+-------------+-----------+--------+------+\n",
            "|       1|         John|Electronics|       2|   300|\n",
            "|       2|         Sara|   Clothing|       1|    50|\n",
            "|       3|         Mike|Electronics|       4|   600|\n",
            "|       4|         Nina|   Clothing|       3|   150|\n",
            "+--------+-------------+-----------+--------+------+\n",
            "\n"
          ]
        }
      ]
    },
    {
      "cell_type": "code",
      "source": [
        "df_latest = spark.read.format(\"delta\").load(\"/tmp/orders_delta\")\n",
        "df_latest.show()"
      ],
      "metadata": {
        "colab": {
          "base_uri": "https://localhost:8080/"
        },
        "id": "GNmSQ46cUCuw",
        "outputId": "face620c-9159-47cb-8f76-070967901254"
      },
      "id": "GNmSQ46cUCuw",
      "execution_count": 29,
      "outputs": [
        {
          "output_type": "stream",
          "name": "stdout",
          "text": [
            "+--------+-------------+-----------+--------+------+\n",
            "|order_id|customer_name|   category|quantity|amount|\n",
            "+--------+-------------+-----------+--------+------+\n",
            "|       3|         Mike|Electronics|       5|   750|\n",
            "|       4|         Nina|   Clothing|       3|   170|\n",
            "|       5|         Liam|  Furniture|       1|   200|\n",
            "|       6|         Emma|   Clothing|       2|    80|\n",
            "|       1|         John|Electronics|       2|   300|\n",
            "+--------+-------------+-----------+--------+------+\n",
            "\n"
          ]
        }
      ]
    },
    {
      "cell_type": "code",
      "execution_count": 35,
      "id": "adb64bc4",
      "metadata": {
        "id": "adb64bc4"
      },
      "outputs": [],
      "source": [
        "incremental_data = [\n",
        "    (7, \"Noah\", \"Electronics\", 1, 150),\n",
        "    (8, \"Olivia\", \"Clothing\", 4, 200),\n",
        "]\n",
        "incremental_df = spark.createDataFrame(incremental_data, columns)"
      ]
    },
    {
      "cell_type": "code",
      "source": [
        "incremental_df.write.format(\"delta\").mode(\"append\").save(\"/tmp/orders_delta\")"
      ],
      "metadata": {
        "id": "Ch8ZWWKGWq6G"
      },
      "id": "Ch8ZWWKGWq6G",
      "execution_count": 36,
      "outputs": []
    },
    {
      "cell_type": "code",
      "source": [
        "spark.read.format(\"delta\").load(\"/tmp/orders_delta\").show()"
      ],
      "metadata": {
        "colab": {
          "base_uri": "https://localhost:8080/"
        },
        "id": "22kPUwqXWrvK",
        "outputId": "f7309306-f6bc-429a-dfe4-05e6782c426b"
      },
      "id": "22kPUwqXWrvK",
      "execution_count": 46,
      "outputs": [
        {
          "output_type": "stream",
          "name": "stdout",
          "text": [
            "+--------+-------------+-----------+--------+------+\n",
            "|order_id|customer_name|   category|quantity|amount|\n",
            "+--------+-------------+-----------+--------+------+\n",
            "|       3|         Mike|Electronics|       5|   750|\n",
            "|       4|         Nina|   Clothing|       3|   170|\n",
            "|       5|         Liam|  Furniture|       1|   200|\n",
            "|       6|         Emma|   Clothing|       2|    80|\n",
            "|       1|         John|Electronics|       2|   300|\n",
            "|       7|         Noah|Electronics|       1|   150|\n",
            "|       8|       Olivia|   Clothing|       4|   200|\n",
            "+--------+-------------+-----------+--------+------+\n",
            "\n"
          ]
        }
      ]
    },
    {
      "cell_type": "code",
      "execution_count": 65,
      "id": "5f7d7921",
      "metadata": {
        "id": "5f7d7921"
      },
      "outputs": [],
      "source": [
        "stream_df = (spark.readStream\n",
        "    .format(\"delta\")\n",
        "    .load(\"/tmp/orders_delta\"))\n",
        "\n",
        "query = (stream_df.writeStream\n",
        "    .format(\"console\")\n",
        "    .outputMode(\"append\")\n",
        "    .trigger(processingTime=\"5 seconds\")\n",
        "    .start())"
      ]
    },
    {
      "cell_type": "code",
      "execution_count": 80,
      "id": "0fb1d9fd",
      "metadata": {
        "colab": {
          "base_uri": "https://localhost:8080/",
          "height": 472
        },
        "id": "0fb1d9fd",
        "outputId": "7ea60764-a4ec-4d84-9fcc-9911e8831260"
      },
      "outputs": [
        {
          "output_type": "display_data",
          "data": {
            "text/plain": [
              "<Figure size 640x480 with 1 Axes>"
            ],
            "image/png": "[encoded data removed]"
          },
          "metadata": {}
        }
      ],
      "source": [
        "import pandas as pd\n",
        "import matplotlib.pyplot as plt\n",
        "\n",
        "pdf = spark.read.format(\"delta\").load(\"/tmp/orders_delta\").toPandas()\n",
        "category_totals = pdf.groupby(\"category\")[\"amount\"].sum().reset_index()\n",
        "\n",
        "plt.bar(category_totals[\"category\"], category_totals[\"amount\"])\n",
        "plt.xlabel(\"Category\")\n",
        "plt.ylabel(\"Total Amount\")\n",
        "plt.title(\"Category vs Total Amount\")\n",
        "plt.show()"
      ]
    }
  ],
  "metadata": {
    "colab": {
      "provenance": []
    },
    "language_info": {
      "name": "python"
    },
    "kernelspec": {
      "name": "python3",
      "display_name": "Python 3"
    }
  },
  "nbformat": 4,
  "nbformat_minor": 5
}