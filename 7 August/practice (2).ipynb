{
 "cells": [
  {
   "cell_type": "code",
   "execution_count": 0,
   "metadata": {
    "application/vnd.databricks.v1+cell": {
     "cellMetadata": {
      "byteLimit": 2048000,
      "rowLimit": 10000
     },
     "inputWidgets": {},
     "nuid": "8a1901b1-5585-4a3c-966e-f2ba152ec203",
     "showTitle": false,
     "tableResultSettingsMap": {},
     "title": ""
    }
   },
   "outputs": [
    {
     "name": "stdout",
     "output_type": "stream",
     "text": [
      "Wrote 139 bytes.\n"
     ]
    },
    {
     "data": {
      "text/plain": [
       "True"
      ]
     },
     "execution_count": 1,
     "metadata": {},
     "output_type": "execute_result"
    }
   ],
   "source": [
    "csv_data = \"\"\"id,name,category,price\n",
    "1,Amit,Electronics,50000\n",
    "2,Priya,Furniture,3000\n",
    "3,Rahul,Stationery,200\n",
    "4,Neha,Books,800\n",
    "5,Karthik,Electronics,45000\n",
    "\"\"\"\n",
    "\n",
    "dbutils.fs.put(\"dbfs:/temp/products.csv\", csv_data, overwrite=True)"
   ]
  },
  {
   "cell_type": "code",
   "execution_count": 0,
   "metadata": {
    "application/vnd.databricks.v1+cell": {
     "cellMetadata": {
      "byteLimit": 2048000,
      "rowLimit": 10000
     },
     "inputWidgets": {},
     "nuid": "4bd95f0e-b57e-4582-984a-ad980b2a48fe",
     "showTitle": false,
     "tableResultSettingsMap": {},
     "title": ""
    }
   },
   "outputs": [
    {
     "name": "stdout",
     "output_type": "stream",
     "text": [
      "+---+-------+-----------+-----+\n",
      "| id|   name|   category|price|\n",
      "+---+-------+-----------+-----+\n",
      "|  1|   Amit|Electronics|50000|\n",
      "|  2|  Priya|  Furniture| 3000|\n",
      "|  3|  Rahul| Stationery|  200|\n",
      "|  4|   Neha|      Books|  800|\n",
      "|  5|Karthik|Electronics|45000|\n",
      "+---+-------+-----------+-----+\n",
      "\n"
     ]
    }
   ],
   "source": [
    "df = spark.read.option(\"header\", True).option(\"inferSchema\",True).csv(\"dbfs:/temp/products.csv\")\n",
    "df.show()"
   ]
  },
  {
   "cell_type": "code",
   "execution_count": 0,
   "metadata": {
    "application/vnd.databricks.v1+cell": {
     "cellMetadata": {
      "byteLimit": 2048000,
      "rowLimit": 10000
     },
     "inputWidgets": {},
     "nuid": "ee59fe59-1cad-48b7-8253-1389c57acb5a",
     "showTitle": false,
     "tableResultSettingsMap": {},
     "title": ""
    }
   },
   "outputs": [],
   "source": [
    "df.write.format(\"delta\").mode(\"overwrite\").save(\"/tmp/delta/products\")"
   ]
  },
  {
   "cell_type": "code",
   "execution_count": 0,
   "metadata": {
    "application/vnd.databricks.v1+cell": {
     "cellMetadata": {
      "byteLimit": 2048000,
      "rowLimit": 10000
     },
     "inputWidgets": {},
     "nuid": "621f8717-2722-4334-ad3c-bd75b850b1fc",
     "showTitle": false,
     "tableResultSettingsMap": {},
     "title": ""
    }
   },
   "outputs": [
    {
     "name": "stdout",
     "output_type": "stream",
     "text": [
      "+---+-------+-----------+-----+\n",
      "| id|   name|   category|price|\n",
      "+---+-------+-----------+-----+\n",
      "|  1|   Amit|Electronics|50000|\n",
      "|  2|  Priya|  Furniture| 3000|\n",
      "|  3|  Rahul| Stationery|  200|\n",
      "|  4|   Neha|      Books|  800|\n",
      "|  5|Karthik|Electronics|45000|\n",
      "+---+-------+-----------+-----+\n",
      "\n"
     ]
    }
   ],
   "source": [
    "df_delta = spark.read.format(\"delta\").load(\"/tmp/delta/products\")\n",
    "df_delta.show()"
   ]
  },
  {
   "cell_type": "code",
   "execution_count": 0,
   "metadata": {
    "application/vnd.databricks.v1+cell": {
     "cellMetadata": {
      "byteLimit": 2048000,
      "rowLimit": 10000
     },
     "inputWidgets": {},
     "nuid": "38cce3d0-5d72-4e79-b49e-0d676d34e010",
     "showTitle": false,
     "tableResultSettingsMap": {},
     "title": ""
    }
   },
   "outputs": [
    {
     "name": "stdout",
     "output_type": "stream",
     "text": [
      "+---+-------+-----------+-----+\n",
      "| id|   name|   category|price|\n",
      "+---+-------+-----------+-----+\n",
      "|  1|   Amit|Electronics|50000|\n",
      "|  3|  Rahul| Stationery|  200|\n",
      "|  4|   Neha|      Books|  800|\n",
      "|  5|Karthik|Electronics|45000|\n",
      "|  2|  Priya|  Furniture| 3500|\n",
      "+---+-------+-----------+-----+\n",
      "\n"
     ]
    }
   ],
   "source": [
    "from delta.tables import DeltaTable\n",
    "delta_table = DeltaTable.forPath(spark, \"/tmp/delta/products\")\n",
    "\n",
    "\n",
    "delta_table.update(\n",
    "    condition=\"id = 2\",\n",
    "    set={\"price\":\"3500\"}\n",
    ")\n",
    "\n",
    "delta_table.toDF().show(    )"
   ]
  },
  {
   "cell_type": "code",
   "execution_count": 0,
   "metadata": {
    "application/vnd.databricks.v1+cell": {
     "cellMetadata": {
      "byteLimit": 2048000,
      "rowLimit": 10000
     },
     "inputWidgets": {},
     "nuid": "6260b7b8-a250-42e2-8330-7d01a4a724c3",
     "showTitle": false,
     "tableResultSettingsMap": {},
     "title": ""
    }
   },
   "outputs": [
    {
     "name": "stdout",
     "output_type": "stream",
     "text": [
      "+---+-------+-----------+-----+\n",
      "| id|   name|   category|price|\n",
      "+---+-------+-----------+-----+\n",
      "|  1|   Amit|Electronics|50000|\n",
      "|  3|  Rahul| Stationery|  200|\n",
      "|  4|   Neha|      Books|  800|\n",
      "|  5|Karthik|Electronics|45000|\n",
      "|  2|  Priya|  Furniture| 4000|\n",
      "|  6|  Sneha|    Kitchen| 1200|\n",
      "+---+-------+-----------+-----+\n",
      "\n"
     ]
    }
   ],
   "source": [
    "new_data = [\n",
    "    (2, \"Priya\", \"Furniture\", 4000),     \n",
    "    (6, \"Sneha\", \"Kitchen\", 1200)       \n",
    "]\n",
    " \n",
    "\n",
    "updates_df = spark.createDataFrame(new_data, [\"id\", \"name\", \"category\", \"price\"])\n",
    "\n",
    "\n",
    "delta_table.alias(\"target\").merge(\n",
    "    updates_df.alias(\"source\"),\n",
    "    \"target.id = source.id\"\n",
    ").whenMatchedUpdateAll() \\\n",
    " .whenNotMatchedInsertAll() \\\n",
    " .execute()\n",
    "\n",
    "\n",
    "delta_table.toDF().show()"
   ]
  },
  {
   "cell_type": "code",
   "execution_count": 0,
   "metadata": {
    "application/vnd.databricks.v1+cell": {
     "cellMetadata": {
      "byteLimit": 2048000,
      "rowLimit": 10000
     },
     "inputWidgets": {},
     "nuid": "1e205469-72de-4f42-b27a-a14cd8fbff3d",
     "showTitle": false,
     "tableResultSettingsMap": {},
     "title": ""
    }
   },
   "outputs": [
    {
     "data": {
      "text/html": [
       "<style scoped>\n",
       "  .table-result-container {\n",
       "    max-height: 300px;\n",
       "    overflow: auto;\n",
       "  }\n",
       "  table, th, td {\n",
       "    border: 1px solid black;\n",
       "    border-collapse: collapse;\n",
       "  }\n",
       "  th, td {\n",
       "    padding: 5px;\n",
       "  }\n",
       "  th {\n",
       "    text-align: left;\n",
       "  }\n",
       "</style><div class='table-result-container'><table class='table-result'><thead style='background-color: white'><tr><th>id</th><th>name</th><th>category</th><th>price</th></tr></thead><tbody><tr><td>1</td><td>Amit</td><td>Electronics</td><td>50000</td></tr><tr><td>3</td><td>Rahul</td><td>Stationery</td><td>200</td></tr><tr><td>4</td><td>Neha</td><td>Books</td><td>800</td></tr><tr><td>5</td><td>Karthik</td><td>Electronics</td><td>45000</td></tr><tr><td>2</td><td>Priya</td><td>Furniture</td><td>4000</td></tr><tr><td>6</td><td>Sneha</td><td>Kitchen</td><td>1200</td></tr></tbody></table></div>"
      ]
     },
     "metadata": {
      "application/vnd.databricks.v1+output": {
       "addedWidgets": {},
       "aggData": [],
       "aggError": "",
       "aggOverflow": false,
       "aggSchema": [],
       "aggSeriesLimitReached": false,
       "aggType": "",
       "arguments": {},
       "columnCustomDisplayInfos": {},
       "data": [
        [
         1,
         "Amit",
         "Electronics",
         50000
        ],
        [
         3,
         "Rahul",
         "Stationery",
         200
        ],
        [
         4,
         "Neha",
         "Books",
         800
        ],
        [
         5,
         "Karthik",
         "Electronics",
         45000
        ],
        [
         2,
         "Priya",
         "Furniture",
         4000
        ],
        [
         6,
         "Sneha",
         "Kitchen",
         1200
        ]
       ],
       "datasetInfos": [],
       "dbfsResultPath": null,
       "isJsonSchema": true,
       "metadata": {},
       "overflow": false,
       "plotOptions": {
        "customPlotOptions": {},
        "displayType": "table",
        "pivotAggregation": null,
        "pivotColumns": null,
        "xColumns": null,
        "yColumns": null
       },
       "removedWidgets": [],
       "schema": [
        {
         "metadata": "{}",
         "name": "id",
         "type": "\"integer\""
        },
        {
         "metadata": "{}",
         "name": "name",
         "type": "\"string\""
        },
        {
         "metadata": "{}",
         "name": "category",
         "type": "\"string\""
        },
        {
         "metadata": "{}",
         "name": "price",
         "type": "\"integer\""
        }
       ],
       "type": "table"
      }
     },
     "output_type": "display_data"
    },
    {
     "name": "stdout",
     "output_type": "stream",
     "text": [
      "+---+-------+-----------+-----+\n",
      "| id|   name|   category|price|\n",
      "+---+-------+-----------+-----+\n",
      "|  1|   Amit|Electronics|50000|\n",
      "|  2|  Priya|  Furniture| 3000|\n",
      "|  3|  Rahul| Stationery|  200|\n",
      "|  4|   Neha|      Books|  800|\n",
      "|  5|Karthik|Electronics|45000|\n",
      "+---+-------+-----------+-----+\n",
      "\n"
     ]
    }
   ],
   "source": [
    "\n",
    "delta_table.toDF().display()\n",
    "\n",
    "\n",
    "previous_df = spark.read.format(\"delta\").option(\"versionAsOf\", 0).load(\"/tmp/delta/products\")\n",
    "previous_df.show()"
   ]
  },
  {
   "cell_type": "code",
   "execution_count": 0,
   "metadata": {
    "application/vnd.databricks.v1+cell": {
     "cellMetadata": {
      "byteLimit": 2048000,
      "rowLimit": 10000
     },
     "inputWidgets": {},
     "nuid": "b7b60b11-e7a6-4969-a04e-2ec024227f7f",
     "showTitle": false,
     "tableResultSettingsMap": {},
     "title": ""
    }
   },
   "outputs": [],
   "source": [
    "df.write.format(\"delta\").mode(\"overwrite\").partitionBy(\"category\").save(\"/tmp/delta/products_partioned\")\n"
   ]
  },
  {
   "cell_type": "code",
   "execution_count": 0,
   "metadata": {
    "application/vnd.databricks.v1+cell": {
     "cellMetadata": {
      "byteLimit": 2048000,
      "rowLimit": 10000
     },
     "inputWidgets": {},
     "nuid": "d6785bcc-faac-434e-a8f4-2e1e7d9f1277",
     "showTitle": false,
     "tableResultSettingsMap": {},
     "title": ""
    }
   },
   "outputs": [
    {
     "name": "stdout",
     "output_type": "stream",
     "text": [
      "+---+-------+-----------+-----+\n",
      "| id|   name|   category|price|\n",
      "+---+-------+-----------+-----+\n",
      "|  5|Karthik|Electronics|45000|\n",
      "|  1|   Amit|Electronics|50000|\n",
      "|  2|  Priya|  Furniture| 3000|\n",
      "|  3|  Rahul| Stationery|  200|\n",
      "|  4|   Neha|      Books|  800|\n",
      "+---+-------+-----------+-----+\n",
      "\n"
     ]
    }
   ],
   "source": [
    "spark.read.format(\"delta\").load(\"/tmp/delta/products_partioned\").show()"
   ]
  },
  {
   "cell_type": "code",
   "execution_count": 0,
   "metadata": {
    "application/vnd.databricks.v1+cell": {
     "cellMetadata": {},
     "inputWidgets": {},
     "nuid": "bb6da7d8-be0d-4276-9da5-515d84496c93",
     "showTitle": false,
     "tableResultSettingsMap": {},
     "title": ""
    }
   },
   "outputs": [],
   "source": []
  }
 ],
 "metadata": {
  "application/vnd.databricks.v1+notebook": {
   "computePreferences": null,
   "dashboards": [],
   "environmentMetadata": {
    "base_environment": "",
    "environment_version": "2"
   },
   "inputWidgetPreferences": null,
   "language": "python",
   "notebookMetadata": {
    "pythonIndentUnit": 4
   },
   "notebookName": "Day-02-Practice-02",
   "widgets": {}
  },
  "language_info": {
   "name": "python"
  }
 },
 "nbformat": 4,
 "nbformat_minor": 0
}
