{
 "cells": [
  {
   "cell_type": "code",
   "execution_count": null,
   "id": "b2fd9182",
   "metadata": {},
   "outputs": [],
   "source": [
    "from pyspark.sql import SparkSession\n",
    "from delta import configure_spark_with_delta_pip\n",
    "\n",
    "builder = SparkSession.builder \\\n",
    "    .appName(\"SalesTransactionsETL\") \\\n",
    "    .config(\"spark.sql.extensions\", \"io.delta.sql.DeltaSparkSessionExtension\") \\\n",
    "    .config(\"spark.sql.catalog.spark_catalog\", \"org.apache.spark.sql.delta.catalog.DeltaCatalog\")\n",
    "\n",
    "spark = configure_spark_with_delta_pip(builder).getOrCreate()"
   ]
  },
  {
   "cell_type": "code",
   "execution_count": null,
   "id": "4ef6de20",
   "metadata": {},
   "outputs": [],
   "source": [
    "\n",
    "csv_data = '''transaction_id,customer_name,region,product,category,quantity,unit_price,date\n",
    "1,Rajesh,North,Laptop,Electronics,1,55000,2024-01-12\n",
    "2,Sneha,West,Refrigerator,Electronics,1,32000,2024-02-05\n",
    "3,Anil,South,Shampoo,Personal Care,5,150,2024-01-17\n",
    "4,Divya,North,Mobile,Electronics,2,20000,2024-03-22\n",
    "5,Vikram,East,Washing Machine,Electronics,1,28000,2024-02-28\n",
    "6,Preeti,West,Sneakers,Fashion,2,4000,2024-01-31\n",
    "7,Aman,South,TV,Electronics,1,45000,2024-02-15\n",
    "8,Isha,North,Notebook,Stationery,10,60,2024-01-10\n",
    "9,Kunal,East,Pencil,Stationery,20,10,2024-03-05\n",
    "10,Tanvi,West,Face Cream,Personal Care,3,200,2024-03-19\n",
    "'''\n",
    "\n",
    "with open(\"/tmp/sales_transactions.csv\", \"w\") as f:\n",
    "    f.write(csv_data)\n",
    "\n",
    "df = spark.read.option(\"header\", True).option(\"inferSchema\", True).csv(\"/tmp/sales_transactions.csv\")\n",
    "df.show()\n"
   ]
  },
  {
   "cell_type": "code",
   "execution_count": null,
   "id": "6b35a618",
   "metadata": {},
   "outputs": [],
   "source": [
    "df.write.mode(\"overwrite\").parquet(\"/tmp/output/sales_parquet\")\n",
    "df.write.format(\"delta\").mode(\"overwrite\").save(\"/tmp/delta/sales_transactions\")"
   ]
  },
  {
   "cell_type": "code",
   "execution_count": null,
   "id": "eecbfeea",
   "metadata": {},
   "outputs": [],
   "source": [
    "spark.sql(\"DROP TABLE IF EXISTS sales_transactions\")\n",
    "spark.sql(\"CREATE TABLE sales_transactions USING DELTA LOCATION '/tmp/delta/sales_transactions'\")\n"
   ]
  },
  {
   "cell_type": "code",
   "execution_count": null,
   "id": "afb8093f",
   "metadata": {},
   "outputs": [],
   "source": [
    "from pyspark.sql.functions import col, expr, month, date_format\n",
    "\n",
    "df = df.withColumn(\"total_amount\", col(\"quantity\") * col(\"unit_price\")) \\\n",
    "       .withColumn(\"month\", month(\"date\")) \\\n",
    "       .withColumn(\"formatted_date\", date_format(\"date\", \"dd-MMM-yyyy\")) \\\n",
    "       .withColumn(\"is_high_value\", expr(\"total_amount > 30000\"))\n",
    "\n",
    "df.show()\n"
   ]
  },
  {
   "cell_type": "code",
   "execution_count": null,
   "id": "8a543890",
   "metadata": {},
   "outputs": [],
   "source": [
    "df.groupBy(\"region\").count().show()"
   ]
  },
  {
   "cell_type": "code",
   "execution_count": null,
   "id": "59497d75",
   "metadata": {},
   "outputs": [],
   "source": [
    "df.groupBy(\"category\").agg(expr(\"sum(total_amount) as total_sales\")) \\\n",
    "  .orderBy(\"total_sales\", ascending=False).show(3)"
   ]
  },
  {
   "cell_type": "code",
   "execution_count": null,
   "id": "22745c0e",
   "metadata": {},
   "outputs": [],
   "source": [
    "df.groupBy(\"month\").agg(expr(\"sum(total_amount) as revenue\")) \\\n",
    "  .orderBy(\"month\").show()"
   ]
  },
  {
   "cell_type": "code",
   "execution_count": null,
   "id": "429a7b99",
   "metadata": {},
   "outputs": [],
   "source": [
    "max_val = df.agg({\"total_amount\": \"max\"}).collect()[0][0]\n",
    "df.filter(col(\"total_amount\") == max_val).select(\"customer_name\", \"total_amount\").show()\n"
   ]
  },
  {
   "cell_type": "code",
   "execution_count": null,
   "id": "ebbcfee7",
   "metadata": {},
   "outputs": [],
   "source": [
    "\n",
    "df.filter(month(\"date\").between(1, 3)).agg(expr(\"sum(total_amount) as q1_sales\")).show()"
   ]
  },
  {
   "cell_type": "code",
   "execution_count": null,
   "id": "80dfd6f1",
   "metadata": {},
   "outputs": [],
   "source": [
    "from delta.tables import DeltaTable\n",
    "\n",
    "deltaTable = DeltaTable.forPath(spark, \"/tmp/delta/sales_transactions\")\n",
    "\n",
    "\n",
    "deltaTable.update(\n",
    "    condition=\"category = 'Stationery'\",\n",
    "    set={\"unit_price\": \"unit_price * 1.10\"}\n",
    ")"
   ]
  },
  {
   "cell_type": "code",
   "execution_count": null,
   "id": "5a440e49",
   "metadata": {},
   "outputs": [],
   "source": [
    "deltaTable.delete(\"quantity < 3\")"
   ]
  },
  {
   "cell_type": "code",
   "execution_count": null,
   "id": "dd9db114",
   "metadata": {},
   "outputs": [],
   "source": [
    "\n",
    "from datetime import date\n",
    "new_data = [(11, \"Arjun\", \"Central\", \"Tablet\", \"Electronics\", 1, 30000, date.today())]\n",
    "new_df = spark.createDataFrame(new_data, df.schema)\n",
    "new_df.write.format(\"delta\").mode(\"append\").save(\"/tmp/delta/sales_transactions\")"
   ]
  },
  {
   "cell_type": "code",
   "execution_count": null,
   "id": "08f1ec66",
   "metadata": {},
   "outputs": [],
   "source": [
    "df.write.format(\"delta\").mode(\"overwrite\").partitionBy(\"region\").save(\"/tmp/delta/sales_by_region\")\n"
   ]
  },
  {
   "cell_type": "code",
   "execution_count": null,
   "id": "4ccbfd5d",
   "metadata": {},
   "outputs": [],
   "source": [
    "df.write.format(\"delta\").mode(\"overwrite\").partitionBy(\"month\").save(\"/tmp/delta/sales_by_month\")\n",
    "\n"
   ]
  },
  {
   "cell_type": "code",
   "execution_count": null,
   "id": "1b8e41b0",
   "metadata": {},
   "outputs": [],
   "source": [
    "df.show()"
   ]
  }
 ],
 "metadata": {
  "language_info": {
   "name": "python"
  }
 },
 "nbformat": 4,
 "nbformat_minor": 5
}
