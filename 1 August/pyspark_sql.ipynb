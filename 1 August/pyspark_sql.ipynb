{
  "cells": [
    {
      "cell_type": "code",
      "execution_count": 1,
      "id": "c74f5d93",
      "metadata": {
        "colab": {
          "base_uri": "https://localhost:8080/"
        },
        "id": "c74f5d93",
        "outputId": "694c9320-2019-4c22-8251-1e7e74a45547"
      },
      "outputs": [
        {
          "output_type": "stream",
          "name": "stdout",
          "text": [
            "+-----+-----+-----------+---------------+------+------------+\n",
            "|empid|name |department |project        |salary|hoursperweek|\n",
            "+-----+-----+-----------+---------------+------+------------+\n",
            "|101  |ravi |engineering|ai engine      |95000 |42          |\n",
            "|102  |sneha|engineering|data platform  |87000 |45          |\n",
            "|103  |kabir|marketing  |product launch |65000 |40          |\n",
            "|104  |anita|sales      |client outreach|70000 |38          |\n",
            "|105  |divya|engineering|ai engine      |99000 |48          |\n",
            "|106  |amit |marketing  |social media   |62000 |35          |\n",
            "|107  |priya|hr         |policy revamp  |58000 |37          |\n",
            "|108  |manav|sales      |lead gen       |73000 |41          |\n",
            "|109  |neha |engineering|security suite |91000 |46          |\n",
            "|110  |farah|hr         |onboarding     |60000 |36          |\n",
            "+-----+-----+-----------+---------------+------+------------+\n",
            "\n"
          ]
        }
      ],
      "source": [
        "\n",
        "from pyspark.sql import SparkSession, Row\n",
        "from pyspark.sql.functions import when, avg, rank\n",
        "from pyspark.sql.window import Window\n",
        "\n",
        "spark = SparkSession.builder.appName(\"pyspark_sql_views\").getOrCreate()\n",
        "\n",
        "data = [\n",
        "    Row(empid=101, name=\"ravi\", department=\"engineering\", project=\"ai engine\", salary=95000, hoursperweek=42),\n",
        "    Row(empid=102, name=\"sneha\", department=\"engineering\", project=\"data platform\", salary=87000, hoursperweek=45),\n",
        "    Row(empid=103, name=\"kabir\", department=\"marketing\", project=\"product launch\", salary=65000, hoursperweek=40),\n",
        "    Row(empid=104, name=\"anita\", department=\"sales\", project=\"client outreach\", salary=70000, hoursperweek=38),\n",
        "    Row(empid=105, name=\"divya\", department=\"engineering\", project=\"ai engine\", salary=99000, hoursperweek=48),\n",
        "    Row(empid=106, name=\"amit\", department=\"marketing\", project=\"social media\", salary=62000, hoursperweek=35),\n",
        "    Row(empid=107, name=\"priya\", department=\"hr\", project=\"policy revamp\", salary=58000, hoursperweek=37),\n",
        "    Row(empid=108, name=\"manav\", department=\"sales\", project=\"lead gen\", salary=73000, hoursperweek=41),\n",
        "    Row(empid=109, name=\"neha\", department=\"engineering\", project=\"security suite\", salary=91000, hoursperweek=46),\n",
        "    Row(empid=110, name=\"farah\", department=\"hr\", project=\"onboarding\", salary=60000, hoursperweek=36)\n",
        "]\n",
        "df = spark.createDataFrame(data)\n",
        "df.show(truncate=False)\n"
      ]
    },
    {
      "cell_type": "code",
      "execution_count": 5,
      "id": "e86bb852",
      "metadata": {
        "id": "e86bb852"
      },
      "outputs": [],
      "source": [
        "df.createOrReplaceTempView(\"employees_local\")\n",
        "df.createOrReplaceGlobalTempView(\"employees_global\")"
      ]
    },
    {
      "cell_type": "code",
      "execution_count": 7,
      "id": "3db2e746",
      "metadata": {
        "colab": {
          "base_uri": "https://localhost:8080/"
        },
        "id": "3db2e746",
        "outputId": "c64c0186-8162-4a5c-bd72-f5c14ba75f6d"
      },
      "outputs": [
        {
          "output_type": "stream",
          "name": "stdout",
          "text": [
            "+-----+-----+-----------+---------+------+------------+\n",
            "|empid| name| department|  project|salary|hoursperweek|\n",
            "+-----+-----+-----------+---------+------+------------+\n",
            "|  101| ravi|engineering|ai engine| 95000|          42|\n",
            "|  105|divya|engineering|ai engine| 99000|          48|\n",
            "+-----+-----+-----------+---------+------+------------+\n",
            "\n"
          ]
        }
      ],
      "source": [
        "spark.sql(\"\"\"select * from employees_local where project='ai engine'\"\"\").show()"
      ]
    },
    {
      "cell_type": "code",
      "execution_count": 9,
      "id": "d14fd846",
      "metadata": {
        "colab": {
          "base_uri": "https://localhost:8080/"
        },
        "id": "d14fd846",
        "outputId": "bf8c02ae-991d-49d3-a930-3634b296deb7"
      },
      "outputs": [
        {
          "output_type": "stream",
          "name": "stdout",
          "text": [
            "+-----+-----+----------+--------------+------+------------+\n",
            "|empid| name|department|       project|salary|hoursperweek|\n",
            "+-----+-----+----------+--------------+------+------------+\n",
            "|  103|kabir| marketing|product launch| 65000|          40|\n",
            "|  106| amit| marketing|  social media| 62000|          35|\n",
            "+-----+-----+----------+--------------+------+------------+\n",
            "\n"
          ]
        }
      ],
      "source": [
        "spark.sql(\"\"\"select * from employees_local where department='marketing' and salary>60000\"\"\").show()"
      ]
    },
    {
      "cell_type": "code",
      "execution_count": 10,
      "id": "7618e490",
      "metadata": {
        "colab": {
          "base_uri": "https://localhost:8080/"
        },
        "id": "7618e490",
        "outputId": "d20565a5-cd90-4020-a5cb-d4c401127aa9"
      },
      "outputs": [
        {
          "output_type": "stream",
          "name": "stdout",
          "text": [
            "+-----------+---------+\n",
            "| department|avgsalary|\n",
            "+-----------+---------+\n",
            "|  marketing|  63500.0|\n",
            "|      sales|  71500.0|\n",
            "|engineering|  93000.0|\n",
            "|         hr|  59000.0|\n",
            "+-----------+---------+\n",
            "\n"
          ]
        }
      ],
      "source": [
        "spark.sql(\"\"\"select department, avg(salary) as avgsalary from employees_local group by department\"\"\").show()"
      ]
    },
    {
      "cell_type": "code",
      "execution_count": 12,
      "id": "2c7aa657",
      "metadata": {
        "colab": {
          "base_uri": "https://localhost:8080/"
        },
        "id": "2c7aa657",
        "outputId": "a77024a4-2e80-4aa0-aa07-a8b7f0345016"
      },
      "outputs": [
        {
          "output_type": "stream",
          "name": "stdout",
          "text": [
            "+-----+-----+-----------+--------------+------+------------+\n",
            "|empid| name| department|       project|salary|hoursperweek|\n",
            "+-----+-----+-----------+--------------+------+------------+\n",
            "|  105|divya|engineering|     ai engine| 99000|          48|\n",
            "|  101| ravi|engineering|     ai engine| 95000|          42|\n",
            "|  109| neha|engineering|security suite| 91000|          46|\n",
            "+-----+-----+-----------+--------------+------+------------+\n",
            "\n"
          ]
        }
      ],
      "source": [
        "spark.sql(\"\"\"select * from employees_local order by salary desc limit 3\"\"\").show()"
      ]
    },
    {
      "cell_type": "code",
      "execution_count": 16,
      "id": "7c600b77",
      "metadata": {
        "colab": {
          "base_uri": "https://localhost:8080/"
        },
        "id": "7c600b77",
        "outputId": "22aec1e4-ec9c-4a72-c5b0-d376edf2beff"
      },
      "outputs": [
        {
          "output_type": "stream",
          "name": "stdout",
          "text": [
            "+-----+-----+-----------+--------------+------+------------+\n",
            "|empid| name| department|       project|salary|hoursperweek|\n",
            "+-----+-----+-----------+--------------+------+------------+\n",
            "|  101| ravi|engineering|     ai engine| 95000|          42|\n",
            "|  102|sneha|engineering| data platform| 87000|          45|\n",
            "|  105|divya|engineering|     ai engine| 99000|          48|\n",
            "|  108|manav|      sales|      lead gen| 73000|          41|\n",
            "|  109| neha|engineering|security suite| 91000|          46|\n",
            "+-----+-----+-----------+--------------+------+------------+\n",
            "\n"
          ]
        }
      ],
      "source": [
        "spark.sql(\"\"\"select * from employees_local where hoursperweek>40\"\"\").show()"
      ]
    },
    {
      "cell_type": "code",
      "execution_count": 20,
      "id": "180e1db3",
      "metadata": {
        "colab": {
          "base_uri": "https://localhost:8080/"
        },
        "id": "180e1db3",
        "outputId": "46d7165a-720e-4497-a677-739742ed152d"
      },
      "outputs": [
        {
          "output_type": "stream",
          "name": "stdout",
          "text": [
            "+---------------+--------------+\n",
            "|        project|employee_count|\n",
            "+---------------+--------------+\n",
            "| product launch|             1|\n",
            "|      ai engine|             2|\n",
            "|  data platform|             1|\n",
            "|client outreach|             1|\n",
            "|   social media|             1|\n",
            "|     onboarding|             1|\n",
            "|  policy revamp|             1|\n",
            "| security suite|             1|\n",
            "|       lead gen|             1|\n",
            "+---------------+--------------+\n",
            "\n"
          ]
        }
      ],
      "source": [
        "spark.sql(\"\"\"select project, count(*) as employee_count from employees_local group by project\"\"\").show()"
      ]
    },
    {
      "cell_type": "code",
      "execution_count": 21,
      "id": "cef9ba20",
      "metadata": {
        "colab": {
          "base_uri": "https://localhost:8080/"
        },
        "id": "cef9ba20",
        "outputId": "64adf703-d2c3-4c8c-b45d-fea3c4e9cbe7"
      },
      "outputs": [
        {
          "output_type": "execute_result",
          "data": {
            "text/plain": [
              "True"
            ]
          },
          "metadata": {},
          "execution_count": 21
        }
      ],
      "source": [
        "spark.catalog.dropTempView(\"employees_local\")"
      ]
    },
    {
      "cell_type": "code",
      "source": [
        "spark.sql(\"\"\"select * from employee_local\"\"\")"
      ],
      "metadata": {
        "id": "yClsFBCNRk3J"
      },
      "id": "yClsFBCNRk3J",
      "execution_count": null,
      "outputs": []
    },
    {
      "cell_type": "code",
      "execution_count": 26,
      "id": "05fe34b2",
      "metadata": {
        "colab": {
          "base_uri": "https://localhost:8080/"
        },
        "id": "05fe34b2",
        "outputId": "7dca1b15-7fdd-4c42-f782-917242b1154a"
      },
      "outputs": [
        {
          "output_type": "stream",
          "name": "stdout",
          "text": [
            "+-----+-----+----------+-------------+------+------------+\n",
            "|empid| name|department|      project|salary|hoursperweek|\n",
            "+-----+-----+----------+-------------+------+------------+\n",
            "|  107|priya|        hr|policy revamp| 58000|          37|\n",
            "|  110|farah|        hr|   onboarding| 60000|          36|\n",
            "+-----+-----+----------+-------------+------+------------+\n",
            "\n"
          ]
        }
      ],
      "source": [
        "spark.sql(\"\"\"select * from global_temp.employees_global where department = 'hr' and hoursperweek < 38\"\"\").show()"
      ]
    },
    {
      "cell_type": "code",
      "execution_count": 29,
      "id": "7e5f667f",
      "metadata": {
        "colab": {
          "base_uri": "https://localhost:8080/"
        },
        "id": "7e5f667f",
        "outputId": "59091727-f079-4ee4-bb33-1547d6daac68"
      },
      "outputs": [
        {
          "output_type": "stream",
          "name": "stdout",
          "text": [
            "+-----------+------------+\n",
            "| department|total_payout|\n",
            "+-----------+------------+\n",
            "|  marketing|      127000|\n",
            "|      sales|      143000|\n",
            "|engineering|      372000|\n",
            "|         hr|      118000|\n",
            "+-----------+------------+\n",
            "\n"
          ]
        }
      ],
      "source": [
        "spark.sql(\"\"\"select department, sum(salary) as total_payout from global_temp.employees_global group by department\"\"\").show()"
      ]
    },
    {
      "cell_type": "code",
      "execution_count": 34,
      "id": "afc83345",
      "metadata": {
        "colab": {
          "base_uri": "https://localhost:8080/"
        },
        "id": "afc83345",
        "outputId": "bc854062-90a4-4aef-80f3-7bf42f6a3066"
      },
      "outputs": [
        {
          "output_type": "stream",
          "name": "stdout",
          "text": [
            "+-----+-----+-----------+------------+----------+\n",
            "|empid| name| department|hoursperweek|    status|\n",
            "+-----+-----+-----------+------------+----------+\n",
            "|  101| ravi|engineering|          42|    normal|\n",
            "|  102|sneha|engineering|          45|    normal|\n",
            "|  103|kabir|  marketing|          40|    normal|\n",
            "|  104|anita|      sales|          38|    normal|\n",
            "|  105|divya|engineering|          48|overworked|\n",
            "|  106| amit|  marketing|          35|    normal|\n",
            "|  107|priya|         hr|          37|    normal|\n",
            "|  108|manav|      sales|          41|    normal|\n",
            "|  109| neha|engineering|          46|overworked|\n",
            "|  110|farah|         hr|          36|    normal|\n",
            "+-----+-----+-----------+------------+----------+\n",
            "\n"
          ]
        }
      ],
      "source": [
        "spark.sql(\"\"\"\n",
        "select empid, name, department, hoursperweek,\n",
        "case when hoursperweek>45 then 'overworked' else 'normal' end as status\n",
        "from global_temp.employees_global\n",
        "\"\"\").show()"
      ]
    },
    {
      "cell_type": "code",
      "execution_count": 36,
      "id": "92108ab9",
      "metadata": {
        "colab": {
          "base_uri": "https://localhost:8080/"
        },
        "id": "92108ab9",
        "outputId": "ba1ba2fd-b587-4c35-da9d-2da70314d98f"
      },
      "outputs": [
        {
          "output_type": "stream",
          "name": "stdout",
          "text": [
            "+---------------+---------------+\n",
            "|        project|total_employees|\n",
            "+---------------+---------------+\n",
            "| product launch|              1|\n",
            "|      ai engine|              2|\n",
            "|  data platform|              1|\n",
            "|client outreach|              1|\n",
            "|   social media|              1|\n",
            "|     onboarding|              1|\n",
            "|  policy revamp|              1|\n",
            "| security suite|              1|\n",
            "|       lead gen|              1|\n",
            "+---------------+---------------+\n",
            "\n"
          ]
        }
      ],
      "source": [
        "spark.sql(\"\"\"select project, count(*) as total_employees from global_temp.employees_global group by project\"\"\").show()"
      ]
    },
    {
      "cell_type": "code",
      "execution_count": 39,
      "id": "81fe9a0a",
      "metadata": {
        "colab": {
          "base_uri": "https://localhost:8080/"
        },
        "id": "81fe9a0a",
        "outputId": "1e360c02-2602-4f39-c3e7-aa432ec1dd9e"
      },
      "outputs": [
        {
          "output_type": "stream",
          "name": "stdout",
          "text": [
            "+-----+-----+-----------+--------------+------+------------+\n",
            "|empid| name| department|       project|salary|hoursperweek|\n",
            "+-----+-----+-----------+--------------+------+------------+\n",
            "|  103|kabir|  marketing|product launch| 65000|          40|\n",
            "|  101| ravi|engineering|     ai engine| 95000|          42|\n",
            "|  105|divya|engineering|     ai engine| 99000|          48|\n",
            "|  108|manav|      sales|      lead gen| 73000|          41|\n",
            "|  110|farah|         hr|    onboarding| 60000|          36|\n",
            "+-----+-----+-----------+--------------+------+------------+\n",
            "\n"
          ]
        }
      ],
      "source": [
        "spark.sql(\"\"\"\n",
        "select * from global_temp.employees_global e\n",
        "where salary > (select avg(salary) from global_temp.employees_global where department=e.department)\n",
        "\"\"\").show()"
      ]
    },
    {
      "cell_type": "code",
      "execution_count": 43,
      "id": "e2b28501",
      "metadata": {
        "colab": {
          "base_uri": "https://localhost:8080/"
        },
        "id": "e2b28501",
        "outputId": "ef5cce68-880c-4349-b765-6720fa79f99d"
      },
      "outputs": [
        {
          "output_type": "stream",
          "name": "stdout",
          "text": [
            "+-----+\n",
            "| name|\n",
            "+-----+\n",
            "| ravi|\n",
            "|sneha|\n",
            "|kabir|\n",
            "|anita|\n",
            "|divya|\n",
            "| amit|\n",
            "|priya|\n",
            "|manav|\n",
            "| neha|\n",
            "|farah|\n",
            "+-----+\n",
            "\n"
          ]
        }
      ],
      "source": [
        "new_spark = SparkSession.builder.appName(\"new_session\").getOrCreate()\n",
        "new_spark.sql(\"select name from global_temp.employees_global\").show()"
      ]
    },
    {
      "cell_type": "code",
      "execution_count": 47,
      "id": "89cc1509",
      "metadata": {
        "colab": {
          "base_uri": "https://localhost:8080/"
        },
        "id": "89cc1509",
        "outputId": "edfd2007-7a3e-4e69-c2e1-5fb708e71cb9"
      },
      "outputs": [
        {
          "output_type": "stream",
          "name": "stdout",
          "text": [
            "+-----+-----+-----------+---------------+------+------------+-----------+\n",
            "|empid| name| department|        project|salary|hoursperweek|salary_rank|\n",
            "+-----+-----+-----------+---------------+------+------------+-----------+\n",
            "|  105|divya|engineering|      ai engine| 99000|          48|          1|\n",
            "|  101| ravi|engineering|      ai engine| 95000|          42|          2|\n",
            "|  109| neha|engineering| security suite| 91000|          46|          3|\n",
            "|  102|sneha|engineering|  data platform| 87000|          45|          4|\n",
            "|  110|farah|         hr|     onboarding| 60000|          36|          1|\n",
            "|  107|priya|         hr|  policy revamp| 58000|          37|          2|\n",
            "|  103|kabir|  marketing| product launch| 65000|          40|          1|\n",
            "|  106| amit|  marketing|   social media| 62000|          35|          2|\n",
            "|  108|manav|      sales|       lead gen| 73000|          41|          1|\n",
            "|  104|anita|      sales|client outreach| 70000|          38|          2|\n",
            "+-----+-----+-----------+---------------+------+------------+-----------+\n",
            "\n"
          ]
        }
      ],
      "source": [
        "window_spec = Window.partitionBy(\"department\").orderBy(df.salary.desc())\n",
        "df.withColumn(\"salary_rank\", rank().over(window_spec)).show()"
      ]
    },
    {
      "cell_type": "code",
      "execution_count": 60,
      "id": "6846f800",
      "metadata": {
        "colab": {
          "base_uri": "https://localhost:8080/"
        },
        "id": "6846f800",
        "outputId": "1cd8172b-b237-4f67-d4cf-1d349a7acab3"
      },
      "outputs": [
        {
          "output_type": "stream",
          "name": "stdout",
          "text": [
            "+-----+-----+-----------+--------------+------+------------+\n",
            "|empid| name| department|       project|salary|hoursperweek|\n",
            "+-----+-----+-----------+--------------+------+------------+\n",
            "|  101| ravi|engineering|     ai engine| 95000|          42|\n",
            "|  102|sneha|engineering| data platform| 87000|          45|\n",
            "|  105|divya|engineering|     ai engine| 99000|          48|\n",
            "|  109| neha|engineering|security suite| 91000|          46|\n",
            "+-----+-----+-----------+--------------+------+------------+\n",
            "\n"
          ]
        }
      ],
      "source": [
        "df.filter(df.department == \"engineering\").createOrReplaceTempView(\"engineering_employees\")\n",
        "spark.sql(\"select * from engineering_employees\").show()"
      ]
    },
    {
      "cell_type": "code",
      "execution_count": 65,
      "id": "4c14ad0f",
      "metadata": {
        "colab": {
          "base_uri": "https://localhost:8080/"
        },
        "id": "4c14ad0f",
        "outputId": "6f0055fa-b398-46ac-e68b-5a0cc2a8eff1"
      },
      "outputs": [
        {
          "output_type": "stream",
          "name": "stdout",
          "text": [
            "+-----+-----+-----------+---------------+------+------------+\n",
            "|empid| name| department|        project|salary|hoursperweek|\n",
            "+-----+-----+-----------+---------------+------+------------+\n",
            "|  101| ravi|engineering|      ai engine| 95000|          42|\n",
            "|  102|sneha|engineering|  data platform| 87000|          45|\n",
            "|  103|kabir|  marketing| product launch| 65000|          40|\n",
            "|  104|anita|      sales|client outreach| 70000|          38|\n",
            "|  105|divya|engineering|      ai engine| 99000|          48|\n",
            "|  108|manav|      sales|       lead gen| 73000|          41|\n",
            "|  109| neha|engineering| security suite| 91000|          46|\n",
            "+-----+-----+-----------+---------------+------+------------+\n",
            "\n"
          ]
        }
      ],
      "source": [
        "spark.sql(\"create or replace temp view active_employees as select * from global_temp.employees_global where hoursperweek>=38\")\n",
        "spark.sql(\"select * from active_employees\").show()"
      ]
    }
  ],
  "metadata": {
    "colab": {
      "provenance": []
    },
    "language_info": {
      "name": "python"
    },
    "kernelspec": {
      "name": "python3",
      "display_name": "Python 3"
    }
  },
  "nbformat": 4,
  "nbformat_minor": 5
}