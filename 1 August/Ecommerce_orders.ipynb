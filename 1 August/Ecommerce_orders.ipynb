{
  "cells": [
    {
      "cell_type": "code",
      "source": [
        "from pyspark.sql import *\n",
        "from pyspark.sql.functions import *\n",
        "from pyspark.sql.window import *"
      ],
      "metadata": {
        "id": "O0vKSQ5LhTlY"
      },
      "id": "O0vKSQ5LhTlY",
      "execution_count": 1,
      "outputs": []
    },
    {
      "cell_type": "code",
      "execution_count": 2,
      "metadata": {
        "id": "aULHwHY-g3wg"
      },
      "outputs": [],
      "source": [
        "spark = SparkSession.builder.appName(\"pyspark_sql\").getOrCreate()\n",
        "\n",
        "\n",
        "data = [\n",
        "    Row(pid=1, product=\"laptop\", category=\"electronics\", price=55000, quantity=5, seller=\"techworld\"),\n",
        "    Row(pid=2, product=\"smartphone\", category=\"electronics\", price=20000, quantity=20, seller=\"mobihub\"),\n",
        "    Row(pid=3, product=\"jeans\", category=\"clothing\", price=1500, quantity=50, seller=\"fashionstore\"),\n",
        "    Row(pid=4, product=\"tshirt\", category=\"clothing\", price=800, quantity=100, seller=\"fashionstore\"),\n",
        "    Row(pid=5, product=\"bookshelf\", category=\"furniture\", price=7000, quantity=10, seller=\"homedecor\"),\n",
        "    Row(pid=6, product=\"sofa\", category=\"furniture\", price=25000, quantity=3, seller=\"homedecor\"),\n",
        "    Row(pid=7, product=\"novel\", category=\"books\", price=500, quantity=200, seller=\"bookworld\"),\n",
        "    Row(pid=8, product=\"textbook\", category=\"books\", price=1200, quantity=150, seller=\"bookworld\"),\n",
        "    Row(pid=9, product=\"headphones\", category=\"electronics\", price=3000, quantity=40, seller=\"soundmax\"),\n",
        "    Row(pid=10, product=\"jacket\", category=\"clothing\", price=3000, quantity=30, seller=\"fashionstore\"),\n",
        "    Row(pid=11, product=\"dining table\", category=\"furniture\", price=40000, quantity=2, seller=\"homedecor\"),\n",
        "    Row(pid=12, product=\"encyclopedia\", category=\"books\", price=2500, quantity=75, seller=\"bookworld\")\n",
        "]"
      ],
      "id": "aULHwHY-g3wg"
    },
    {
      "cell_type": "code",
      "source": [
        "df = spark.createDataFrame(data)\n",
        "df.show(truncate=False)"
      ],
      "metadata": {
        "colab": {
          "base_uri": "https://localhost:8080/"
        },
        "id": "9EchPqVZhGMm",
        "outputId": "ab67063d-db7c-4c45-b7be-961b208f88cd"
      },
      "id": "9EchPqVZhGMm",
      "execution_count": 3,
      "outputs": [
        {
          "output_type": "stream",
          "name": "stdout",
          "text": [
            "+---+------------+-----------+-----+--------+------------+\n",
            "|pid|product     |category   |price|quantity|seller      |\n",
            "+---+------------+-----------+-----+--------+------------+\n",
            "|1  |laptop      |electronics|55000|5       |techworld   |\n",
            "|2  |smartphone  |electronics|20000|20      |mobihub     |\n",
            "|3  |jeans       |clothing   |1500 |50      |fashionstore|\n",
            "|4  |tshirt      |clothing   |800  |100     |fashionstore|\n",
            "|5  |bookshelf   |furniture  |7000 |10      |homedecor   |\n",
            "|6  |sofa        |furniture  |25000|3       |homedecor   |\n",
            "|7  |novel       |books      |500  |200     |bookworld   |\n",
            "|8  |textbook    |books      |1200 |150     |bookworld   |\n",
            "|9  |headphones  |electronics|3000 |40      |soundmax    |\n",
            "|10 |jacket      |clothing   |3000 |30      |fashionstore|\n",
            "|11 |dining table|furniture  |40000|2       |homedecor   |\n",
            "|12 |encyclopedia|books      |2500 |75      |bookworld   |\n",
            "+---+------------+-----------+-----+--------+------------+\n",
            "\n"
          ]
        }
      ]
    },
    {
      "cell_type": "code",
      "source": [
        "df.createOrReplaceTempView(\"products_local\")\n",
        "df.createOrReplaceGlobalTempView(\"products_global\")"
      ],
      "metadata": {
        "id": "ulwWXvVnhDtE"
      },
      "id": "ulwWXvVnhDtE",
      "execution_count": 7,
      "outputs": []
    },
    {
      "cell_type": "code",
      "execution_count": 9,
      "metadata": {
        "colab": {
          "base_uri": "https://localhost:8080/"
        },
        "id": "dlnGTRnsg3wk",
        "outputId": "9d07e1c7-2f30-4395-a6ca-fbdf492995f0"
      },
      "outputs": [
        {
          "output_type": "stream",
          "name": "stdout",
          "text": [
            "+---+------------+-----------+-----+--------+------------+\n",
            "|pid|     product|   category|price|quantity|      seller|\n",
            "+---+------------+-----------+-----+--------+------------+\n",
            "|  1|      laptop|electronics|55000|       5|   techworld|\n",
            "|  2|  smartphone|electronics|20000|      20|     mobihub|\n",
            "|  3|       jeans|   clothing| 1500|      50|fashionstore|\n",
            "|  4|      tshirt|   clothing|  800|     100|fashionstore|\n",
            "|  5|   bookshelf|  furniture| 7000|      10|   homedecor|\n",
            "|  6|        sofa|  furniture|25000|       3|   homedecor|\n",
            "|  7|       novel|      books|  500|     200|   bookworld|\n",
            "|  8|    textbook|      books| 1200|     150|   bookworld|\n",
            "|  9|  headphones|electronics| 3000|      40|    soundmax|\n",
            "| 10|      jacket|   clothing| 3000|      30|fashionstore|\n",
            "| 11|dining table|  furniture|40000|       2|   homedecor|\n",
            "| 12|encyclopedia|      books| 2500|      75|   bookworld|\n",
            "+---+------------+-----------+-----+--------+------------+\n",
            "\n"
          ]
        }
      ],
      "source": [
        "spark.sql(\"select * from products_local\").show()"
      ],
      "id": "dlnGTRnsg3wk"
    },
    {
      "cell_type": "code",
      "execution_count": 11,
      "metadata": {
        "colab": {
          "base_uri": "https://localhost:8080/"
        },
        "id": "xrPPyZWig3wl",
        "outputId": "1cbac5f0-cdde-4c05-cb8a-080de3601072"
      },
      "outputs": [
        {
          "output_type": "stream",
          "name": "stdout",
          "text": [
            "+---+----------+-----------+-----+--------+---------+\n",
            "|pid|   product|   category|price|quantity|   seller|\n",
            "+---+----------+-----------+-----+--------+---------+\n",
            "|  1|    laptop|electronics|55000|       5|techworld|\n",
            "|  2|smartphone|electronics|20000|      20|  mobihub|\n",
            "|  9|headphones|electronics| 3000|      40| soundmax|\n",
            "+---+----------+-----------+-----+--------+---------+\n",
            "\n"
          ]
        }
      ],
      "source": [
        "spark.sql(\"select * from products_local where category='electronics'\").show()"
      ],
      "id": "xrPPyZWig3wl"
    },
    {
      "cell_type": "code",
      "execution_count": 13,
      "metadata": {
        "colab": {
          "base_uri": "https://localhost:8080/"
        },
        "id": "NMHbPpgVg3wm",
        "outputId": "90571c70-88b0-437a-856f-3bd894d88a4d"
      },
      "outputs": [
        {
          "output_type": "stream",
          "name": "stdout",
          "text": [
            "+---+------------+-----------+-----+--------+---------+\n",
            "|pid|     product|   category|price|quantity|   seller|\n",
            "+---+------------+-----------+-----+--------+---------+\n",
            "|  1|      laptop|electronics|55000|       5|techworld|\n",
            "|  2|  smartphone|electronics|20000|      20|  mobihub|\n",
            "|  6|        sofa|  furniture|25000|       3|homedecor|\n",
            "| 11|dining table|  furniture|40000|       2|homedecor|\n",
            "+---+------------+-----------+-----+--------+---------+\n",
            "\n"
          ]
        }
      ],
      "source": [
        "spark.sql(\"select * from products_local where price>10000\").show()"
      ],
      "id": "NMHbPpgVg3wm"
    },
    {
      "cell_type": "code",
      "execution_count": 15,
      "metadata": {
        "colab": {
          "base_uri": "https://localhost:8080/"
        },
        "id": "Q1s3wSwrg3wm",
        "outputId": "e65152a0-ced6-43b2-e6fe-c5a141f23a1a"
      },
      "outputs": [
        {
          "output_type": "stream",
          "name": "stdout",
          "text": [
            "+---+------------+-----------+-----+--------+------------+\n",
            "|pid|     product|   category|price|quantity|      seller|\n",
            "+---+------------+-----------+-----+--------+------------+\n",
            "|  1|      laptop|electronics|55000|       5|   techworld|\n",
            "| 11|dining table|  furniture|40000|       2|   homedecor|\n",
            "|  6|        sofa|  furniture|25000|       3|   homedecor|\n",
            "|  2|  smartphone|electronics|20000|      20|     mobihub|\n",
            "|  5|   bookshelf|  furniture| 7000|      10|   homedecor|\n",
            "|  9|  headphones|electronics| 3000|      40|    soundmax|\n",
            "| 10|      jacket|   clothing| 3000|      30|fashionstore|\n",
            "| 12|encyclopedia|      books| 2500|      75|   bookworld|\n",
            "|  3|       jeans|   clothing| 1500|      50|fashionstore|\n",
            "|  8|    textbook|      books| 1200|     150|   bookworld|\n",
            "|  4|      tshirt|   clothing|  800|     100|fashionstore|\n",
            "|  7|       novel|      books|  500|     200|   bookworld|\n",
            "+---+------------+-----------+-----+--------+------------+\n",
            "\n"
          ]
        }
      ],
      "source": [
        "spark.sql(\"select * from products_local order by price desc\").show()"
      ],
      "id": "Q1s3wSwrg3wm"
    },
    {
      "cell_type": "code",
      "execution_count": 20,
      "metadata": {
        "colab": {
          "base_uri": "https://localhost:8080/"
        },
        "id": "CWJYDguyg3wn",
        "outputId": "9c7a3977-7429-4d45-c1b2-fce9b698c743"
      },
      "outputs": [
        {
          "output_type": "stream",
          "name": "stdout",
          "text": [
            "+-----------+-------------+\n",
            "|   category|product_count|\n",
            "+-----------+-------------+\n",
            "|  furniture|            3|\n",
            "|electronics|            3|\n",
            "|   clothing|            3|\n",
            "|      books|            3|\n",
            "+-----------+-------------+\n",
            "\n"
          ]
        }
      ],
      "source": [
        "spark.sql(\"select category, count(*) as product_count from products_local group by category\").show()"
      ],
      "id": "CWJYDguyg3wn"
    },
    {
      "cell_type": "code",
      "execution_count": 26,
      "metadata": {
        "colab": {
          "base_uri": "https://localhost:8080/"
        },
        "id": "zD_T8DVqg3wn",
        "outputId": "e255a241-82eb-44d5-970a-129e938443cd"
      },
      "outputs": [
        {
          "output_type": "stream",
          "name": "stdout",
          "text": [
            "+-----------+------------------+\n",
            "|   category|         avg_price|\n",
            "+-----------+------------------+\n",
            "|  furniture|           24000.0|\n",
            "|electronics|           26000.0|\n",
            "|   clothing|1766.6666666666667|\n",
            "|      books|            1400.0|\n",
            "+-----------+------------------+\n",
            "\n"
          ]
        }
      ],
      "source": [
        "spark.sql(\"select category, avg(price) as avg_price from products_local group by category\").show()"
      ],
      "id": "zD_T8DVqg3wn"
    },
    {
      "cell_type": "code",
      "execution_count": 30,
      "metadata": {
        "colab": {
          "base_uri": "https://localhost:8080/"
        },
        "id": "uV5aTTh2g3wn",
        "outputId": "bdef89b3-340b-40fb-99df-bba7549bfc8a"
      },
      "outputs": [
        {
          "output_type": "stream",
          "name": "stdout",
          "text": [
            "+------------+--------------+\n",
            "|      seller|total_products|\n",
            "+------------+--------------+\n",
            "|   homedecor|             3|\n",
            "|     mobihub|             1|\n",
            "|   techworld|             1|\n",
            "|fashionstore|             3|\n",
            "|   bookworld|             3|\n",
            "|    soundmax|             1|\n",
            "+------------+--------------+\n",
            "\n"
          ]
        }
      ],
      "source": [
        "spark.sql(\"select seller, count(*) as total_products from products_local group by seller\").show()"
      ],
      "id": "uV5aTTh2g3wn"
    },
    {
      "cell_type": "code",
      "execution_count": 33,
      "metadata": {
        "colab": {
          "base_uri": "https://localhost:8080/"
        },
        "id": "pLg3dHTBg3wn",
        "outputId": "c71916f9-0266-41eb-fca9-e4cfd9158a68"
      },
      "outputs": [
        {
          "output_type": "stream",
          "name": "stdout",
          "text": [
            "+---+------------+--------+-----+--------+------------+\n",
            "|pid|     product|category|price|quantity|      seller|\n",
            "+---+------------+--------+-----+--------+------------+\n",
            "|  4|      tshirt|clothing|  800|     100|fashionstore|\n",
            "|  7|       novel|   books|  500|     200|   bookworld|\n",
            "|  8|    textbook|   books| 1200|     150|   bookworld|\n",
            "| 12|encyclopedia|   books| 2500|      75|   bookworld|\n",
            "+---+------------+--------+-----+--------+------------+\n",
            "\n"
          ]
        }
      ],
      "source": [
        "spark.sql(\"select * from global_temp.products_global where quantity > 50\").show()"
      ],
      "id": "pLg3dHTBg3wn"
    },
    {
      "cell_type": "code",
      "execution_count": 40,
      "metadata": {
        "colab": {
          "base_uri": "https://localhost:8080/"
        },
        "id": "e5fZzKxwg3wo",
        "outputId": "671bd98c-96bb-4ac1-8f77-7cd32024988a"
      },
      "outputs": [
        {
          "output_type": "stream",
          "name": "stdout",
          "text": [
            "+-----------+-------------+\n",
            "|   category|total_revenue|\n",
            "+-----------+-------------+\n",
            "|  furniture|       225000|\n",
            "|electronics|       795000|\n",
            "|   clothing|       245000|\n",
            "|      books|       467500|\n",
            "+-----------+-------------+\n",
            "\n"
          ]
        }
      ],
      "source": [
        "spark.sql(\"select category, sum(price * quantity) as total_revenue from global_temp.products_global group by category\").show()"
      ],
      "id": "e5fZzKxwg3wo"
    },
    {
      "cell_type": "code",
      "execution_count": 52,
      "metadata": {
        "colab": {
          "base_uri": "https://localhost:8080/"
        },
        "id": "AhanuaLeg3wp",
        "outputId": "c9ad8ef9-1d8d-4959-fa2f-3dd440a62d76"
      },
      "outputs": [
        {
          "output_type": "stream",
          "name": "stdout",
          "text": [
            "+---+------------+-----------+-----+--------------+\n",
            "|pid|     product|   category|price|price_category|\n",
            "+---+------------+-----------+-----+--------------+\n",
            "|  1|      laptop|electronics|55000|       premium|\n",
            "|  2|  smartphone|electronics|20000|      midrange|\n",
            "|  3|       jeans|   clothing| 1500|        budget|\n",
            "|  4|      tshirt|   clothing|  800|        budget|\n",
            "|  5|   bookshelf|  furniture| 7000|      midrange|\n",
            "|  6|        sofa|  furniture|25000|       premium|\n",
            "|  7|       novel|      books|  500|        budget|\n",
            "|  8|    textbook|      books| 1200|        budget|\n",
            "|  9|  headphones|electronics| 3000|        budget|\n",
            "| 10|      jacket|   clothing| 3000|        budget|\n",
            "| 11|dining table|  furniture|40000|       premium|\n",
            "| 12|encyclopedia|      books| 2500|        budget|\n",
            "+---+------------+-----------+-----+--------------+\n",
            "\n"
          ]
        }
      ],
      "source": [
        "spark.sql(\"\"\"select pid, product, category, price,case\n",
        "   when price > 20000 then 'premium'\n",
        "   when price between 5000 and 20000 then 'midrange'\n",
        "     else 'budget' end as price_category from global_temp.products_global\"\"\").show()"
      ],
      "id": "AhanuaLeg3wp"
    },
    {
      "cell_type": "code",
      "execution_count": 58,
      "metadata": {
        "colab": {
          "base_uri": "https://localhost:8080/"
        },
        "id": "uAqUUPnzg3wp",
        "outputId": "9385024a-cc3a-4a1c-be97-868228dbc724"
      },
      "outputs": [
        {
          "output_type": "stream",
          "name": "stdout",
          "text": [
            "+------------+------------------+\n",
            "|      seller|         avg_price|\n",
            "+------------+------------------+\n",
            "|   techworld|           55000.0|\n",
            "|   homedecor|           24000.0|\n",
            "|     mobihub|           20000.0|\n",
            "|    soundmax|            3000.0|\n",
            "|fashionstore|1766.6666666666667|\n",
            "|   bookworld|            1400.0|\n",
            "+------------+------------------+\n",
            "\n"
          ]
        }
      ],
      "source": [
        "spark.sql(\"select seller, avg(price) as avg_price from global_temp.products_global group by seller order by avg_price desc\").show()"
      ],
      "id": "uAqUUPnzg3wp"
    },
    {
      "cell_type": "code",
      "execution_count": 68,
      "metadata": {
        "colab": {
          "base_uri": "https://localhost:8080/"
        },
        "id": "nhjEiGZYg3wp",
        "outputId": "008572f0-170b-4d59-dbc6-f21ef76e1e77"
      },
      "outputs": [
        {
          "output_type": "stream",
          "name": "stdout",
          "text": [
            "+---+------------+-----------+-----+--------+------------+\n",
            "|pid|     product|   category|price|quantity|      seller|\n",
            "+---+------------+-----------+-----+--------+------------+\n",
            "|  6|        sofa|  furniture|25000|       3|   homedecor|\n",
            "|  1|      laptop|electronics|55000|       5|   techworld|\n",
            "| 12|encyclopedia|      books| 2500|      75|   bookworld|\n",
            "| 11|dining table|  furniture|40000|       2|   homedecor|\n",
            "| 10|      jacket|   clothing| 3000|      30|fashionstore|\n",
            "+---+------------+-----------+-----+--------+------------+\n",
            "\n"
          ]
        }
      ],
      "source": [
        "spark.sql(\"\"\"select * from global_temp.products_global p  where price > (select avg(price) from global_temp.products_global where category = p.category)\"\"\").show()"
      ],
      "id": "nhjEiGZYg3wp"
    },
    {
      "cell_type": "code",
      "execution_count": 71,
      "metadata": {
        "colab": {
          "base_uri": "https://localhost:8080/"
        },
        "id": "xZxUFu62g3wq",
        "outputId": "0e180de6-5ca3-4ad0-df14-fe532ac1c59c"
      },
      "outputs": [
        {
          "output_type": "stream",
          "name": "stdout",
          "text": [
            "+---+------------+--------+-----+--------+---------+\n",
            "|pid|     product|category|price|quantity|   seller|\n",
            "+---+------------+--------+-----+--------+---------+\n",
            "|  7|       novel|   books|  500|     200|bookworld|\n",
            "|  8|    textbook|   books| 1200|     150|bookworld|\n",
            "| 12|encyclopedia|   books| 2500|      75|bookworld|\n",
            "+---+------------+--------+-----+--------+---------+\n",
            "\n"
          ]
        }
      ],
      "source": [
        "spark.sql(\"select * from global_temp.products_global where category='books'\").show()"
      ],
      "id": "xZxUFu62g3wq"
    },
    {
      "cell_type": "code",
      "execution_count": 81,
      "metadata": {
        "colab": {
          "base_uri": "https://localhost:8080/"
        },
        "id": "2h6r3BK0g3wq",
        "outputId": "6cecbef4-e036-4264-b696-f3f826640f3e"
      },
      "outputs": [
        {
          "output_type": "stream",
          "name": "stdout",
          "text": [
            "+---+------------+-----------+-----+--------+------------+----------+\n",
            "|pid|     product|   category|price|quantity|      seller|price_rank|\n",
            "+---+------------+-----------+-----+--------+------------+----------+\n",
            "| 12|encyclopedia|      books| 2500|      75|   bookworld|         1|\n",
            "|  8|    textbook|      books| 1200|     150|   bookworld|         2|\n",
            "|  7|       novel|      books|  500|     200|   bookworld|         3|\n",
            "| 10|      jacket|   clothing| 3000|      30|fashionstore|         1|\n",
            "|  3|       jeans|   clothing| 1500|      50|fashionstore|         2|\n",
            "|  4|      tshirt|   clothing|  800|     100|fashionstore|         3|\n",
            "|  1|      laptop|electronics|55000|       5|   techworld|         1|\n",
            "|  2|  smartphone|electronics|20000|      20|     mobihub|         2|\n",
            "|  9|  headphones|electronics| 3000|      40|    soundmax|         3|\n",
            "| 11|dining table|  furniture|40000|       2|   homedecor|         1|\n",
            "|  6|        sofa|  furniture|25000|       3|   homedecor|         2|\n",
            "|  5|   bookshelf|  furniture| 7000|      10|   homedecor|         3|\n",
            "+---+------------+-----------+-----+--------+------------+----------+\n",
            "\n"
          ]
        }
      ],
      "source": [
        "window_spec = Window.partitionBy(\"category\").orderBy(df.price.desc())\n",
        "df.withColumn(\"price_rank\", rank().over(window_spec)).show()"
      ],
      "id": "2h6r3BK0g3wq"
    },
    {
      "cell_type": "code",
      "execution_count": 93,
      "metadata": {
        "colab": {
          "base_uri": "https://localhost:8080/"
        },
        "id": "R18ip1UMg3wr",
        "outputId": "2a365db8-e751-4ea8-93a2-d13d375b6d15"
      },
      "outputs": [
        {
          "output_type": "stream",
          "name": "stdout",
          "text": [
            "+---+------------+-----------+-----+--------+---------+\n",
            "|pid|     product|   category|price|quantity|   seller|\n",
            "+---+------------+-----------+-----+--------+---------+\n",
            "|  1|      laptop|electronics|55000|       5|techworld|\n",
            "|  6|        sofa|  furniture|25000|       3|homedecor|\n",
            "| 11|dining table|  furniture|40000|       2|homedecor|\n",
            "+---+------------+-----------+-----+--------+---------+\n",
            "\n"
          ]
        }
      ],
      "source": [
        "spark.sql(\"\"\"create or replace temp view premium_products as select * from global_temp.products_global where price>20000\"\"\")\n",
        "spark.sql(\"select * from premium_products\").show()"
      ],
      "id": "R18ip1UMg3wr"
    },
    {
      "cell_type": "code",
      "execution_count": 91,
      "metadata": {
        "colab": {
          "base_uri": "https://localhost:8080/"
        },
        "id": "plNHNpqzg3wr",
        "outputId": "7f686e32-1205-4782-849b-18e4a5745cf2"
      },
      "outputs": [
        {
          "output_type": "stream",
          "name": "stdout",
          "text": [
            "+---+------------+--------+-----+--------+------------+\n",
            "|pid|     product|category|price|quantity|      seller|\n",
            "+---+------------+--------+-----+--------+------------+\n",
            "|  3|       jeans|clothing| 1500|      50|fashionstore|\n",
            "|  4|      tshirt|clothing|  800|     100|fashionstore|\n",
            "|  7|       novel|   books|  500|     200|   bookworld|\n",
            "|  8|    textbook|   books| 1200|     150|   bookworld|\n",
            "| 12|encyclopedia|   books| 2500|      75|   bookworld|\n",
            "+---+------------+--------+-----+--------+------------+\n",
            "\n"
          ]
        }
      ],
      "source": [
        "spark.sql(\"\"\"create or replace temp view bulk_products as select * from global_temp.products_global where quantity>=50\"\"\")\n",
        "spark.sql(\"select * from bulk_products\").show()"
      ],
      "id": "plNHNpqzg3wr"
    }
  ],
  "metadata": {
    "kernelspec": {
      "display_name": "Python 3",
      "language": "python",
      "name": "python3"
    },
    "language_info": {
      "name": "python",
      "version": "3.x"
    },
    "colab": {
      "provenance": []
    }
  },
  "nbformat": 4,
  "nbformat_minor": 5
}