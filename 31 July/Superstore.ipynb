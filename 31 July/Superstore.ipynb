{
  "nbformat": 4,
  "nbformat_minor": 0,
  "metadata": {
    "colab": {
      "provenance": []
    },
    "kernelspec": {
      "name": "python3",
      "display_name": "Python 3"
    },
    "language_info": {
      "name": "python"
    }
  },
  "cells": [
    {
      "cell_type": "code",
      "execution_count": null,
      "metadata": {
        "colab": {
          "base_uri": "https://localhost:8080/"
        },
        "id": "HYUdLjIpuZR1",
        "outputId": "f505fa48-602d-4753-dfc4-58aef98fd46e"
      },
      "outputs": [
        {
          "output_type": "stream",
          "name": "stdout",
          "text": [
            "Mounted at /content/mydrive\n"
          ]
        }
      ],
      "source": [
        "from google.colab import drive\n",
        "drive.mount('/content/mydrive')"
      ]
    },
    {
      "cell_type": "code",
      "source": [
        "\n",
        "import pandas as pd\n",
        "path = '/content/mydrive/MyDrive/superstore.csv'\n",
        "\n",
        "\n",
        "df = pd.read_csv(path)\n",
        "print(\"Schema info: \\n\", df.info())\n",
        "print(\"\\n Head: \\n\", df.head())\n",
        "print(\"\\n Shape: \\n\", df.shape)\n",
        "print(\"\\n Data types: \\n\", df.dtypes)\n"
      ],
      "metadata": {
        "colab": {
          "base_uri": "https://localhost:8080/"
        },
        "id": "NikMfSCVvlK7",
        "outputId": "0173ebf9-bebb-4a03-c7d4-205992763e6f"
      },
      "execution_count": 46,
      "outputs": [
        {
          "output_type": "stream",
          "name": "stdout",
          "text": [
            "<class 'pandas.core.frame.DataFrame'>\n",
            "RangeIndex: 10 entries, 0 to 9\n",
            "Data columns (total 12 columns):\n",
            " #   Column       Non-Null Count  Dtype  \n",
            "---  ------       --------------  -----  \n",
            " 0   OrderID      10 non-null     object \n",
            " 1   OrderDate    10 non-null     object \n",
            " 2   Customer     10 non-null     object \n",
            " 3   Segment      10 non-null     object \n",
            " 4   Region       10 non-null     object \n",
            " 5   Product      10 non-null     object \n",
            " 6   Category     10 non-null     object \n",
            " 7   SubCategory  10 non-null     object \n",
            " 8   Quantity     10 non-null     int64  \n",
            " 9   UnitPrice    10 non-null     int64  \n",
            " 10  Discount     10 non-null     float64\n",
            " 11  Profit       10 non-null     int64  \n",
            "dtypes: float64(1), int64(3), object(8)\n",
            "memory usage: 1.1+ KB\n",
            "Schema info: \n",
            " None\n",
            "\n",
            " Head: \n",
            "    OrderID   OrderDate Customer      Segment Region   Product  \\\n",
            "0  CA-1001  2023-01-15     Ravi     Consumer  South    Laptop   \n",
            "1  CA-1002  2023-02-20    Priya    Corporate  North   Printer   \n",
            "2  CA-1003  2023-01-25     Amit     Consumer   East  Notebook   \n",
            "3  CA-1004  2023-03-01    Anita  Home Office   West     Table   \n",
            "4  CA-1005  2023-02-05    Divya     Consumer  South     Phone   \n",
            "\n",
            "          Category  SubCategory  Quantity  UnitPrice  Discount  Profit  \n",
            "0       Technology    Computers         1      55000      0.10    5000  \n",
            "1       Technology  Peripherals         2      12000      0.15    1800  \n",
            "2  Office Supplies        Paper         3        200      0.05     150  \n",
            "3        Furniture       Tables         1      18000      0.20   -1500  \n",
            "4       Technology       Phones         2      20000      0.00    3000  \n",
            "\n",
            " Shape: \n",
            " (10, 12)\n",
            "\n",
            " Data types: \n",
            " OrderID         object\n",
            "OrderDate       object\n",
            "Customer        object\n",
            "Segment         object\n",
            "Region          object\n",
            "Product         object\n",
            "Category        object\n",
            "SubCategory     object\n",
            "Quantity         int64\n",
            "UnitPrice        int64\n",
            "Discount       float64\n",
            "Profit           int64\n",
            "dtype: object\n"
          ]
        }
      ]
    },
    {
      "cell_type": "code",
      "source": [
        "print(df)"
      ],
      "metadata": {
        "colab": {
          "base_uri": "https://localhost:8080/"
        },
        "id": "sCSiEAQQyYcX",
        "outputId": "1c96e2c1-52af-4f38-a24e-013d5cffd9e1"
      },
      "execution_count": 47,
      "outputs": [
        {
          "output_type": "stream",
          "name": "stdout",
          "text": [
            "   OrderID   OrderDate Customer      Segment Region     Product  \\\n",
            "0  CA-1001  2023-01-15     Ravi     Consumer  South      Laptop   \n",
            "1  CA-1002  2023-02-20    Priya    Corporate  North     Printer   \n",
            "2  CA-1003  2023-01-25     Amit     Consumer   East    Notebook   \n",
            "3  CA-1004  2023-03-01    Anita  Home Office   West       Table   \n",
            "4  CA-1005  2023-02-05    Divya     Consumer  South       Phone   \n",
            "5  CA-1006  2023-04-10     John    Corporate  North       Chair   \n",
            "6  CA-1007  2023-05-15     Sara     Consumer   East         Pen   \n",
            "7  CA-1008  2023-06-18     Alex  Home Office  South     Monitor   \n",
            "8  CA-1009  2023-07-25    Meera     Consumer   West        Desk   \n",
            "9  CA-1010  2023-08-01    Kiran    Corporate  North  Headphones   \n",
            "\n",
            "          Category  SubCategory  Quantity  UnitPrice  Discount  Profit  \n",
            "0       Technology    Computers         1      55000      0.10    5000  \n",
            "1       Technology  Peripherals         2      12000      0.15    1800  \n",
            "2  Office Supplies        Paper         3        200      0.05     150  \n",
            "3        Furniture       Tables         1      18000      0.20   -1500  \n",
            "4       Technology       Phones         2      20000      0.00    3000  \n",
            "5        Furniture       Chairs         4       7000      0.10    2000  \n",
            "6  Office Supplies      Writing        10         50      0.05     100  \n",
            "7       Technology  Peripherals         2      15000      0.12    2200  \n",
            "8        Furniture       Tables         1      25000      0.18    -500  \n",
            "9       Technology  Accessories         5       3000      0.08     700  \n"
          ]
        }
      ]
    },
    {
      "cell_type": "code",
      "source": [
        "df.columns = df.columns.str.strip()\n",
        "print(df[['Customer', 'Product', 'Profit']])"
      ],
      "metadata": {
        "colab": {
          "base_uri": "https://localhost:8080/"
        },
        "id": "EoioCKf-x0QD",
        "outputId": "4f27fc26-85b8-4459-b389-434bd03349cc"
      },
      "execution_count": 48,
      "outputs": [
        {
          "output_type": "stream",
          "name": "stdout",
          "text": [
            "  Customer     Product  Profit\n",
            "0     Ravi      Laptop    5000\n",
            "1    Priya     Printer    1800\n",
            "2     Amit    Notebook     150\n",
            "3    Anita       Table   -1500\n",
            "4    Divya       Phone    3000\n",
            "5     John       Chair    2000\n",
            "6     Sara         Pen     100\n",
            "7     Alex     Monitor    2200\n",
            "8    Meera        Desk    -500\n",
            "9    Kiran  Headphones     700\n"
          ]
        }
      ]
    },
    {
      "cell_type": "code",
      "source": [
        "filterd_df = df[(df.Discount == 0) & (df.Profit > 2000)]\n",
        "print(filterd_df)"
      ],
      "metadata": {
        "colab": {
          "base_uri": "https://localhost:8080/"
        },
        "id": "_gu5pEjO0ASb",
        "outputId": "fc4478cd-abf2-490f-fb4b-2b0d081f7942"
      },
      "execution_count": 49,
      "outputs": [
        {
          "output_type": "stream",
          "name": "stdout",
          "text": [
            "   OrderID   OrderDate Customer   Segment Region Product    Category  \\\n",
            "4  CA-1005  2023-02-05    Divya  Consumer  South   Phone  Technology   \n",
            "\n",
            "  SubCategory  Quantity  UnitPrice  Discount  Profit  \n",
            "4      Phones         2      20000       0.0    3000  \n"
          ]
        }
      ]
    },
    {
      "cell_type": "code",
      "source": [
        "sorted_df =  df.sort_values(by='Profit', ascending=False)\n",
        "print(sorted_df)"
      ],
      "metadata": {
        "colab": {
          "base_uri": "https://localhost:8080/"
        },
        "id": "_98fnuQx1Fmk",
        "outputId": "19f87979-ad6d-4529-acec-5e9fdccdc8f1"
      },
      "execution_count": 50,
      "outputs": [
        {
          "output_type": "stream",
          "name": "stdout",
          "text": [
            "   OrderID   OrderDate Customer      Segment Region     Product  \\\n",
            "0  CA-1001  2023-01-15     Ravi     Consumer  South      Laptop   \n",
            "4  CA-1005  2023-02-05    Divya     Consumer  South       Phone   \n",
            "7  CA-1008  2023-06-18     Alex  Home Office  South     Monitor   \n",
            "5  CA-1006  2023-04-10     John    Corporate  North       Chair   \n",
            "1  CA-1002  2023-02-20    Priya    Corporate  North     Printer   \n",
            "9  CA-1010  2023-08-01    Kiran    Corporate  North  Headphones   \n",
            "2  CA-1003  2023-01-25     Amit     Consumer   East    Notebook   \n",
            "6  CA-1007  2023-05-15     Sara     Consumer   East         Pen   \n",
            "8  CA-1009  2023-07-25    Meera     Consumer   West        Desk   \n",
            "3  CA-1004  2023-03-01    Anita  Home Office   West       Table   \n",
            "\n",
            "          Category  SubCategory  Quantity  UnitPrice  Discount  Profit  \n",
            "0       Technology    Computers         1      55000      0.10    5000  \n",
            "4       Technology       Phones         2      20000      0.00    3000  \n",
            "7       Technology  Peripherals         2      15000      0.12    2200  \n",
            "5        Furniture       Chairs         4       7000      0.10    2000  \n",
            "1       Technology  Peripherals         2      12000      0.15    1800  \n",
            "9       Technology  Accessories         5       3000      0.08     700  \n",
            "2  Office Supplies        Paper         3        200      0.05     150  \n",
            "6  Office Supplies      Writing        10         50      0.05     100  \n",
            "8        Furniture       Tables         1      25000      0.18    -500  \n",
            "3        Furniture       Tables         1      18000      0.20   -1500  \n"
          ]
        }
      ]
    },
    {
      "cell_type": "code",
      "source": [
        "grouped_df = df.groupby('Category').agg({'Profit': 'sum', 'Discount':'mean'})\n",
        "print(grouped_df)"
      ],
      "metadata": {
        "colab": {
          "base_uri": "https://localhost:8080/"
        },
        "id": "kpnOQRsh1qZI",
        "outputId": "3a679305-abe1-40a5-e677-e94446c414d6"
      },
      "execution_count": 51,
      "outputs": [
        {
          "output_type": "stream",
          "name": "stdout",
          "text": [
            "                 Profit  Discount\n",
            "Category                         \n",
            " Furniture         -500      0.18\n",
            "Furniture           500      0.15\n",
            "Office Supplies     250      0.05\n",
            "Technology        12700      0.09\n"
          ]
        }
      ]
    },
    {
      "cell_type": "code",
      "source": [
        "df['TotalPrice'] = df['Quantity']*df['UnitPrice']\n",
        "print(df)"
      ],
      "metadata": {
        "colab": {
          "base_uri": "https://localhost:8080/"
        },
        "id": "Mg5rsucD2uy8",
        "outputId": "7ef980bc-1d9c-462e-a801-ea6dc7c1c2fa"
      },
      "execution_count": 52,
      "outputs": [
        {
          "output_type": "stream",
          "name": "stdout",
          "text": [
            "   OrderID   OrderDate Customer      Segment Region     Product  \\\n",
            "0  CA-1001  2023-01-15     Ravi     Consumer  South      Laptop   \n",
            "1  CA-1002  2023-02-20    Priya    Corporate  North     Printer   \n",
            "2  CA-1003  2023-01-25     Amit     Consumer   East    Notebook   \n",
            "3  CA-1004  2023-03-01    Anita  Home Office   West       Table   \n",
            "4  CA-1005  2023-02-05    Divya     Consumer  South       Phone   \n",
            "5  CA-1006  2023-04-10     John    Corporate  North       Chair   \n",
            "6  CA-1007  2023-05-15     Sara     Consumer   East         Pen   \n",
            "7  CA-1008  2023-06-18     Alex  Home Office  South     Monitor   \n",
            "8  CA-1009  2023-07-25    Meera     Consumer   West        Desk   \n",
            "9  CA-1010  2023-08-01    Kiran    Corporate  North  Headphones   \n",
            "\n",
            "          Category  SubCategory  Quantity  UnitPrice  Discount  Profit  \\\n",
            "0       Technology    Computers         1      55000      0.10    5000   \n",
            "1       Technology  Peripherals         2      12000      0.15    1800   \n",
            "2  Office Supplies        Paper         3        200      0.05     150   \n",
            "3        Furniture       Tables         1      18000      0.20   -1500   \n",
            "4       Technology       Phones         2      20000      0.00    3000   \n",
            "5        Furniture       Chairs         4       7000      0.10    2000   \n",
            "6  Office Supplies      Writing        10         50      0.05     100   \n",
            "7       Technology  Peripherals         2      15000      0.12    2200   \n",
            "8        Furniture       Tables         1      25000      0.18    -500   \n",
            "9       Technology  Accessories         5       3000      0.08     700   \n",
            "\n",
            "   TotalPrice  \n",
            "0       55000  \n",
            "1       24000  \n",
            "2         600  \n",
            "3       18000  \n",
            "4       40000  \n",
            "5       28000  \n",
            "6         500  \n",
            "7       30000  \n",
            "8       25000  \n",
            "9       15000  \n"
          ]
        }
      ]
    },
    {
      "cell_type": "code",
      "source": [
        "df = df.drop(columns=['SubCategory'])"
      ],
      "metadata": {
        "id": "WHLlG5Ja3HfE"
      },
      "execution_count": 54,
      "outputs": []
    },
    {
      "cell_type": "code",
      "source": [
        "print(df)"
      ],
      "metadata": {
        "colab": {
          "base_uri": "https://localhost:8080/"
        },
        "id": "C2k0_5tjVBPr",
        "outputId": "8d24ded2-7ccb-4a3c-a5b1-eba608073b01"
      },
      "execution_count": 55,
      "outputs": [
        {
          "output_type": "stream",
          "name": "stdout",
          "text": [
            "   OrderID   OrderDate Customer      Segment Region     Product  \\\n",
            "0  CA-1001  2023-01-15     Ravi     Consumer  South      Laptop   \n",
            "1  CA-1002  2023-02-20    Priya    Corporate  North     Printer   \n",
            "2  CA-1003  2023-01-25     Amit     Consumer   East    Notebook   \n",
            "3  CA-1004  2023-03-01    Anita  Home Office   West       Table   \n",
            "4  CA-1005  2023-02-05    Divya     Consumer  South       Phone   \n",
            "5  CA-1006  2023-04-10     John    Corporate  North       Chair   \n",
            "6  CA-1007  2023-05-15     Sara     Consumer   East         Pen   \n",
            "7  CA-1008  2023-06-18     Alex  Home Office  South     Monitor   \n",
            "8  CA-1009  2023-07-25    Meera     Consumer   West        Desk   \n",
            "9  CA-1010  2023-08-01    Kiran    Corporate  North  Headphones   \n",
            "\n",
            "          Category  Quantity  UnitPrice  Discount  Profit  TotalPrice  \n",
            "0       Technology         1      55000      0.10    5000       55000  \n",
            "1       Technology         2      12000      0.15    1800       24000  \n",
            "2  Office Supplies         3        200      0.05     150         600  \n",
            "3        Furniture         1      18000      0.20   -1500       18000  \n",
            "4       Technology         2      20000      0.00    3000       40000  \n",
            "5        Furniture         4       7000      0.10    2000       28000  \n",
            "6  Office Supplies        10         50      0.05     100         500  \n",
            "7       Technology         2      15000      0.12    2200       30000  \n",
            "8        Furniture         1      25000      0.18    -500       25000  \n",
            "9       Technology         5       3000      0.08     700       15000  \n"
          ]
        }
      ]
    },
    {
      "cell_type": "code",
      "source": [
        "df['Discount'] = df['Discount'].fillna(0.10)"
      ],
      "metadata": {
        "id": "lr8haPqK3h02"
      },
      "execution_count": 56,
      "outputs": []
    },
    {
      "cell_type": "code",
      "source": [
        "def classify(row):\n",
        "    if row['Profit'] > 4000:\n",
        "        return 'High'\n",
        "    elif row['Profit'] > 0:\n",
        "        return 'Medium'\n",
        "    else:\n",
        "        return 'Low'\n",
        "\n",
        "df['ProfitLevel'] = df.apply(classify, axis=1)\n",
        "print(df)"
      ],
      "metadata": {
        "colab": {
          "base_uri": "https://localhost:8080/"
        },
        "id": "nwXkvDDc4BDF",
        "outputId": "4bddac01-5469-4ca1-ac35-54b8322cadab"
      },
      "execution_count": 57,
      "outputs": [
        {
          "output_type": "stream",
          "name": "stdout",
          "text": [
            "   OrderID   OrderDate Customer      Segment Region     Product  \\\n",
            "0  CA-1001  2023-01-15     Ravi     Consumer  South      Laptop   \n",
            "1  CA-1002  2023-02-20    Priya    Corporate  North     Printer   \n",
            "2  CA-1003  2023-01-25     Amit     Consumer   East    Notebook   \n",
            "3  CA-1004  2023-03-01    Anita  Home Office   West       Table   \n",
            "4  CA-1005  2023-02-05    Divya     Consumer  South       Phone   \n",
            "5  CA-1006  2023-04-10     John    Corporate  North       Chair   \n",
            "6  CA-1007  2023-05-15     Sara     Consumer   East         Pen   \n",
            "7  CA-1008  2023-06-18     Alex  Home Office  South     Monitor   \n",
            "8  CA-1009  2023-07-25    Meera     Consumer   West        Desk   \n",
            "9  CA-1010  2023-08-01    Kiran    Corporate  North  Headphones   \n",
            "\n",
            "          Category  Quantity  UnitPrice  Discount  Profit  TotalPrice  \\\n",
            "0       Technology         1      55000      0.10    5000       55000   \n",
            "1       Technology         2      12000      0.15    1800       24000   \n",
            "2  Office Supplies         3        200      0.05     150         600   \n",
            "3        Furniture         1      18000      0.20   -1500       18000   \n",
            "4       Technology         2      20000      0.00    3000       40000   \n",
            "5        Furniture         4       7000      0.10    2000       28000   \n",
            "6  Office Supplies        10         50      0.05     100         500   \n",
            "7       Technology         2      15000      0.12    2200       30000   \n",
            "8        Furniture         1      25000      0.18    -500       25000   \n",
            "9       Technology         5       3000      0.08     700       15000   \n",
            "\n",
            "  ProfitLevel  \n",
            "0        High  \n",
            "1      Medium  \n",
            "2      Medium  \n",
            "3         Low  \n",
            "4      Medium  \n",
            "5      Medium  \n",
            "6      Medium  \n",
            "7      Medium  \n",
            "8         Low  \n",
            "9      Medium  \n"
          ]
        }
      ]
    },
    {
      "cell_type": "code",
      "source": [
        "from pyspark.sql import SparkSession\n",
        "spark = SparkSession.builder \\\n",
        "        .appName(\"RetailSalesAnalysis\") \\\n",
        "        .getOrCreate()\n",
        "\n",
        "spark"
      ],
      "metadata": {
        "colab": {
          "base_uri": "https://localhost:8080/",
          "height": 222
        },
        "id": "LCoaNK334xkM",
        "outputId": "107fcb1b-9e55-4628-b41e-225033d8f23c"
      },
      "execution_count": 58,
      "outputs": [
        {
          "output_type": "execute_result",
          "data": {
            "text/plain": [
              "<pyspark.sql.session.SparkSession at 0x79417f50f310>"
            ],
            "text/html": [
              "\n",
              "            <div>\n",
              "                <p><b>SparkSession - in-memory</b></p>\n",
              "                \n",
              "        <div>\n",
              "            <p><b>SparkContext</b></p>\n",
              "\n",
              "            <p><a href=\"http://77224822122f:4040\">Spark UI</a></p>\n",
              "\n",
              "            <dl>\n",
              "              <dt>Version</dt>\n",
              "                <dd><code>v3.5.1</code></dd>\n",
              "              <dt>Master</dt>\n",
              "                <dd><code>local[*]</code></dd>\n",
              "              <dt>AppName</dt>\n",
              "                <dd><code>RetailSalesAnalysis</code></dd>\n",
              "            </dl>\n",
              "        </div>\n",
              "        \n",
              "            </div>\n",
              "        "
            ]
          },
          "metadata": {},
          "execution_count": 58
        }
      ]
    },
    {
      "cell_type": "code",
      "source": [
        "df = spark.read.csv(path, header=True, inferSchema=True)"
      ],
      "metadata": {
        "id": "R6X29ymS5VIe"
      },
      "execution_count": 60,
      "outputs": []
    },
    {
      "cell_type": "code",
      "source": [
        "df.printSchema()\n",
        "df.show(5)"
      ],
      "metadata": {
        "colab": {
          "base_uri": "https://localhost:8080/"
        },
        "id": "mRo_203oUVT2",
        "outputId": "e2dde033-635c-4f50-81e2-1efcd74cb521"
      },
      "execution_count": 61,
      "outputs": [
        {
          "output_type": "stream",
          "name": "stdout",
          "text": [
            "root\n",
            " |-- OrderID: string (nullable = true)\n",
            " |-- OrderDate: date (nullable = true)\n",
            " |-- Customer: string (nullable = true)\n",
            " |-- Segment: string (nullable = true)\n",
            " |-- Region: string (nullable = true)\n",
            " |-- Product: string (nullable = true)\n",
            " |-- Category: string (nullable = true)\n",
            " |-- SubCategory: string (nullable = true)\n",
            " |-- Quantity: integer (nullable = true)\n",
            " |-- UnitPrice: integer (nullable = true)\n",
            " |-- Discount: double (nullable = true)\n",
            " |-- Profit: integer (nullable = true)\n",
            "\n",
            "+-------+----------+--------+-----------+------+--------+---------------+-----------+--------+---------+--------+------+\n",
            "|OrderID| OrderDate|Customer|    Segment|Region| Product|       Category|SubCategory|Quantity|UnitPrice|Discount|Profit|\n",
            "+-------+----------+--------+-----------+------+--------+---------------+-----------+--------+---------+--------+------+\n",
            "|CA-1001|2023-01-15|    Ravi|   Consumer| South|  Laptop|     Technology|  Computers|       1|    55000|     0.1|  5000|\n",
            "|CA-1002|2023-02-20|   Priya|  Corporate| North| Printer|     Technology|Peripherals|       2|    12000|    0.15|  1800|\n",
            "|CA-1003|2023-01-25|    Amit|   Consumer|  East|Notebook|Office Supplies|      Paper|       3|      200|    0.05|   150|\n",
            "|CA-1004|2023-03-01|   Anita|Home Office|  West|   Table|      Furniture|     Tables|       1|    18000|     0.2| -1500|\n",
            "|CA-1005|2023-02-05|   Divya|   Consumer| South|   Phone|     Technology|     Phones|       2|    20000|     0.0|  3000|\n",
            "+-------+----------+--------+-----------+------+--------+---------------+-----------+--------+---------+--------+------+\n",
            "only showing top 5 rows\n",
            "\n"
          ]
        }
      ]
    },
    {
      "cell_type": "code",
      "source": [
        "from pyspark.sql.functions import *\n",
        "df.select(col('Customer').alias('Client')).show()"
      ],
      "metadata": {
        "colab": {
          "base_uri": "https://localhost:8080/"
        },
        "id": "KQ_njAsL5ukf",
        "outputId": "4cc2af96-6abe-4dff-a76a-418993469510"
      },
      "execution_count": 62,
      "outputs": [
        {
          "output_type": "stream",
          "name": "stdout",
          "text": [
            "+------+\n",
            "|Client|\n",
            "+------+\n",
            "|  Ravi|\n",
            "| Priya|\n",
            "|  Amit|\n",
            "| Anita|\n",
            "| Divya|\n",
            "|  John|\n",
            "|  Sara|\n",
            "|  Alex|\n",
            "| Meera|\n",
            "| Kiran|\n",
            "+------+\n",
            "\n"
          ]
        }
      ]
    },
    {
      "cell_type": "code",
      "source": [
        "df.filter((col('Segment') == 'Consumer') & (col('Profit') < 1000)).show()"
      ],
      "metadata": {
        "colab": {
          "base_uri": "https://localhost:8080/"
        },
        "id": "y-phhYg2VaLF",
        "outputId": "6698009e-4ce6-4ab1-abf6-8b18544d515d"
      },
      "execution_count": 65,
      "outputs": [
        {
          "output_type": "stream",
          "name": "stdout",
          "text": [
            "+-------+----------+--------+--------+------+--------+---------------+-----------+--------+---------+--------+------+\n",
            "|OrderID| OrderDate|Customer| Segment|Region| Product|       Category|SubCategory|Quantity|UnitPrice|Discount|Profit|\n",
            "+-------+----------+--------+--------+------+--------+---------------+-----------+--------+---------+--------+------+\n",
            "|CA-1003|2023-01-25|    Amit|Consumer|  East|Notebook|Office Supplies|      Paper|       3|      200|    0.05|   150|\n",
            "|CA-1007|2023-05-15|    Sara|Consumer|  East|     Pen|Office Supplies|    Writing|      10|       50|    0.05|   100|\n",
            "|CA-1009|2023-07-25|   Meera|Consumer|  West|    Desk|      Furniture|     Tables|       1|    25000|    0.18|  -500|\n",
            "+-------+----------+--------+--------+------+--------+---------------+-----------+--------+---------+--------+------+\n",
            "\n"
          ]
        }
      ]
    },
    {
      "cell_type": "code",
      "source": [
        "df.groupBy('Region').agg(avg('Profit').alias('AverageProfit')).show()"
      ],
      "metadata": {
        "colab": {
          "base_uri": "https://localhost:8080/"
        },
        "id": "WHpua-Xz7l4_",
        "outputId": "5d7c2f3d-a013-461f-9106-cec40d1b95e4"
      },
      "execution_count": 67,
      "outputs": [
        {
          "output_type": "stream",
          "name": "stdout",
          "text": [
            "+------+-------------+\n",
            "|Region|AverageProfit|\n",
            "+------+-------------+\n",
            "| South|       3400.0|\n",
            "|  East|        125.0|\n",
            "|  West|      -1000.0|\n",
            "| North|       1500.0|\n",
            "+------+-------------+\n",
            "\n"
          ]
        }
      ]
    },
    {
      "cell_type": "code",
      "source": [
        "df = df.withColumn('TotalPrice', col('Quantity')*col('UnitPrice'))\n",
        "df.show()"
      ],
      "metadata": {
        "colab": {
          "base_uri": "https://localhost:8080/"
        },
        "id": "hTRk2Dnv8NAH",
        "outputId": "47744102-f667-4156-9280-827bfceb9aee"
      },
      "execution_count": 68,
      "outputs": [
        {
          "output_type": "stream",
          "name": "stdout",
          "text": [
            "+-------+----------+--------+-----------+------+----------+---------------+-----------+--------+---------+--------+------+----------+\n",
            "|OrderID| OrderDate|Customer|    Segment|Region|   Product|       Category|SubCategory|Quantity|UnitPrice|Discount|Profit|TotalPrice|\n",
            "+-------+----------+--------+-----------+------+----------+---------------+-----------+--------+---------+--------+------+----------+\n",
            "|CA-1001|2023-01-15|    Ravi|   Consumer| South|    Laptop|     Technology|  Computers|       1|    55000|     0.1|  5000|     55000|\n",
            "|CA-1002|2023-02-20|   Priya|  Corporate| North|   Printer|     Technology|Peripherals|       2|    12000|    0.15|  1800|     24000|\n",
            "|CA-1003|2023-01-25|    Amit|   Consumer|  East|  Notebook|Office Supplies|      Paper|       3|      200|    0.05|   150|       600|\n",
            "|CA-1004|2023-03-01|   Anita|Home Office|  West|     Table|      Furniture|     Tables|       1|    18000|     0.2| -1500|     18000|\n",
            "|CA-1005|2023-02-05|   Divya|   Consumer| South|     Phone|     Technology|     Phones|       2|    20000|     0.0|  3000|     40000|\n",
            "|CA-1006|2023-04-10|    John|  Corporate| North|     Chair|      Furniture|     Chairs|       4|     7000|     0.1|  2000|     28000|\n",
            "|CA-1007|2023-05-15|    Sara|   Consumer|  East|       Pen|Office Supplies|    Writing|      10|       50|    0.05|   100|       500|\n",
            "|CA-1008|2023-06-18|    Alex|Home Office| South|   Monitor|     Technology|Peripherals|       2|    15000|    0.12|  2200|     30000|\n",
            "|CA-1009|2023-07-25|   Meera|   Consumer|  West|      Desk|      Furniture|     Tables|       1|    25000|    0.18|  -500|     25000|\n",
            "|CA-1010|2023-08-01|   Kiran|  Corporate| North|Headphones|     Technology|Accessories|       5|     3000|    0.08|   700|     15000|\n",
            "+-------+----------+--------+-----------+------+----------+---------------+-----------+--------+---------+--------+------+----------+\n",
            "\n"
          ]
        }
      ]
    },
    {
      "cell_type": "code",
      "source": [],
      "metadata": {
        "id": "ZsEOjvwEVlha"
      },
      "execution_count": null,
      "outputs": []
    },
    {
      "cell_type": "code",
      "source": [
        "df = df.withColumn('ProfitLevel', when(col('Profit') > 2000, \"High\").when(col('Profit') <= 0, \"Loss\").otherwise(\"Medium\"))\n",
        "df.show()"
      ],
      "metadata": {
        "colab": {
          "base_uri": "https://localhost:8080/"
        },
        "id": "2esCSpcE8kpk",
        "outputId": "09439161-26e7-4c01-af99-c91f2d9d4fdf"
      },
      "execution_count": 71,
      "outputs": [
        {
          "output_type": "stream",
          "name": "stdout",
          "text": [
            "+-------+----------+--------+-----------+------+----------+---------------+-----------+--------+---------+--------+------+----------+-----------+\n",
            "|OrderID| OrderDate|Customer|    Segment|Region|   Product|       Category|SubCategory|Quantity|UnitPrice|Discount|Profit|TotalPrice|ProfitLevel|\n",
            "+-------+----------+--------+-----------+------+----------+---------------+-----------+--------+---------+--------+------+----------+-----------+\n",
            "|CA-1001|2023-01-15|    Ravi|   Consumer| South|    Laptop|     Technology|  Computers|       1|    55000|     0.1|  5000|     55000|       High|\n",
            "|CA-1002|2023-02-20|   Priya|  Corporate| North|   Printer|     Technology|Peripherals|       2|    12000|    0.15|  1800|     24000|     Medium|\n",
            "|CA-1003|2023-01-25|    Amit|   Consumer|  East|  Notebook|Office Supplies|      Paper|       3|      200|    0.05|   150|       600|     Medium|\n",
            "|CA-1004|2023-03-01|   Anita|Home Office|  West|     Table|      Furniture|     Tables|       1|    18000|     0.2| -1500|     18000|       Loss|\n",
            "|CA-1005|2023-02-05|   Divya|   Consumer| South|     Phone|     Technology|     Phones|       2|    20000|     0.0|  3000|     40000|       High|\n",
            "|CA-1006|2023-04-10|    John|  Corporate| North|     Chair|      Furniture|     Chairs|       4|     7000|     0.1|  2000|     28000|     Medium|\n",
            "|CA-1007|2023-05-15|    Sara|   Consumer|  East|       Pen|Office Supplies|    Writing|      10|       50|    0.05|   100|       500|     Medium|\n",
            "|CA-1008|2023-06-18|    Alex|Home Office| South|   Monitor|     Technology|Peripherals|       2|    15000|    0.12|  2200|     30000|       High|\n",
            "|CA-1009|2023-07-25|   Meera|   Consumer|  West|      Desk|      Furniture|     Tables|       1|    25000|    0.18|  -500|     25000|       Loss|\n",
            "|CA-1010|2023-08-01|   Kiran|  Corporate| North|Headphones|     Technology|Accessories|       5|     3000|    0.08|   700|     15000|     Medium|\n",
            "+-------+----------+--------+-----------+------+----------+---------------+-----------+--------+---------+--------+------+----------+-----------+\n",
            "\n"
          ]
        }
      ]
    },
    {
      "cell_type": "code",
      "source": [
        "df = df.drop(\"SubCategory\")\n",
        "df.show()"
      ],
      "metadata": {
        "colab": {
          "base_uri": "https://localhost:8080/"
        },
        "id": "fGZy8vO29jGe",
        "outputId": "68a490a9-8b74-44a6-dac1-7ba7c3981594"
      },
      "execution_count": 72,
      "outputs": [
        {
          "output_type": "stream",
          "name": "stdout",
          "text": [
            "+-------+----------+--------+-----------+------+----------+---------------+--------+---------+--------+------+----------+-----------+\n",
            "|OrderID| OrderDate|Customer|    Segment|Region|   Product|       Category|Quantity|UnitPrice|Discount|Profit|TotalPrice|ProfitLevel|\n",
            "+-------+----------+--------+-----------+------+----------+---------------+--------+---------+--------+------+----------+-----------+\n",
            "|CA-1001|2023-01-15|    Ravi|   Consumer| South|    Laptop|     Technology|       1|    55000|     0.1|  5000|     55000|       High|\n",
            "|CA-1002|2023-02-20|   Priya|  Corporate| North|   Printer|     Technology|       2|    12000|    0.15|  1800|     24000|     Medium|\n",
            "|CA-1003|2023-01-25|    Amit|   Consumer|  East|  Notebook|Office Supplies|       3|      200|    0.05|   150|       600|     Medium|\n",
            "|CA-1004|2023-03-01|   Anita|Home Office|  West|     Table|      Furniture|       1|    18000|     0.2| -1500|     18000|       Loss|\n",
            "|CA-1005|2023-02-05|   Divya|   Consumer| South|     Phone|     Technology|       2|    20000|     0.0|  3000|     40000|       High|\n",
            "|CA-1006|2023-04-10|    John|  Corporate| North|     Chair|      Furniture|       4|     7000|     0.1|  2000|     28000|     Medium|\n",
            "|CA-1007|2023-05-15|    Sara|   Consumer|  East|       Pen|Office Supplies|      10|       50|    0.05|   100|       500|     Medium|\n",
            "|CA-1008|2023-06-18|    Alex|Home Office| South|   Monitor|     Technology|       2|    15000|    0.12|  2200|     30000|       High|\n",
            "|CA-1009|2023-07-25|   Meera|   Consumer|  West|      Desk|      Furniture|       1|    25000|    0.18|  -500|     25000|       Loss|\n",
            "|CA-1010|2023-08-01|   Kiran|  Corporate| North|Headphones|     Technology|       5|     3000|    0.08|   700|     15000|     Medium|\n",
            "+-------+----------+--------+-----------+------+----------+---------------+--------+---------+--------+------+----------+-----------+\n",
            "\n"
          ]
        }
      ]
    },
    {
      "cell_type": "code",
      "source": [
        "df = df.fillna({'Discount': 0.10})\n",
        "df.show()"
      ],
      "metadata": {
        "colab": {
          "base_uri": "https://localhost:8080/"
        },
        "id": "AwuAUCYQ-BqW",
        "outputId": "074d85a9-bb66-430a-cc10-ccf64a234ebe"
      },
      "execution_count": 76,
      "outputs": [
        {
          "output_type": "stream",
          "name": "stdout",
          "text": [
            "+-------+----------+--------+-----------+------+----------+---------------+--------+---------+--------+------+----------+-----------+\n",
            "|OrderID| OrderDate|Customer|    Segment|Region|   Product|       Category|Quantity|UnitPrice|Discount|Profit|TotalPrice|ProfitLevel|\n",
            "+-------+----------+--------+-----------+------+----------+---------------+--------+---------+--------+------+----------+-----------+\n",
            "|CA-1001|2023-01-15|    Ravi|   Consumer| South|    Laptop|     Technology|       1|    55000|     0.1|  5000|     55000|       High|\n",
            "|CA-1002|2023-02-20|   Priya|  Corporate| North|   Printer|     Technology|       2|    12000|    0.15|  1800|     24000|     Medium|\n",
            "|CA-1003|2023-01-25|    Amit|   Consumer|  East|  Notebook|Office Supplies|       3|      200|    0.05|   150|       600|     Medium|\n",
            "|CA-1004|2023-03-01|   Anita|Home Office|  West|     Table|      Furniture|       1|    18000|     0.2| -1500|     18000|       Loss|\n",
            "|CA-1005|2023-02-05|   Divya|   Consumer| South|     Phone|     Technology|       2|    20000|     0.0|  3000|     40000|       High|\n",
            "|CA-1006|2023-04-10|    John|  Corporate| North|     Chair|      Furniture|       4|     7000|     0.1|  2000|     28000|     Medium|\n",
            "|CA-1007|2023-05-15|    Sara|   Consumer|  East|       Pen|Office Supplies|      10|       50|    0.05|   100|       500|     Medium|\n",
            "|CA-1008|2023-06-18|    Alex|Home Office| South|   Monitor|     Technology|       2|    15000|    0.12|  2200|     30000|       High|\n",
            "|CA-1009|2023-07-25|   Meera|   Consumer|  West|      Desk|      Furniture|       1|    25000|    0.18|  -500|     25000|       Loss|\n",
            "|CA-1010|2023-08-01|   Kiran|  Corporate| North|Headphones|     Technology|       5|     3000|    0.08|   700|     15000|     Medium|\n",
            "+-------+----------+--------+-----------+------+----------+---------------+--------+---------+--------+------+----------+-----------+\n",
            "\n"
          ]
        }
      ]
    },
    {
      "cell_type": "code",
      "source": [
        "df = df.withColumn(\"OrderDate\", to_date(col(\"OrderDate\")))\n",
        "df = df.withColumn(\"Year\", year(\"OrderDate\")).withColumn(\"Month\", month(\"OrderDate\"))\n",
        "df.select(\"OrderID\", \"OrderDate\", \"Year\", \"Month\").show()"
      ],
      "metadata": {
        "colab": {
          "base_uri": "https://localhost:8080/"
        },
        "id": "W3eMW3sa-XgM",
        "outputId": "1305ba82-0ee1-4159-ed25-227fa127876e"
      },
      "execution_count": 78,
      "outputs": [
        {
          "output_type": "stream",
          "name": "stdout",
          "text": [
            "+-------+----------+----+-----+\n",
            "|OrderID| OrderDate|Year|Month|\n",
            "+-------+----------+----+-----+\n",
            "|CA-1001|2023-01-15|2023|    1|\n",
            "|CA-1002|2023-02-20|2023|    2|\n",
            "|CA-1003|2023-01-25|2023|    1|\n",
            "|CA-1004|2023-03-01|2023|    3|\n",
            "|CA-1005|2023-02-05|2023|    2|\n",
            "|CA-1006|2023-04-10|2023|    4|\n",
            "|CA-1007|2023-05-15|2023|    5|\n",
            "|CA-1008|2023-06-18|2023|    6|\n",
            "|CA-1009|2023-07-25|2023|    7|\n",
            "|CA-1010|2023-08-01|2023|    8|\n",
            "+-------+----------+----+-----+\n",
            "\n"
          ]
        }
      ]
    },
    {
      "cell_type": "code",
      "source": [
        "import dask.dataframe as dd\n",
        "\n",
        "df = dd.read_csv(path)"
      ],
      "metadata": {
        "id": "Ko3DrSs0_DFT"
      },
      "execution_count": 80,
      "outputs": []
    },
    {
      "cell_type": "code",
      "source": [
        "avg_discount = df.groupby('Category')['Discount'].mean().compute()\n",
        "print(avg_discount)"
      ],
      "metadata": {
        "colab": {
          "base_uri": "https://localhost:8080/"
        },
        "id": "TwOhoAzfV4HG",
        "outputId": "8293348c-1e80-41e1-cf80-3d0fbacccd22"
      },
      "execution_count": 82,
      "outputs": [
        {
          "output_type": "stream",
          "name": "stdout",
          "text": [
            "Category\n",
            " Furniture         0.18\n",
            "Furniture          0.15\n",
            "Office Supplies    0.05\n",
            "Technology         0.09\n",
            "Name: Discount, dtype: float64\n"
          ]
        }
      ]
    },
    {
      "cell_type": "code",
      "source": [
        "filtered_df = df[(df['Quantity'] > 1) & (df['Profit'] > 2000)]\n",
        "print(filtered_df)"
      ],
      "metadata": {
        "colab": {
          "base_uri": "https://localhost:8080/"
        },
        "id": "c3C8rwmZV7PY",
        "outputId": "51e8cff1-eec3-451a-9672-0331e7bc9c55"
      },
      "execution_count": 84,
      "outputs": [
        {
          "output_type": "stream",
          "name": "stdout",
          "text": [
            "Dask DataFrame Structure:\n",
            "              OrderID OrderDate Customer Segment  Region Product Category SubCategory Quantity UnitPrice Discount Profit\n",
            "npartitions=1                                                                                                           \n",
            "               string    string   string  string  string  string   string      string    int64     int64  float64  int64\n",
            "                  ...       ...      ...     ...     ...     ...      ...         ...      ...       ...      ...    ...\n",
            "Dask Name: getitem, 8 expressions\n",
            "Expr=Filter(frame=ArrowStringConversion(frame=FromMapProjectable(d4f6ff0)), predicate=ArrowStringConversion(frame=FromMapProjectable(d4f6ff0))['Quantity'] > 1 & ArrowStringConversion(frame=FromMapProjectable(d4f6ff0))['Profit'] > 2000)\n"
          ]
        }
      ]
    },
    {
      "cell_type": "code",
      "source": [
        "filtered_df.to_csv('filtered_data.csv', index=False)\n",
        "print(\"File saved successfully\")"
      ],
      "metadata": {
        "colab": {
          "base_uri": "https://localhost:8080/"
        },
        "id": "bpXh1zjUV-4W",
        "outputId": "372a5b13-bbf2-466e-bd08-f70a68bb1bc9"
      },
      "execution_count": 85,
      "outputs": [
        {
          "output_type": "stream",
          "name": "stdout",
          "text": [
            "File saved successfully\n"
          ]
        }
      ]
    },
    {
      "cell_type": "code",
      "source": [
        "path = '/content/mydrive/MyDrive/orders.json'"
      ],
      "metadata": {
        "id": "sabpZO0iCVOm"
      },
      "execution_count": 86,
      "outputs": []
    },
    {
      "cell_type": "code",
      "source": [
        "df_json = spark.read.json(path, multiLine=True)"
      ],
      "metadata": {
        "id": "0XrQlOrvWv7X"
      },
      "execution_count": 89,
      "outputs": []
    },
    {
      "cell_type": "code",
      "source": [
        "df_json.printSchema()"
      ],
      "metadata": {
        "colab": {
          "base_uri": "https://localhost:8080/"
        },
        "id": "ujsMpVNkWwGb",
        "outputId": "36987715-0803-4a87-86a0-51e04e4ae0c7"
      },
      "execution_count": 90,
      "outputs": [
        {
          "output_type": "stream",
          "name": "stdout",
          "text": [
            "root\n",
            " |-- Customer: struct (nullable = true)\n",
            " |    |-- Name: string (nullable = true)\n",
            " |    |-- Segment: string (nullable = true)\n",
            " |-- Details: struct (nullable = true)\n",
            " |    |-- Profit: long (nullable = true)\n",
            " |    |-- Region: string (nullable = true)\n",
            " |-- OrderID: string (nullable = true)\n",
            "\n"
          ]
        }
      ]
    },
    {
      "cell_type": "code",
      "source": [
        "df_json.select(\"OrderID\", \"Customer.Name\", \"Details.Profit\").show()"
      ],
      "metadata": {
        "colab": {
          "base_uri": "https://localhost:8080/"
        },
        "id": "8su7uaTnWwQm",
        "outputId": "68391609-0cec-42af-9a4d-fb5be09422df"
      },
      "execution_count": 92,
      "outputs": [
        {
          "output_type": "stream",
          "name": "stdout",
          "text": [
            "+-------+----+------+\n",
            "|OrderID|Name|Profit|\n",
            "+-------+----+------+\n",
            "|CA-1001|Ravi|  5000|\n",
            "+-------+----+------+\n",
            "\n"
          ]
        }
      ]
    }
  ]
}