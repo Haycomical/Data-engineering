{
  "nbformat": 4,
  "nbformat_minor": 0,
  "metadata": {
    "colab": {
      "provenance": []
    },
    "kernelspec": {
      "name": "python3",
      "display_name": "Python 3"
    },
    "language_info": {
      "name": "python"
    }
  },
  "cells": [
    {
      "cell_type": "code",
      "execution_count": 1,
      "metadata": {
        "colab": {
          "base_uri": "https://localhost:8080/"
        },
        "id": "R-gPcFaZwq0p",
        "outputId": "a592ccf0-a788-4963-8fac-814fa682512e"
      },
      "outputs": [
        {
          "output_type": "stream",
          "name": "stdout",
          "text": [
            "Mounted at /content/mydrive\n"
          ]
        }
      ],
      "source": [
        "from google.colab import drive\n",
        "drive.mount('/content/mydrive')"
      ]
    },
    {
      "cell_type": "code",
      "source": [
        "from pyspark.sql import SparkSession\n",
        "from pyspark.sql.functions import col, count\n",
        "\n",
        "\n",
        "spark = SparkSession.builder.appName(\"SupplyChain\").getOrCreate()\n",
        "path = '/content/mydrive/MyDrive/cleaned_supply_chain.csv'"
      ],
      "metadata": {
        "id": "k25kZlEBw0Bd"
      },
      "execution_count": 2,
      "outputs": []
    },
    {
      "cell_type": "code",
      "source": [
        "df = spark.read.csv(path, header=True, inferSchema=True)"
      ],
      "metadata": {
        "id": "_l1GclSTwz6f"
      },
      "execution_count": 4,
      "outputs": []
    },
    {
      "cell_type": "code",
      "source": [
        "delayed_df = df.filter(col(\"is_delayed\") == 1)"
      ],
      "metadata": {
        "id": "ykGgOz7uwz1D"
      },
      "execution_count": 6,
      "outputs": []
    },
    {
      "cell_type": "code",
      "source": [
        "delayed_df.show()"
      ],
      "metadata": {
        "colab": {
          "base_uri": "https://localhost:8080/"
        },
        "id": "_MoM3-urxQHK",
        "outputId": "27550668-6907-4126-c37e-a81c811e06da"
      },
      "execution_count": 7,
      "outputs": [
        {
          "output_type": "stream",
          "name": "stdout",
          "text": [
            "+--------+-----------+------------+-------------+----------+----------+\n",
            "|order_id|supplier_id|        item|delivery_date|delay_days|is_delayed|\n",
            "+--------+-----------+------------+-------------+----------+----------+\n",
            "|   O1001|       S001|     Widgets|   2024-07-15|        17|         1|\n",
            "|   O1002|       S002|     Gadgets|   2024-07-25|         7|         1|\n",
            "|   O1003|       S001|     Widgets|   2024-07-18|        14|         1|\n",
            "|   O1004|       S003|Thingamajigs|   2024-07-10|        22|         1|\n",
            "|   O1005|       S002|      Gizmos|   2024-07-22|        10|         1|\n",
            "|   O1006|       S004|       Tools|   2024-07-20|        12|         1|\n",
            "|   O1007|       S001|     Widgets|   2024-07-30|         2|         1|\n",
            "|   O1008|       S003|Thingamajigs|   2024-07-21|        11|         1|\n",
            "|   O1009|       S004|       Tools|   2024-07-23|         9|         1|\n",
            "|   O1010|       S002|     Gadgets|   2024-07-28|         4|         1|\n",
            "+--------+-----------+------------+-------------+----------+----------+\n",
            "\n"
          ]
        }
      ]
    },
    {
      "cell_type": "code",
      "source": [
        "delay_counts = delayed_df.groupBy(\"supplier_id\").agg(count(\"*\").alias(\"delayed_orders\"))\n",
        "delay_counts.show()"
      ],
      "metadata": {
        "colab": {
          "base_uri": "https://localhost:8080/"
        },
        "id": "OaZcpzTmwzva",
        "outputId": "3082a154-9920-48b4-ff5e-299bbf7fdaa5"
      },
      "execution_count": 10,
      "outputs": [
        {
          "output_type": "stream",
          "name": "stdout",
          "text": [
            "+-----------+--------------+\n",
            "|supplier_id|delayed_orders|\n",
            "+-----------+--------------+\n",
            "|       S004|             2|\n",
            "|       S001|             3|\n",
            "|       S002|             3|\n",
            "|       S003|             2|\n",
            "+-----------+--------------+\n",
            "\n"
          ]
        }
      ]
    },
    {
      "cell_type": "code",
      "source": [
        "delay_counts.write.csv(\"delayed_orders_by_supplier.csv\", header=True, mode=\"overwrite\")"
      ],
      "metadata": {
        "id": "a8Ytzm5Twzp1"
      },
      "execution_count": 11,
      "outputs": []
    }
  ]
}