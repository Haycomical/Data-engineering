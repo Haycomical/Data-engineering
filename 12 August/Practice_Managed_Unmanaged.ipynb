{
  "nbformat": 4,
  "nbformat_minor": 0,
  "metadata": {
    "colab": {
      "provenance": []
    },
    "kernelspec": {
      "name": "python3",
      "display_name": "Python 3"
    },
    "language_info": {
      "name": "python"
    }
  },
  "cells": [
    {
      "cell_type": "code",
      "source": [
        "!pip install delta-spark==3.2.0 -q\n",
        "import pyspark\n",
        "from delta import *\n",
        "from pyspark.sql.functions import *\n",
        "\n",
        "# Create a SparkSession with Delta Lake extensions\n",
        "# The '.config(...)' lines are crucial for enabling Delta Lake's features\n",
        "builder = pyspark.sql.SparkSession.builder.appName(\"DeltaTutorial\") \\\n",
        "    .config(\"spark.sql.extensions\", \"io.delta.sql.DeltaSparkSessionExtension\") \\\n",
        "    .config(\"spark.sql.catalog.spark_catalog\", \"org.apache.spark.sql.delta.catalog.DeltaCatalog\")\n",
        "\n",
        "# Get or create the SparkSession\n",
        "spark = configure_spark_with_delta_pip(builder).getOrCreate()\n",
        "\n",
        "print(\"Spark and Delta Lake are ready!\")"
      ],
      "metadata": {
        "colab": {
          "base_uri": "https://localhost:8080/"
        },
        "id": "FW02AxWGoS-w",
        "outputId": "50b238b9-f4fc-4ff9-9e0a-1a4c980f4c0c"
      },
      "execution_count": 1,
      "outputs": [
        {
          "output_type": "stream",
          "name": "stdout",
          "text": [
            "Spark and Delta Lake are ready!\n"
          ]
        }
      ]
    },
    {
      "cell_type": "code",
      "source": [
        "# Create a sample DataFrame\n",
        "data = [(\"Amit\", 28), (\"Priya\", 32), (\"Rahul\", 25)]\n",
        "df = spark.createDataFrame(data, [\"name\", \"age\"])\n",
        "\n",
        "# Save as a managed table in Delta format\n",
        "df.write.format(\"delta\").saveAsTable(\"managed_people\")\n",
        "\n",
        "# Show the table\n",
        "spark.sql(\"SELECT * FROM managed_people\").show()\n",
        "\n",
        "# Get the table's storage location\n",
        "location = spark.sql(\"DESCRIBE DETAIL managed_people\").collect()[0]['location']\n",
        "print(\"Managed Table Location:\", location)"
      ],
      "metadata": {
        "colab": {
          "base_uri": "https://localhost:8080/"
        },
        "id": "vmYopGhwq_b0",
        "outputId": "a7bf44c0-0210-4790-b3d6-ea37d13e4b49"
      },
      "execution_count": 2,
      "outputs": [
        {
          "output_type": "stream",
          "name": "stdout",
          "text": [
            "+-----+---+\n",
            "| name|age|\n",
            "+-----+---+\n",
            "|Priya| 32|\n",
            "|Rahul| 25|\n",
            "| Amit| 28|\n",
            "+-----+---+\n",
            "\n",
            "Managed Table Location: file:/content/spark-warehouse/managed_people\n"
          ]
        }
      ]
    },
    {
      "cell_type": "code",
      "source": [
        "spark.sql(\"\"\" DROP TABLE  managed_people\"\"\")"
      ],
      "metadata": {
        "colab": {
          "base_uri": "https://localhost:8080/"
        },
        "id": "Pe9pmwuxrKLa",
        "outputId": "0b267fdc-9fc5-4bd9-f4f7-54370bec7362"
      },
      "execution_count": 4,
      "outputs": [
        {
          "output_type": "execute_result",
          "data": {
            "text/plain": [
              "DataFrame[]"
            ]
          },
          "metadata": {},
          "execution_count": 4
        }
      ]
    },
    {
      "cell_type": "code",
      "source": [
        "# Mount Google Drive\n",
        "from google.colab import drive\n",
        "drive.mount('/content/drive')\n",
        "\n",
        "# Example: CSV file path in your Drive\n",
        "csv_path = \"/content/drive/MyDrive/students.csv\"\n",
        "\n",
        "# Read CSV into Spark DataFrame\n",
        "df = spark.read.format(\"csv\").option(\"header\", \"true\").load(csv_path)\n",
        "df.show()"
      ],
      "metadata": {
        "colab": {
          "base_uri": "https://localhost:8080/"
        },
        "id": "HPXD1pYVrk53",
        "outputId": "550dc3ad-db65-4caf-9aef-a1a106b23da7"
      },
      "execution_count": 6,
      "outputs": [
        {
          "output_type": "stream",
          "name": "stdout",
          "text": [
            "Drive already mounted at /content/drive; to attempt to forcibly remount, call drive.mount(\"/content/drive\", force_remount=True).\n",
            "+-----+----+-------+-------+\n",
            "| Name|Math|Science|English|\n",
            "+-----+----+-------+-------+\n",
            "| Amit|  78|     85|     74|\n",
            "|Priya|  92|     89|     96|\n",
            "|Kiran|  65|     70|     60|\n",
            "|Anita|  88|     95|     90|\n",
            "| Ravi|  55|     60|     58|\n",
            "+-----+----+-------+-------+\n",
            "\n"
          ]
        }
      ]
    },
    {
      "cell_type": "code",
      "source": [],
      "metadata": {
        "id": "Xtln2nwhrk3n"
      },
      "execution_count": null,
      "outputs": []
    },
    {
      "cell_type": "code",
      "source": [],
      "metadata": {
        "id": "nQvqNSjQrk0x"
      },
      "execution_count": null,
      "outputs": []
    },
    {
      "cell_type": "code",
      "source": [
        "# Create a sample DataFrame\n",
        "data = [(\"Amit\", 28), (\"Priya\", 32), (\"Rahul\", 25)]\n",
        "df = spark.createDataFrame(data, [\"name\", \"age\"])\n",
        "\n",
        "# Path for storing external table data (you choose the location)\n",
        "external_path = \"/content/drive/MyDrive/unmanaged_people\"\n",
        "\n",
        "# Save as an unmanaged (external) Delta table\n",
        "df.write.format(\"delta\").save(external_path)\n",
        "\n",
        "# Create external table linked to that path\n",
        "spark.sql(f\"\"\"\n",
        "    CREATE TABLE unmanaged_people\n",
        "    USING DELTA\n",
        "    LOCATION '{external_path}'\n",
        "\"\"\")\n",
        "\n",
        "# Show the table\n",
        "spark.sql(\"SELECT * FROM unmanaged_people\").show()\n",
        "\n",
        "# Check table location\n",
        "location = spark.sql(\"DESCRIBE DETAIL unmanaged_people\").collect()[0]['location']\n",
        "print(\"Unmanaged Table Location:\", location)\n"
      ],
      "metadata": {
        "colab": {
          "base_uri": "https://localhost:8080/"
        },
        "id": "ZLYzqJj2rQmV",
        "outputId": "1255ad6d-f6d8-449c-8b01-61df4536efee"
      },
      "execution_count": 7,
      "outputs": [
        {
          "output_type": "stream",
          "name": "stdout",
          "text": [
            "+-----+---+\n",
            "| name|age|\n",
            "+-----+---+\n",
            "|Priya| 32|\n",
            "|Rahul| 25|\n",
            "| Amit| 28|\n",
            "+-----+---+\n",
            "\n",
            "Unmanaged Table Location: file:/content/drive/MyDrive/unmanaged_people\n"
          ]
        }
      ]
    },
    {
      "cell_type": "code",
      "source": [
        "spark.sql(\"\"\" DROP TABLE  unmanaged_people\"\"\")"
      ],
      "metadata": {
        "colab": {
          "base_uri": "https://localhost:8080/"
        },
        "id": "-ubpi2ZlrQep",
        "outputId": "0eb437f1-c0c6-4fb6-f4f8-d1a579a63865"
      },
      "execution_count": 9,
      "outputs": [
        {
          "output_type": "execute_result",
          "data": {
            "text/plain": [
              "DataFrame[]"
            ]
          },
          "metadata": {},
          "execution_count": 9
        }
      ]
    },
    {
      "cell_type": "code",
      "source": [],
      "metadata": {
        "id": "R_wC1g7yrQTH"
      },
      "execution_count": null,
      "outputs": []
    }
  ]
}