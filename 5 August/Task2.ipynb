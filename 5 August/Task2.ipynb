{
  "cells": [
    {
      "cell_type": "code",
      "execution_count": 1,
      "id": "a1a5983a",
      "metadata": {
        "id": "a1a5983a"
      },
      "outputs": [],
      "source": [
        "from pyspark.sql import SparkSession\n",
        "spark = SparkSession.builder \\\n",
        "    .appName(\"BotCampus PySpark Practice\") \\\n",
        "    .master(\"local[*]\") \\\n",
        "    .getOrCreate()"
      ]
    },
    {
      "cell_type": "code",
      "execution_count": 5,
      "id": "63d245ba",
      "metadata": {
        "id": "63d245ba"
      },
      "outputs": [],
      "source": [
        "data = [(\"Anjali\", \"Bangalore\", 24),\n",
        "        (\"Ravi\", \"Hyderabad\", 28),\n",
        "        (\"Kavya\", \"Delhi\", 22),\n",
        "        (\"Meena\", \"Chennai\", 25),\n",
        "        (\"Arjun\", \"Mumbai\", 30)]\n",
        "columns = [\"name\", \"city\", \"age\"]\n",
        "df = spark.createDataFrame(data, columns)"
      ]
    },
    {
      "cell_type": "code",
      "source": [
        "df.show()"
      ],
      "metadata": {
        "colab": {
          "base_uri": "https://localhost:8080/"
        },
        "id": "uMVAdiXjKUTy",
        "outputId": "528df3e8-daaf-4144-bd10-8e1c2a8390e0"
      },
      "id": "uMVAdiXjKUTy",
      "execution_count": 6,
      "outputs": [
        {
          "output_type": "stream",
          "name": "stdout",
          "text": [
            "+------+---------+---+\n",
            "|  name|     city|age|\n",
            "+------+---------+---+\n",
            "|Anjali|Bangalore| 24|\n",
            "|  Ravi|Hyderabad| 28|\n",
            "| Kavya|    Delhi| 22|\n",
            "| Meena|  Chennai| 25|\n",
            "| Arjun|   Mumbai| 30|\n",
            "+------+---------+---+\n",
            "\n"
          ]
        }
      ]
    },
    {
      "cell_type": "code",
      "execution_count": 7,
      "id": "a8e557bc",
      "metadata": {
        "colab": {
          "base_uri": "https://localhost:8080/"
        },
        "id": "a8e557bc",
        "outputId": "7dd1de2a-6e1d-4e3f-86b5-417c328c8d63"
      },
      "outputs": [
        {
          "output_type": "stream",
          "name": "stdout",
          "text": [
            "root\n",
            " |-- name: string (nullable = true)\n",
            " |-- city: string (nullable = true)\n",
            " |-- age: long (nullable = true)\n",
            "\n"
          ]
        }
      ],
      "source": [
        "df.printSchema()"
      ]
    },
    {
      "cell_type": "code",
      "execution_count": 12,
      "id": "0fd081b4",
      "metadata": {
        "colab": {
          "base_uri": "https://localhost:8080/"
        },
        "id": "0fd081b4",
        "outputId": "5ba41c47-76c3-45d3-89a2-39bfac1864cf"
      },
      "outputs": [
        {
          "output_type": "stream",
          "name": "stdout",
          "text": [
            "[Row(name='Anjali', city='Bangalore', age=24), Row(name='Ravi', city='Hyderabad', age=28), Row(name='Kavya', city='Delhi', age=22), Row(name='Meena', city='Chennai', age=25), Row(name='Arjun', city='Mumbai', age=30)]\n"
          ]
        }
      ],
      "source": [
        "rdd = df.rdd\n",
        "print(rdd.collect())"
      ]
    },
    {
      "cell_type": "code",
      "execution_count": 13,
      "id": "f09c5290",
      "metadata": {
        "colab": {
          "base_uri": "https://localhost:8080/"
        },
        "id": "f09c5290",
        "outputId": "8bcc5045-41b8-48f6-b96e-eacdf2aa0d87"
      },
      "outputs": [
        {
          "output_type": "stream",
          "name": "stdout",
          "text": [
            "[('ANJALI', 'Bangalore', 25), ('RAVI', 'Hyderabad', 29), ('KAVYA', 'Delhi', 23), ('MEENA', 'Chennai', 26), ('ARJUN', 'Mumbai', 31)]\n"
          ]
        }
      ],
      "source": [
        "mapped_rdd = rdd.map(lambda x: (x.name.upper(), x.city, x.age+1))\n",
        "print(mapped_rdd.collect())"
      ]
    },
    {
      "cell_type": "markdown",
      "id": "e077bba8",
      "metadata": {
        "id": "e077bba8"
      },
      "source": [
        "## Module 2: RDDs & Transformations"
      ]
    },
    {
      "cell_type": "code",
      "execution_count": 16,
      "id": "ddcd6df8",
      "metadata": {
        "id": "ddcd6df8"
      },
      "outputs": [],
      "source": [
        "feedback = spark.sparkContext.parallelize([\n",
        "    \"Ravi from Bangalore loved the delivery\",\n",
        "    \"Meena from Hyderabad had a late order\",\n",
        "    \"Ajay from Pune liked the service\",\n",
        "    \"Anjali from Delhi faced UI issues\",\n",
        "    \"Rohit from Mumbai gave positive feedback\"\n",
        "])"
      ]
    },
    {
      "cell_type": "code",
      "execution_count": 20,
      "id": "df007dd6",
      "metadata": {
        "colab": {
          "base_uri": "https://localhost:8080/"
        },
        "id": "df007dd6",
        "outputId": "69257f79-34fd-4bd1-af5f-ca51cd1fc681"
      },
      "outputs": [
        {
          "output_type": "stream",
          "name": "stdout",
          "text": [
            "['Ravi', 'from', 'Bangalore', 'loved', 'the', 'delivery', 'Meena', 'from', 'Hyderabad', 'had', 'a', 'late', 'order', 'Ajay', 'from', 'Pune', 'liked', 'the', 'service', 'Anjali', 'from', 'Delhi', 'faced', 'UI', 'issues', 'Rohit', 'from', 'Mumbai', 'gave', 'positive', 'feedback']\n"
          ]
        }
      ],
      "source": [
        "words = feedback.flatMap(lambda line: line.split(\" \"))\n",
        "print(words.collect())"
      ]
    },
    {
      "cell_type": "code",
      "execution_count": 24,
      "id": "11d65ded",
      "metadata": {
        "colab": {
          "base_uri": "https://localhost:8080/"
        },
        "id": "11d65ded",
        "outputId": "1a9e671a-5ddb-4093-80ef-ec61ce9ac1c0"
      },
      "outputs": [
        {
          "output_type": "stream",
          "name": "stdout",
          "text": [
            "['Ravi', 'Bangalore', 'loved', 'delivery', 'Meena', 'Hyderabad', 'late', 'order', 'Ajay', 'Pune', 'liked', 'service', 'Anjali', 'Delhi', 'faced', 'UI', 'issues', 'Rohit', 'Mumbai', 'gave', 'positive', 'feedback']\n"
          ]
        }
      ],
      "source": [
        "stop_words = {\"from\", \"the\", \"a\", \"had\", \"and\", \"of\"}\n",
        "filtered_words = words.filter(lambda w: w.lower() not in stop_words)\n",
        "print(filtered_words.collect())"
      ]
    },
    {
      "cell_type": "code",
      "execution_count": 30,
      "id": "e2bf7f88",
      "metadata": {
        "colab": {
          "base_uri": "https://localhost:8080/"
        },
        "id": "e2bf7f88",
        "outputId": "b29b2661-4e87-4f80-e902-66ca701f082a"
      },
      "outputs": [
        {
          "output_type": "stream",
          "name": "stdout",
          "text": [
            "[('loved', 1), ('liked', 1), ('service', 1), ('anjali', 1), ('faced', 1), ('issues', 1), ('rohit', 1), ('mumbai', 1), ('positive', 1), ('feedback', 1), ('ravi', 1), ('bangalore', 1), ('delivery', 1), ('meena', 1), ('hyderabad', 1), ('late', 1), ('order', 1), ('ajay', 1), ('pune', 1), ('delhi', 1), ('ui', 1), ('gave', 1)]\n"
          ]
        }
      ],
      "source": [
        "word_counts = filtered_words.map(lambda w: (w.lower(), 1)).reduceByKey(lambda a,b: a+b)\n",
        "print(word_counts.collect())"
      ]
    },
    {
      "cell_type": "code",
      "execution_count": 33,
      "id": "2b9fb546",
      "metadata": {
        "colab": {
          "base_uri": "https://localhost:8080/"
        },
        "id": "2b9fb546",
        "outputId": "829c2996-dde1-414a-8775-208f28adceba"
      },
      "outputs": [
        {
          "output_type": "stream",
          "name": "stdout",
          "text": [
            "[('loved', 1), ('liked', 1), ('service', 1)]\n"
          ]
        }
      ],
      "source": [
        "top3 = word_counts.takeOrdered(3, key=lambda x: -x[1])\n",
        "print(top3)"
      ]
    },
    {
      "cell_type": "markdown",
      "id": "142d0f40",
      "metadata": {
        "id": "142d0f40"
      },
      "source": [
        "## Module 3: DataFrames & Transformation (With Joins)"
      ]
    },
    {
      "cell_type": "code",
      "execution_count": 34,
      "id": "cb7b1968",
      "metadata": {
        "id": "cb7b1968"
      },
      "outputs": [],
      "source": [
        "from pyspark.sql.functions import col, when\n",
        "\n",
        "students = [(\"Amit\", \"10-A\", 89),\n",
        "            (\"Kavya\", \"10-B\", 92),\n",
        "            (\"Anjali\", \"10-A\", 78),\n",
        "            (\"Rohit\", \"10-B\", 85),\n",
        "            (\"Sneha\", \"10-C\", 80)]\n",
        "columns1 = [\"name\", \"section\", \"marks\"]\n",
        "df_students = spark.createDataFrame(students, columns1)\n",
        "\n",
        "attendance = [(\"Amit\", 24),\n",
        "              (\"Kavya\", 22),\n",
        "              (\"Anjali\", 20),\n",
        "              (\"Rohit\", 25),\n",
        "              (\"Sneha\", 19)]\n",
        "columns2 = [\"name\", \"days_present\"]\n",
        "df_attendance = spark.createDataFrame(attendance, columns2)"
      ]
    },
    {
      "cell_type": "code",
      "execution_count": 37,
      "id": "49bc73c8",
      "metadata": {
        "colab": {
          "base_uri": "https://localhost:8080/"
        },
        "id": "49bc73c8",
        "outputId": "867732cb-2acd-4063-ee3d-5185184771a1"
      },
      "outputs": [
        {
          "output_type": "stream",
          "name": "stdout",
          "text": [
            "+------+-------+-----+------------+\n",
            "|  name|section|marks|days_present|\n",
            "+------+-------+-----+------------+\n",
            "|  Amit|   10-A|   89|          24|\n",
            "|Anjali|   10-A|   78|          20|\n",
            "| Kavya|   10-B|   92|          22|\n",
            "| Rohit|   10-B|   85|          25|\n",
            "| Sneha|   10-C|   80|          19|\n",
            "+------+-------+-----+------------+\n",
            "\n"
          ]
        }
      ],
      "source": [
        "df_joined = df_students.join(df_attendance, on=\"name\")\n",
        "df_joined.show()"
      ]
    },
    {
      "cell_type": "code",
      "execution_count": 41,
      "id": "547b8387",
      "metadata": {
        "colab": {
          "base_uri": "https://localhost:8080/"
        },
        "id": "547b8387",
        "outputId": "b5e5b4d3-b6c4-4908-a1f9-09dd263e6c5a"
      },
      "outputs": [
        {
          "output_type": "stream",
          "name": "stdout",
          "text": [
            "+------+-------+-----+------------+---------------+\n",
            "|  name|section|marks|days_present|attendance_rate|\n",
            "+------+-------+-----+------------+---------------+\n",
            "|  Amit|   10-A|   89|          24|           0.96|\n",
            "|Anjali|   10-A|   78|          20|            0.8|\n",
            "| Kavya|   10-B|   92|          22|           0.88|\n",
            "| Rohit|   10-B|   85|          25|            1.0|\n",
            "| Sneha|   10-C|   80|          19|           0.76|\n",
            "+------+-------+-----+------------+---------------+\n",
            "\n"
          ]
        }
      ],
      "source": [
        "df_joined = df_joined.withColumn(\"attendance_rate\", col(\"days_present\")/25)\n",
        "df_joined.show()"
      ]
    },
    {
      "cell_type": "code",
      "execution_count": 45,
      "id": "96181d4d",
      "metadata": {
        "colab": {
          "base_uri": "https://localhost:8080/"
        },
        "id": "96181d4d",
        "outputId": "246bd62e-2997-45ed-f335-474519b8bcf1"
      },
      "outputs": [
        {
          "output_type": "stream",
          "name": "stdout",
          "text": [
            "+------+-------+-----+------------+---------------+-----+\n",
            "|  name|section|marks|days_present|attendance_rate|grade|\n",
            "+------+-------+-----+------------+---------------+-----+\n",
            "|  Amit|   10-A|   89|          24|           0.96|    B|\n",
            "|Anjali|   10-A|   78|          20|            0.8|    C|\n",
            "| Kavya|   10-B|   92|          22|           0.88|    A|\n",
            "| Rohit|   10-B|   85|          25|            1.0|    B|\n",
            "| Sneha|   10-C|   80|          19|           0.76|    B|\n",
            "+------+-------+-----+------------+---------------+-----+\n",
            "\n"
          ]
        }
      ],
      "source": [
        "df_joined = df_joined.withColumn(\n",
        "    \"grade\",\n",
        "    when(col(\"marks\") > 90, \"A\")\n",
        "    .when((col(\"marks\") >= 80) & (col(\"marks\") <= 90), \"B\")\n",
        "    .otherwise(\"C\")\n",
        ")\n",
        "df_joined.show()"
      ]
    },
    {
      "cell_type": "code",
      "execution_count": 50,
      "id": "dd6b9db7",
      "metadata": {
        "colab": {
          "base_uri": "https://localhost:8080/"
        },
        "id": "dd6b9db7",
        "outputId": "fc0fa906-9312-455d-a1c6-f18570f5e951"
      },
      "outputs": [
        {
          "output_type": "stream",
          "name": "stdout",
          "text": [
            "+-----+-------+-----+------------+---------------+-----+\n",
            "| name|section|marks|days_present|attendance_rate|grade|\n",
            "+-----+-------+-----+------------+---------------+-----+\n",
            "|Sneha|   10-C|   80|          19|           0.76|    B|\n",
            "+-----+-------+-----+------------+---------------+-----+\n",
            "\n"
          ]
        }
      ],
      "source": [
        "df_filtered = df_joined.filter((col(\"grade\").isin(\"A\",\"B\")) & (col(\"attendance_rate\") < 0.8))\n",
        "df_filtered.show()"
      ]
    },
    {
      "cell_type": "code",
      "execution_count": 52,
      "id": "9171eb16",
      "metadata": {
        "colab": {
          "base_uri": "https://localhost:8080/"
        },
        "id": "9171eb16",
        "outputId": "dd966a5e-de4e-42c3-9fea-3b88bea3641b"
      },
      "outputs": [
        {
          "output_type": "stream",
          "name": "stdout",
          "text": [
            "+------+-----+-------+---------+------+\n",
            "|emp_id| name|   dept|     city|salary|\n",
            "+------+-----+-------+---------+------+\n",
            "|   101| Anil|     IT|Bangalore| 80000|\n",
            "|   102|Kiran|     HR|   Mumbai| 65000|\n",
            "|   103|Deepa|Finance|  Chennai| 72000|\n",
            "+------+-----+-------+---------+------+\n",
            "\n"
          ]
        }
      ],
      "source": [
        "csv_data = \"emp_id,name,dept,city,salary\\n101,Anil,IT,Bangalore,80000\\n102,Kiran,HR,Mumbai,65000\\n103,Deepa,Finance,Chennai,72000\"\n",
        "with open(\"/content/employees.csv\", \"w\") as f:\n",
        "    f.write(csv_data)\n",
        "df_csv = spark.read.csv(\"/content/employees.csv\", header=True, inferSchema=True)\n",
        "df_csv.show()"
      ]
    },
    {
      "cell_type": "code",
      "execution_count": 70,
      "id": "19a48db2",
      "metadata": {
        "colab": {
          "base_uri": "https://localhost:8080/"
        },
        "id": "19a48db2",
        "outputId": "d905f222-9776-4a88-baa3-99055a06cbaa"
      },
      "outputs": [
        {
          "output_type": "stream",
          "name": "stdout",
          "text": [
            "+----+----+-------+------+\n",
            "|id  |name|contact|skills|\n",
            "+----+----+-------+------+\n",
            "|NULL|NULL|NULL   |NULL  |\n",
            "|NULL|NULL|NULL   |NULL  |\n",
            "|NULL|NULL|NULL   |NULL  |\n",
            "|NULL|NULL|NULL   |NULL  |\n",
            "|NULL|NULL|NULL   |NULL  |\n",
            "|NULL|NULL|NULL   |NULL  |\n",
            "|NULL|NULL|NULL   |NULL  |\n",
            "|NULL|NULL|NULL   |NULL  |\n",
            "|NULL|NULL|NULL   |NULL  |\n",
            "+----+----+-------+------+\n",
            "\n"
          ]
        }
      ],
      "source": [
        "from pyspark.sql.types import StructType, StructField, StringType, ArrayType, IntegerType\n",
        "\n",
        "json_data = '''{\n",
        "  \"id\": 201,\n",
        "  \"name\": \"Nandini\",\n",
        "  \"contact\": {\n",
        "    \"email\": \"nandi@example.com\",\n",
        "    \"city\": \"Hyderabad\"\n",
        "  },\n",
        "  \"skills\": [\"Python\", \"Spark\", \"SQL\"]\n",
        "}'''\n",
        "with open(\"/content/employee.json\", \"w\") as f:\n",
        "    f.write(json_data)\n",
        "\n",
        "schema = StructType([\n",
        "    StructField(\"id\", IntegerType(), True),\n",
        "    StructField(\"name\", StringType(), True),\n",
        "    StructField(\"contact\", StructType([\n",
        "        StructField(\"email\", StringType(), True),\n",
        "        StructField(\"city\", StringType(), True)\n",
        "    ]), True),\n",
        "    StructField(\"skills\", ArrayType(StringType()), True)\n",
        "])\n",
        "\n",
        "df_json = spark.read.schema(schema).json(\"/content/employee.json\")\n",
        "df_json.show(truncate=False)"
      ]
    },
    {
      "cell_type": "code",
      "execution_count": 71,
      "id": "276a895c",
      "metadata": {
        "colab": {
          "base_uri": "https://localhost:8080/"
        },
        "id": "276a895c",
        "outputId": "ef77ee13-7607-4b57-959c-2fcc3354af5e"
      },
      "outputs": [
        {
          "output_type": "stream",
          "name": "stdout",
          "text": [
            "+---+----+-----+----+-----+\n",
            "| id|name|email|city|skill|\n",
            "+---+----+-----+----+-----+\n",
            "+---+----+-----+----+-----+\n",
            "\n"
          ]
        }
      ],
      "source": [
        "\n",
        "# Flatten nested JSON\n",
        "from pyspark.sql.functions import col, explode\n",
        "df_flattened = df_json.select(\n",
        "    col(\"id\"),\n",
        "    col(\"name\"),\n",
        "    col(\"contact.email\").alias(\"email\"),\n",
        "    col(\"contact.city\").alias(\"city\"),\n",
        "    explode(col(\"skills\")).alias(\"skill\")\n",
        ")\n",
        "df_flattened.show()\n"
      ]
    },
    {
      "cell_type": "code",
      "execution_count": 74,
      "id": "c1178730",
      "metadata": {
        "id": "c1178730"
      },
      "outputs": [],
      "source": [
        "df_csv.write.partitionBy(\"city\").parquet(\"/content/output/employees/sa\")\n",
        "df_flattened.write.partitionBy(\"city\").parquet(\"/content/output/employee_skills/sa\")"
      ]
    },
    {
      "cell_type": "code",
      "execution_count": 77,
      "id": "0da6c403",
      "metadata": {
        "id": "0da6c403"
      },
      "outputs": [],
      "source": [
        "df_students.createOrReplaceTempView(\"students_view\")"
      ]
    },
    {
      "cell_type": "code",
      "execution_count": 81,
      "id": "e03004da",
      "metadata": {
        "colab": {
          "base_uri": "https://localhost:8080/"
        },
        "id": "e03004da",
        "outputId": "59f5356d-ffe4-4cdf-9f7e-8e703062dba4"
      },
      "outputs": [
        {
          "output_type": "stream",
          "name": "stdout",
          "text": [
            "+-------+---------+\n",
            "|section|avg_marks|\n",
            "+-------+---------+\n",
            "|   10-A|     83.5|\n",
            "|   10-B|     88.5|\n",
            "|   10-C|     80.0|\n",
            "+-------+---------+\n",
            "\n"
          ]
        }
      ],
      "source": [
        "spark.sql(\"SELECT section, AVG(marks) as avg_marks FROM students_view GROUP BY section\").show()"
      ]
    },
    {
      "cell_type": "code",
      "execution_count": 84,
      "id": "59a9495d",
      "metadata": {
        "colab": {
          "base_uri": "https://localhost:8080/"
        },
        "id": "59a9495d",
        "outputId": "b784f0ce-1709-4a5a-c651-03e322d50fb4"
      },
      "outputs": [
        {
          "output_type": "stream",
          "name": "stdout",
          "text": [
            "+-------+-----+-----+\n",
            "|section| name|marks|\n",
            "+-------+-----+-----+\n",
            "|   10-A| Amit|   89|\n",
            "|   10-B|Kavya|   92|\n",
            "|   10-C|Sneha|   80|\n",
            "+-------+-----+-----+\n",
            "\n"
          ]
        }
      ],
      "source": [
        "spark.sql(\"SELECT section, name, marks FROM (SELECT *, ROW_NUMBER() OVER (PARTITION BY section ORDER BY marks DESC) as rn FROM students_view) WHERE rn = 1\").show()"
      ]
    },
    {
      "cell_type": "code",
      "execution_count": 91,
      "id": "f568109c",
      "metadata": {
        "colab": {
          "base_uri": "https://localhost:8080/"
        },
        "id": "f568109c",
        "outputId": "0ca704d8-1a6a-4df5-e6b5-05c7dab63ba3"
      },
      "outputs": [
        {
          "output_type": "stream",
          "name": "stdout",
          "text": [
            "+-----+-------------+\n",
            "|grade|student_count|\n",
            "+-----+-------------+\n",
            "|    B|            3|\n",
            "|    A|            1|\n",
            "|    C|            1|\n",
            "+-----+-------------+\n",
            "\n"
          ]
        }
      ],
      "source": [
        "spark.sql(\"SELECT grade, COUNT(*) as student_count FROM (SELECT name, CASE WHEN marks > 90 THEN 'A' WHEN marks >= 80 THEN 'B' ELSE 'C' END as grade FROM students_view) GROUP BY grade\").show()"
      ]
    },
    {
      "cell_type": "code",
      "execution_count": 95,
      "id": "41595dcd",
      "metadata": {
        "colab": {
          "base_uri": "https://localhost:8080/"
        },
        "id": "41595dcd",
        "outputId": "59e100fb-0054-48da-e2fa-604b6aa4b4bd"
      },
      "outputs": [
        {
          "output_type": "stream",
          "name": "stdout",
          "text": [
            "+-----+-------+-----+\n",
            "| name|section|marks|\n",
            "+-----+-------+-----+\n",
            "| Amit|   10-A|   89|\n",
            "|Kavya|   10-B|   92|\n",
            "|Rohit|   10-B|   85|\n",
            "+-----+-------+-----+\n",
            "\n"
          ]
        }
      ],
      "source": [
        "spark.sql(\"SELECT * FROM students_view WHERE marks > (SELECT AVG(marks) FROM students_view)\").show()\n"
      ]
    },
    {
      "cell_type": "code",
      "execution_count": 99,
      "id": "29881e1e",
      "metadata": {
        "colab": {
          "base_uri": "https://localhost:8080/"
        },
        "id": "29881e1e",
        "outputId": "611faf92-5c28-48fc-9297-c60d4b5e9541"
      },
      "outputs": [
        {
          "output_type": "stream",
          "name": "stdout",
          "text": [
            "+------+-------+-----+------------+------------------+\n",
            "|  name|section|marks|days_present|          adj_perf|\n",
            "+------+-------+-----+------------+------------------+\n",
            "|  Amit|   10-A|   89|          24|             85.44|\n",
            "|Anjali|   10-A|   78|          20|62.400000000000006|\n",
            "| Kavya|   10-B|   92|          22|             80.96|\n",
            "| Rohit|   10-B|   85|          25|              85.0|\n",
            "| Sneha|   10-C|   80|          19|              60.8|\n",
            "+------+-------+-----+------------+------------------+\n",
            "\n"
          ]
        }
      ],
      "source": [
        "\n",
        "df_attendance.createOrReplaceTempView(\"attendance_view\")\n",
        "spark.sql(\"SELECT s.name, s.section, s.marks, a.days_present, (s.marks * (a.days_present/25)) as adj_perf FROM students_view s JOIN attendance_view a ON s.name = a.name\").show()\n"
      ]
    },
    {
      "cell_type": "code",
      "execution_count": 100,
      "id": "e111b3b9",
      "metadata": {
        "id": "e111b3b9"
      },
      "outputs": [],
      "source": [
        "df_students.write.partitionBy(\"section\").parquet(\"/content/output/students/\")\n"
      ]
    },
    {
      "cell_type": "code",
      "execution_count": 102,
      "id": "9eaa8084",
      "metadata": {
        "id": "9eaa8084"
      },
      "outputs": [],
      "source": [
        "incremental = [(\"Tejas\", \"10-A\", 91)]\n",
        "df_inc = spark.createDataFrame(incremental, [\"name\", \"section\", \"marks\"])\n",
        "df_inc.write.mode(\"append\").partitionBy(\"section\").parquet(\"/content/output/students/\")\n"
      ]
    },
    {
      "cell_type": "code",
      "execution_count": 103,
      "id": "652ca182",
      "metadata": {
        "colab": {
          "base_uri": "https://localhost:8080/"
        },
        "id": "652ca182",
        "outputId": "800b9c12-933a-477a-afec-d57439eae520"
      },
      "outputs": [
        {
          "output_type": "stream",
          "name": "stdout",
          "text": [
            "/content/output/students/._SUCCESS.crc\n",
            "/content/output/students/_SUCCESS\n",
            "/content/output/students/section=10-A/.part-00001-498ba4c0-371e-4b45-a179-a82263a78564.c000.snappy.parquet.crc\n",
            "/content/output/students/section=10-A/.part-00000-2c2e59fa-08fd-4140-a93a-2baa846bd2b8.c000.snappy.parquet.crc\n",
            "/content/output/students/section=10-A/part-00001-8301ea02-c4d1-4285-b978-880b0e761691.c000.snappy.parquet\n",
            "/content/output/students/section=10-A/part-00001-2c2e59fa-08fd-4140-a93a-2baa846bd2b8.c000.snappy.parquet\n",
            "/content/output/students/section=10-A/part-00001-498ba4c0-371e-4b45-a179-a82263a78564.c000.snappy.parquet\n",
            "/content/output/students/section=10-A/part-00000-2c2e59fa-08fd-4140-a93a-2baa846bd2b8.c000.snappy.parquet\n",
            "/content/output/students/section=10-A/.part-00001-2c2e59fa-08fd-4140-a93a-2baa846bd2b8.c000.snappy.parquet.crc\n",
            "/content/output/students/section=10-A/.part-00001-8301ea02-c4d1-4285-b978-880b0e761691.c000.snappy.parquet.crc\n",
            "/content/output/students/section=10-B/.part-00000-2c2e59fa-08fd-4140-a93a-2baa846bd2b8.c000.snappy.parquet.crc\n",
            "/content/output/students/section=10-B/part-00001-2c2e59fa-08fd-4140-a93a-2baa846bd2b8.c000.snappy.parquet\n",
            "/content/output/students/section=10-B/part-00000-2c2e59fa-08fd-4140-a93a-2baa846bd2b8.c000.snappy.parquet\n",
            "/content/output/students/section=10-B/.part-00001-2c2e59fa-08fd-4140-a93a-2baa846bd2b8.c000.snappy.parquet.crc\n",
            "/content/output/students/section=10-C/part-00001-2c2e59fa-08fd-4140-a93a-2baa846bd2b8.c000.snappy.parquet\n",
            "/content/output/students/section=10-C/.part-00001-2c2e59fa-08fd-4140-a93a-2baa846bd2b8.c000.snappy.parquet.crc\n"
          ]
        }
      ],
      "source": [
        "import os\n",
        "for root, dirs, files in os.walk(\"/content/output/students/\"):\n",
        "    for file in files:\n",
        "        print(os.path.join(root, file))\n"
      ]
    },
    {
      "cell_type": "code",
      "execution_count": 108,
      "id": "498d7ecb",
      "metadata": {
        "colab": {
          "base_uri": "https://localhost:8080/"
        },
        "id": "498d7ecb",
        "outputId": "9a502360-03e1-4fd6-f068-b2219edf8866"
      },
      "outputs": [
        {
          "output_type": "stream",
          "name": "stdout",
          "text": [
            "+------+-----+\n",
            "|  name|marks|\n",
            "+------+-----+\n",
            "|Anjali|   78|\n",
            "| Tejas|   91|\n",
            "| Tejas|   91|\n",
            "|  Amit|   89|\n",
            "+------+-----+\n",
            "\n"
          ]
        }
      ],
      "source": [
        "df_10A = spark.read.parquet(\"/content/output/students/section=10-A/\")\n",
        "df_10A.show()\n"
      ]
    },
    {
      "cell_type": "code",
      "execution_count": 111,
      "id": "da045cc0",
      "metadata": {
        "colab": {
          "base_uri": "https://localhost:8080/"
        },
        "id": "da045cc0",
        "outputId": "b654a7e5-015b-48bb-e1c9-9137ab19e0f8"
      },
      "outputs": [
        {
          "output_type": "stream",
          "name": "stdout",
          "text": [
            "Count after incremental load: 4\n"
          ]
        }
      ],
      "source": [
        "print(\"Count after incremental load:\", df_10A.count())\n"
      ]
    },
    {
      "cell_type": "code",
      "execution_count": 113,
      "id": "f573f4f1",
      "metadata": {
        "colab": {
          "base_uri": "https://localhost:8080/"
        },
        "id": "f573f4f1",
        "outputId": "0ce02f91-f04a-44b5-9d26-8c8c0ddef312"
      },
      "outputs": [
        {
          "output_type": "stream",
          "name": "stdout",
          "text": [
            "+------+------+-------+------+-----+\n",
            "|emp_id|  name|   dept|salary|bonus|\n",
            "+------+------+-------+------+-----+\n",
            "|     1| Arjun|     IT| 75000| 5000|\n",
            "|     2| Kavya|     HR| 62000| NULL|\n",
            "|     3| Sneha|Finance| 68000| 4000|\n",
            "|     4|Ramesh|  Sales| 58000| NULL|\n",
            "+------+------+-------+------+-----+\n",
            "\n"
          ]
        }
      ],
      "source": [
        "etl_csv = \"emp_id,name,dept,salary,bonus\\n1,Arjun,IT,75000,5000\\n2,Kavya,HR,62000,\\n3,Sneha,Finance,68000,4000\\n4,Ramesh,Sales,58000,\"\n",
        "with open(\"/content/etl.csv\", \"w\") as f:\n",
        "    f.write(etl_csv)\n",
        "df_etl = spark.read.csv(\"/content/etl.csv\", header=True, inferSchema=True)\n",
        "df_etl.show()\n"
      ]
    },
    {
      "cell_type": "code",
      "execution_count": 117,
      "id": "258ef920",
      "metadata": {
        "colab": {
          "base_uri": "https://localhost:8080/"
        },
        "id": "258ef920",
        "outputId": "5d427c72-cab6-4562-a843-c0670ca1932a"
      },
      "outputs": [
        {
          "output_type": "stream",
          "name": "stdout",
          "text": [
            "+------+------+-------+------+-----+\n",
            "|emp_id|  name|   dept|salary|bonus|\n",
            "+------+------+-------+------+-----+\n",
            "|     1| Arjun|     IT| 75000| 5000|\n",
            "|     2| Kavya|     HR| 62000| 2000|\n",
            "|     3| Sneha|Finance| 68000| 4000|\n",
            "|     4|Ramesh|  Sales| 58000| 2000|\n",
            "+------+------+-------+------+-----+\n",
            "\n"
          ]
        }
      ],
      "source": [
        "df_etl = df_etl.fillna({\"bonus\": 2000})\n",
        "df_etl.show()\n"
      ]
    },
    {
      "cell_type": "code",
      "execution_count": 121,
      "id": "0acdd7e6",
      "metadata": {
        "colab": {
          "base_uri": "https://localhost:8080/"
        },
        "id": "0acdd7e6",
        "outputId": "eebf9402-7dc4-494b-8d1e-82c6bc924dbf"
      },
      "outputs": [
        {
          "output_type": "stream",
          "name": "stdout",
          "text": [
            "+------+------+-------+------+-----+---------+\n",
            "|emp_id|  name|   dept|salary|bonus|total_ctc|\n",
            "+------+------+-------+------+-----+---------+\n",
            "|     1| Arjun|     IT| 75000| 5000|    80000|\n",
            "|     2| Kavya|     HR| 62000| 2000|    64000|\n",
            "|     3| Sneha|Finance| 68000| 4000|    72000|\n",
            "|     4|Ramesh|  Sales| 58000| 2000|    60000|\n",
            "+------+------+-------+------+-----+---------+\n",
            "\n"
          ]
        }
      ],
      "source": [
        "df_etl = df_etl.withColumn(\"total_ctc\", col(\"salary\") + col(\"bonus\"))\n",
        "df_etl.show()\n"
      ]
    },
    {
      "cell_type": "code",
      "execution_count": 125,
      "id": "f2d43a3c",
      "metadata": {
        "colab": {
          "base_uri": "https://localhost:8080/"
        },
        "id": "f2d43a3c",
        "outputId": "cc5416d6-e355-49c0-bfc6-f927586ea9f1"
      },
      "outputs": [
        {
          "output_type": "stream",
          "name": "stdout",
          "text": [
            "+------+-----+-------+------+-----+---------+\n",
            "|emp_id| name|   dept|salary|bonus|total_ctc|\n",
            "+------+-----+-------+------+-----+---------+\n",
            "|     1|Arjun|     IT| 75000| 5000|    80000|\n",
            "|     3|Sneha|Finance| 68000| 4000|    72000|\n",
            "+------+-----+-------+------+-----+---------+\n",
            "\n"
          ]
        }
      ],
      "source": [
        "df_filtered = df_etl.filter(col(\"total_ctc\") > 65000)\n",
        "df_filtered.show()\n"
      ]
    },
    {
      "cell_type": "code",
      "execution_count": 139,
      "id": "d2d6d548",
      "metadata": {
        "id": "d2d6d548"
      },
      "outputs": [],
      "source": [
        "df_filtered.write.json(\"/content/output/etl_json/sa\")\n",
        "df_filtered.write.partitionBy(\"dept\").parquet(\"/content/output/etl_parquet/sa\")\n"
      ]
    }
  ],
  "metadata": {
    "colab": {
      "provenance": []
    },
    "language_info": {
      "name": "python"
    },
    "kernelspec": {
      "name": "python3",
      "display_name": "Python 3"
    }
  },
  "nbformat": 4,
  "nbformat_minor": 5
}